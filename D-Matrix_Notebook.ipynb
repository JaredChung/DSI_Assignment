{
 "cells": [
  {
   "cell_type": "markdown",
   "metadata": {},
   "source": [
    "# DSI Assessment 2 - Quantified Self"
   ]
  },
  {
   "cell_type": "code",
   "execution_count": 147,
   "metadata": {
    "collapsed": false,
    "scrolled": true
   },
   "outputs": [
    {
     "data": {
      "text/html": [
       "<script>\n",
       "code_show=true; \n",
       "function code_toggle() {\n",
       " if (code_show){\n",
       " $('div.input').hide();\n",
       " } else {\n",
       " $('div.input').show();\n",
       " }\n",
       " code_show = !code_show\n",
       "} \n",
       "$( document ).ready(code_toggle);\n",
       "</script>\n",
       "<form action=\"javascript:code_toggle()\"><input type=\"submit\" value=\"Click here to toggle on/off the raw code.\"></form>"
      ],
      "text/plain": [
       "<IPython.core.display.HTML object>"
      ]
     },
     "execution_count": 147,
     "metadata": {},
     "output_type": "execute_result"
    }
   ],
   "source": [
    "from IPython.display import HTML\n",
    "\n",
    "HTML('''<script>\n",
    "code_show=true; \n",
    "function code_toggle() {\n",
    " if (code_show){\n",
    " $('div.input').hide();\n",
    " } else {\n",
    " $('div.input').show();\n",
    " }\n",
    " code_show = !code_show\n",
    "} \n",
    "$( document ).ready(code_toggle);\n",
    "</script>\n",
    "<form action=\"javascript:code_toggle()\"><input type=\"submit\" value=\"Click here to toggle on/off the raw code.\"></form>''')"
   ]
  },
  {
   "cell_type": "markdown",
   "metadata": {},
   "source": [
    "<b> \n",
    "\n",
    "Table of Contents:\n",
    "\n",
    "* Part 1: Introduction\n",
    "* Part 2: Collecting data\n",
    "* Part 3: Text Pre-processing\n",
    "* Part 4: Term Frequencies\n",
    "* Part 5: Rugby and Term Co-Occurrences\n",
    "* Part 6: Data Visualisation Basics\n",
    "* Part 7: Sentiment Analysis Basics\n",
    "\n",
    "</b>"
   ]
  },
  {
   "cell_type": "markdown",
   "metadata": {},
   "source": [
    "## Part 1 Introduction"
   ]
  },
  {
   "cell_type": "markdown",
   "metadata": {},
   "source": [
    "### Background"
   ]
  },
  {
   "cell_type": "markdown",
   "metadata": {},
   "source": [
    "The purpose of this project is to gain insight into how we as individuals play a role in a collaborating on a data science endeavour. The data we will be collecting is the Slack chat conversations and JIRA issue tickets to get an understanding of the language used whilst collaborating. We will be using the CRISP-DM reference model for this data science project. A final report on our findings is to be presented."
   ]
  },
  {
   "cell_type": "code",
   "execution_count": null,
   "metadata": {
    "collapsed": true
   },
   "outputs": [],
   "source": []
  },
  {
   "cell_type": "markdown",
   "metadata": {},
   "source": [
    "#### Slack"
   ]
  },
  {
   "cell_type": "code",
   "execution_count": null,
   "metadata": {
    "collapsed": true
   },
   "outputs": [],
   "source": []
  },
  {
   "cell_type": "markdown",
   "metadata": {},
   "source": [
    "## Part 2 Collecting Data"
   ]
  },
  {
   "cell_type": "markdown",
   "metadata": {},
   "source": [
    "This part is about exporting the information and processing it in a matter which can be later processed and explored"
   ]
  },
  {
   "cell_type": "code",
   "execution_count": 1,
   "metadata": {
    "collapsed": false
   },
   "outputs": [],
   "source": [
    "import pandas as pd # Data Munging tool\n",
    "import os # Operating System functionality\n",
    "import glob # Finds all pathnames e.g(.json)\n",
    "import re # Regular Expression\n",
    "import matplotlib.pyplot as plt\n",
    "import seaborn as sns\n",
    "from sklearn.feature_extraction.text import CountVectorizer\n",
    "from sklearn.feature_extraction.text import TfidfVectorizer # Combines both Count Vectorizer and Tfidf Transformer\n",
    "from nltk.corpus import stopwords\n",
    "from nltk.stem import WordNetLemmatizer\n",
    "\n",
    "plt.style.use('ggplot')\n",
    "%matplotlib inline"
   ]
  },
  {
   "cell_type": "code",
   "execution_count": 2,
   "metadata": {
    "collapsed": false,
    "scrolled": true
   },
   "outputs": [],
   "source": [
    "#users = pd.read_json(\"C:/users/Jared Chung/Desktop/D-Matrix/users.json\") #Laptop\n",
    "users = pd.read_json(\"C:/users/jchung/desktop/D-Matrix//users.json\") #Work"
   ]
  },
  {
   "cell_type": "code",
   "execution_count": 41,
   "metadata": {
    "collapsed": false
   },
   "outputs": [
    {
     "name": "stdout",
     "output_type": "stream",
     "text": [
      "36100-dsi\n",
      "36100-dsi-photos\n",
      "36103-statistics\n",
      "36106-dam\n",
      "File contains extenstion\n",
      "File contains extenstion\n",
      "crisp-businessknow\n",
      "crisp-dataknow\n",
      "crisp-dataprep\n",
      "crisp-deploy\n",
      "crisp-eval\n",
      "crisp-modelling\n",
      "dam\n",
      "dsi\n",
      "dsi-assignment-2a\n",
      "general\n",
      "File contains extenstion\n",
      "jira-discussion\n",
      "python_instructions\n",
      "random\n",
      "story-telling\n",
      "File contains extenstion\n",
      "File contains extenstion\n",
      "File contains extenstion\n"
     ]
    }
   ],
   "source": [
    "#path_to_json = 'C:/users/Jared Chung/Desktop/D-Matrix/' #Laptop\n",
    "path_to_json = 'C:/users/jchung/desktop/D-Matrix/' #Work\n",
    "json_dir = os.listdir(path_to_json)\n",
    "#del json_dir[0] ### do this step only if u have a mac and need to get rid of .DS Store folder\n",
    "data = pd.DataFrame()\n",
    "for file in json_dir:\n",
    "    if \".\" not in file: \n",
    "        print (file)\n",
    "        all_files = glob.glob(os.path.join(path_to_json + file + '/', \"*.json\"))\n",
    "        df = pd.concat((pd.read_json(f) for f in all_files)) \n",
    "        df['channel'] = file\n",
    "        df['ts'] = pd.to_datetime(df['ts'],unit='s')\n",
    "        df2 = pd.DataFrame(df, columns = ['user','ts','channel','text'])\n",
    "        data = data.append(df2)\n",
    "    else:\n",
    "        print \"File contains extenstion\""
   ]
  },
  {
   "cell_type": "markdown",
   "metadata": {},
   "source": [
    "## Part 3 Text Preprocessing"
   ]
  },
  {
   "cell_type": "markdown",
   "metadata": {},
   "source": [
    "### Stemming and Lemmatizing"
   ]
  },
  {
   "cell_type": "markdown",
   "metadata": {},
   "source": [
    "http://www.lnse.org/papers/134-I3007.pdf\n",
    "\n",
    "D. A. Hull, “Stemming algorithms: A case study for detailed\n",
    "evaluation,” Journal of the American Society for Information Science,\n",
    "vol. 47, pp. 70-84, 1996."
   ]
  },
  {
   "cell_type": "markdown",
   "metadata": {},
   "source": [
    "One of the issues that arises in natural language processing is that words have morphligical variants which will not be recognised by term matching alogrithms (Hull 1996). This means you could have words like organize, organizes, and organizing all have the same meaning but won't be grouped together. \n",
    "\n",
    "Some of the techniques used to tackle this problem include Stemming and Lemmatizing\n"
   ]
  },
  {
   "cell_type": "markdown",
   "metadata": {},
   "source": [
    "<b> Copy from Duhita Document Need to Paraphrase </b>\n",
    "\n",
    "Stemming and Lemmatization\n",
    "In linguistics and information retrieval systems, the process of reducing inflectional and derivational forms of words to a common base is called stemming and lemmatization.\n",
    "Stemming is a process that chops off the ends of the words in the hope of achieving this goal correctly most of the time, and often includes the removal of derivational affixes. Lemmatization usually refers to doing things properly with the use of a vocabulary and morphological analysis of words, aiming to remove inflectional endings only and to return the base or dictionary form of a word, which is known as the lemma. (Manning et al. 2008). \n",
    "\n",
    "There are generally 2 types of errors that can error while performing stemming operations. Under Stemming could occur when the 2 words with the same interpretation are not stemmed to the same root. Over Stemming could occur when the 2 words with different interpretation are stemmed to the same root.(Jivani & others 2011).\n",
    "Types of Stemming Algorithm are\n",
    "•\tTruncating: It is a simple stripping technique which removes the affixes after the nth symbol. Different algorithms in this class are Lovins, Porters, Paice, Dawson\n",
    "•\tStatistical: Methods which removes affixes after statistical procedures examples being N-Gram, HMM, YASSM\n",
    "•\tMixed: approach to stemming and it involves both the inflectional as well as the derivational morphology consideration. Some of the mixed algorithms are Inflectional and Derivational, Corpus Based, Context Sensitive\n",
    "As shown in the study “A Survey on various Stemming Algorithms” (Singh & Pateriya n.d.) that none of the above mentioned stemmers give 100% productivity but are satisfactory useful to the text mining, Natural Language Processing(NLP) or Information Retrieval(IR) applications. \n",
    "The New Porter stemmer performs much better than the original stemmer and other English stemmers(Karaa 2013) and hence we decided to choose Porter’s stemmer algorithm for our project. The first one as in Porter stemmer handles inflectional morphology (plural, verb conjugation, etc.). The second step treats derivational morphology; it maps complex suffixes (suffixes compound of more than one suffix) to a single suffix from which they were derived (e.g. transform the suffix –istic to –ist). The third step deletes simple suffixes (uncompounded suffixes). The fourth step defines a set of recoding rules to normalize stems. The last step treats irregular forms that do not follow any pattern.\n",
    "\n",
    "\n"
   ]
  },
  {
   "cell_type": "markdown",
   "metadata": {},
   "source": [
    "\n",
    "Refrerences\n",
    "Jivani, A.G. & others 2011, 'A comparative study of stemming algorithms', Int. J. Comp. Tech. Appl, vol. 2, no. 6, pp. 1930–8.\n",
    "Karaa, W.B.A. 2013, 'A new stemmer to improve information retrieval', International Journal of Network Security & Its Applications, vol. 5, no. 4, p. 143.\n",
    "Manning, C.D., Raghavan, P., Schütze, H. & others 2008, Introduction to information retrieval, vol. 1, Cambridge university press Cambridge, viewed 8 May 2016, <http://www.langtoninfo.co.uk/web_content/9780521865715_frontmatter.pdf>.\n",
    "Singh, S. & Pateriya, R.K. n.d., A Survey on various Stemming Algorithms, viewed 8 May 2016, <http://www.ijcert.org/V2I57.pdf>.\n",
    "\n"
   ]
  },
  {
   "cell_type": "code",
   "execution_count": 35,
   "metadata": {
    "collapsed": false
   },
   "outputs": [],
   "source": [
    "lemma = WordNetLemmatizer()\n",
    "\n",
    "def lemma_tokens(tokens, lemma):\n",
    "    lemmatized = []\n",
    "    for item in tokens:\n",
    "        lemmatized.append(lemma.lemmatize(item))\n",
    "    return lemmatized"
   ]
  },
  {
   "cell_type": "markdown",
   "metadata": {},
   "source": [
    "### Stopwords"
   ]
  },
  {
   "cell_type": "markdown",
   "metadata": {},
   "source": [
    "Need to Paraphrase below"
   ]
  },
  {
   "cell_type": "markdown",
   "metadata": {},
   "source": [
    "\"\"\"In every language, some words are particularly common. While their use in the language is crucial, they don’t usually convey a particular meaning, especially if taken out of context. This is the case of articles, conjunctions, some adverbs, etc. which are commonly called stop-words. In the example above, we can see three common stop-words – to, and and on. Stop-word removal is one important step that should be considered during the pre-processing stages. One can build a custom list of stop-words, or use available lists (e.g. NLTK provides a simple list for English stop-words).\"\"\""
   ]
  },
  {
   "cell_type": "code",
   "execution_count": 15,
   "metadata": {
    "collapsed": true
   },
   "outputs": [],
   "source": [
    "stops = set(stopwords.words(\"english\"))"
   ]
  },
  {
   "cell_type": "code",
   "execution_count": 169,
   "metadata": {
    "collapsed": false
   },
   "outputs": [],
   "source": [
    "def preprocessing(s):\n",
    "    \n",
    "    s = s.lower()\n",
    "    # Howdy to English\n",
    "    \n",
    "    s = re.sub(r'<http://(d-matrix.)?howdy.ai/([a-zA-ez]+/)+([a-zA-Z]|[0-9])+[|]','',s,re.I)\n",
    "    \n",
    "    # Links to Text\n",
    "    s = re.sub(r'((ht)|(f))tp[s]?://(?:[a-zA-Z]|[0-9]|[$-_@.&+]|[!*\\(\\),]|(?:%[0-9a-fA-F][0-9a-fA-F]))+','Sharing a link!',s,\n",
    "                  re.I)\n",
    "    # Mail to Text\n",
    "    s = re.sub(r'(mailto:)?[a-zA-Z0-9_.+-]+@[a-zA-Z0-9-]+\\.[a-zA-Z0-9-.]+','Here is my email!',s,re.I)\n",
    "    \n",
    "    \"\"\"\n",
    "    # Change Names for privacy\n",
    "    s = s.replace('@u0weaa087|jared', 'DataScientist2')\n",
    "    s = s.replace('@u0wdyeg6s|duhita', 'BusinessAnalyst')\n",
    "    s = s.replace('@u0x443ckz|chris.garces', 'DataScientist1')\n",
    "    s = s.replace('@u0wfhmem8|hussam', 'DataAnalyticsManager')\n",
    "    s = s.replace('@u0x6cuq3d|martinlehmann', 'ProjectManager')\n",
    "    \n",
    "    s = s.replace('u0weaa087', 'DataScientist2')\n",
    "    s = s.replace('u0wdyeg6s', 'BusinessAnalyst')\n",
    "    s = s.replace('u0x443ckz', 'DataScientist1')\n",
    "    s = s.replace('u0wfhmem8', 'DataAnalyticsManager')\n",
    "    s = s.replace('u0x6cuq3d', 'ProjectManager')\n",
    "    s = s.replace('u13aj8evd', 'BendertheScrumMaster')\n",
    "    s = s.replace('howdy', 'BendertheScrumMaster')\n",
    "    s = s.replace('duhita', 'BusinessAnalyst')\n",
    "    s = s.replace('jared', 'DataScientist2')\n",
    "    s = s.replace('martinlehmann', 'ProjectManager')\n",
    "    s = s.replace('martin','ProjectManager')\n",
    "    s = s.replace('hussam', 'DataAnalyticsManager')\n",
    "    s = s.replace('chris', 'DataScientist1')\n",
    "    s = s.replace('chris.garces', 'DataScientist1')\n",
    "    s = s.replace('martinlehmann', 'ProjectManager')\n",
    "    s = s.replace('ravi', 'Consultant')\n",
    "    \"\"\"\n",
    "    # Remove words that arent relevant\n",
    "    s = s.replace(\"channel\", \"\")\n",
    "    s = s.replace(\"file\", \"\")\n",
    "    s = s.replace(\"link\", \"\")\n",
    "    \n",
    "    # Remove everything that isnt a \n",
    "    s = re.sub(r'[^a-zA-Z]',\" \",s)\n",
    "    \n",
    "\n",
    "    s = s.replace(\"  \", \" \")\n",
    "    \n",
    "    word = s.split()\n",
    "    \n",
    "    word = [n for n in word if n not in stops]\n",
    "    \n",
    "    lemmas = lemma_tokens(word, lemma)\n",
    "    \n",
    "    return \" \".join(lemmas)\n",
    "    "
   ]
  },
  {
   "cell_type": "code",
   "execution_count": 170,
   "metadata": {
    "collapsed": false
   },
   "outputs": [],
   "source": [
    "data['clean_text'] = data.text.apply(lambda x: preprocessing(x))"
   ]
  },
  {
   "cell_type": "code",
   "execution_count": 121,
   "metadata": {
    "collapsed": false
   },
   "outputs": [],
   "source": [
    "data = pd.merge(data,users,left_on='user',right_on='id',how='inner')\n",
    "data = data[['user','ts','channel','text','name']]"
   ]
  },
  {
   "cell_type": "markdown",
   "metadata": {},
   "source": [
    "## Part 4 Term Frequency"
   ]
  },
  {
   "cell_type": "code",
   "execution_count": 172,
   "metadata": {
    "collapsed": false
   },
   "outputs": [
    {
     "data": {
      "text/html": [
       "<div>\n",
       "<table border=\"1\" class=\"dataframe\">\n",
       "  <thead>\n",
       "    <tr style=\"text-align: right;\">\n",
       "      <th></th>\n",
       "      <th>user</th>\n",
       "      <th>ts</th>\n",
       "      <th>channel</th>\n",
       "      <th>text</th>\n",
       "      <th>name</th>\n",
       "      <th>clean_text</th>\n",
       "    </tr>\n",
       "  </thead>\n",
       "  <tbody>\n",
       "    <tr>\n",
       "      <th>0</th>\n",
       "      <td>U0WEAA087</td>\n",
       "      <td>2016-04-03 23:32:26.000002</td>\n",
       "      <td>36100-dsi</td>\n",
       "      <td>&lt;@U0WEAA087|jared&gt; has joined the channel</td>\n",
       "      <td>jared</td>\n",
       "      <td>u weaa jared joined</td>\n",
       "    </tr>\n",
       "    <tr>\n",
       "      <th>1</th>\n",
       "      <td>U0WEAA087</td>\n",
       "      <td>2016-04-03 23:32:27.000003</td>\n",
       "      <td>36100-dsi</td>\n",
       "      <td>&lt;@U0WEAA087|jared&gt; set the channel purpose: Ch...</td>\n",
       "      <td>jared</td>\n",
       "      <td>u weaa jared set purpose dedicated data scienc...</td>\n",
       "    </tr>\n",
       "    <tr>\n",
       "      <th>2</th>\n",
       "      <td>U0WEAA087</td>\n",
       "      <td>2016-04-04 10:24:28.000009</td>\n",
       "      <td>36100-dsi</td>\n",
       "      <td>Yeah trying to get it done. I'm hoping to smas...</td>\n",
       "      <td>jared</td>\n",
       "      <td>yeah trying get done m hoping smash wednesday ...</td>\n",
       "    </tr>\n",
       "    <tr>\n",
       "      <th>3</th>\n",
       "      <td>U0WEAA087</td>\n",
       "      <td>2016-04-11 06:07:57.000119</td>\n",
       "      <td>36100-dsi</td>\n",
       "      <td>Hey Guys, sorry haven't been that active. I'm ...</td>\n",
       "      <td>jared</td>\n",
       "      <td>hey guy sorry haven active m fine excel knime ...</td>\n",
       "    </tr>\n",
       "    <tr>\n",
       "      <th>4</th>\n",
       "      <td>U0WEAA087</td>\n",
       "      <td>2016-04-11 06:11:39.000120</td>\n",
       "      <td>36100-dsi</td>\n",
       "      <td>&lt;http://nicomiceli.com/slackalytics/&gt; I might ...</td>\n",
       "      <td>jared</td>\n",
       "      <td>Sharing might look</td>\n",
       "    </tr>\n",
       "  </tbody>\n",
       "</table>\n",
       "</div>"
      ],
      "text/plain": [
       "        user                         ts    channel  \\\n",
       "0  U0WEAA087 2016-04-03 23:32:26.000002  36100-dsi   \n",
       "1  U0WEAA087 2016-04-03 23:32:27.000003  36100-dsi   \n",
       "2  U0WEAA087 2016-04-04 10:24:28.000009  36100-dsi   \n",
       "3  U0WEAA087 2016-04-11 06:07:57.000119  36100-dsi   \n",
       "4  U0WEAA087 2016-04-11 06:11:39.000120  36100-dsi   \n",
       "\n",
       "                                                text   name  \\\n",
       "0          <@U0WEAA087|jared> has joined the channel  jared   \n",
       "1  <@U0WEAA087|jared> set the channel purpose: Ch...  jared   \n",
       "2  Yeah trying to get it done. I'm hoping to smas...  jared   \n",
       "3  Hey Guys, sorry haven't been that active. I'm ...  jared   \n",
       "4  <http://nicomiceli.com/slackalytics/> I might ...  jared   \n",
       "\n",
       "                                          clean_text  \n",
       "0                                u weaa jared joined  \n",
       "1  u weaa jared set purpose dedicated data scienc...  \n",
       "2  yeah trying get done m hoping smash wednesday ...  \n",
       "3  hey guy sorry haven active m fine excel knime ...  \n",
       "4                                 Sharing might look  "
      ]
     },
     "execution_count": 172,
     "metadata": {},
     "output_type": "execute_result"
    }
   ],
   "source": [
    "#data[data.text.str.contains('@U13AJ8EVD')]\n",
    "data.head()"
   ]
  },
  {
   "cell_type": "markdown",
   "metadata": {},
   "source": [
    "### Tokenizing"
   ]
  },
  {
   "cell_type": "code",
   "execution_count": 173,
   "metadata": {
    "collapsed": false
   },
   "outputs": [
    {
     "name": "stdout",
     "output_type": "stream",
     "text": [
      "[(u'u', 28), (u'jared', 20), (u'yeah', 19), (u'weaa', 19), (u'word', 16), (u'm', 16), (u'joined', 15), (u'data', 15), (u'hey', 15), (u'like', 14), (u'think', 12), (u'll', 12), (u'one', 11), (u'duhita', 10), (u'guy', 9), (u'would', 9), (u'list', 9), (u'quite', 9), (u'look', 9), (u'well', 9)]\n"
     ]
    }
   ],
   "source": [
    "from collections import Counter\n",
    " \n",
    "\n",
    "count_all = Counter()\n",
    "for line in data[data.name == 'jared']['clean_text']:\n",
    "    # Create a list with all the terms\n",
    "    text = line.split()\n",
    "    # Update the counter\n",
    "    count_all.update(text)\n",
    "    # Print the first 5 most frequent words\n",
    "print(count_all.most_common(20))"
   ]
  },
  {
   "cell_type": "code",
   "execution_count": 171,
   "metadata": {
    "collapsed": false
   },
   "outputs": [
    {
     "data": {
      "text/plain": [
       "(-0.5, 1799.5, 1399.5, -0.5)"
      ]
     },
     "execution_count": 171,
     "metadata": {},
     "output_type": "execute_result"
    },
    {
     "data": {
      "image/png": "[encoded data removed]",
      "text/plain": [
       "<matplotlib.figure.Figure at 0x217a8400>"
      ]
     },
     "metadata": {},
     "output_type": "display_data"
    }
   ],
   "source": [
    "from wordcloud import WordCloud, STOPWORDS\n",
    "words = ' '.join(data[data.name == 'jared']['clean_text'])\n",
    "\n",
    "wordcloud = WordCloud(\n",
    "                      #font_path='/Users/sebastian/Library/Fonts/CabinSketch-Bold.ttf',\n",
    "                      stopwords=STOPWORDS,\n",
    "                      background_color='black',\n",
    "                      width=1800,\n",
    "                      height=1400\n",
    "                     ).generate(words)\n",
    "fig = plt.figure(figsize=(10,6))\n",
    "ax = fig.add_subplot(1,1,1)\n",
    "ax.imshow(wordcloud)\n",
    "plt.axis('off')\n",
    "#plt.savefig('./my_twitter_wordcloud_1.png', dpi=300)\n",
    "#plt.show()"
   ]
  },
  {
   "cell_type": "code",
   "execution_count": 32,
   "metadata": {
    "collapsed": true
   },
   "outputs": [],
   "source": [
    "count_vectorizer = CountVectorizer()\n",
    "\n",
    "def processtrain(x):\n",
    "    corpus = []\n",
    "    for text in x:\n",
    "        corpus.append(text)   \n",
    "        \n",
    "    count = count_vectorizer.fit_transform(corpus)\n",
    "    \n",
    "    return count\n",
    "\n",
    "count_text = processtrain(data)"
   ]
  },
  {
   "cell_type": "code",
   "execution_count": 33,
   "metadata": {
    "collapsed": false
   },
   "outputs": [
    {
     "data": {
      "text/plain": [
       "<4x4 sparse matrix of type '<type 'numpy.int64'>'\n",
       "\twith 4 stored elements in Compressed Sparse Row format>"
      ]
     },
     "execution_count": 33,
     "metadata": {},
     "output_type": "execute_result"
    }
   ],
   "source": [
    "count_text"
   ]
  },
  {
   "cell_type": "markdown",
   "metadata": {},
   "source": [
    "### Tf-idf"
   ]
  },
  {
   "cell_type": "code",
   "execution_count": null,
   "metadata": {
    "collapsed": true
   },
   "outputs": [],
   "source": []
  },
  {
   "cell_type": "code",
   "execution_count": null,
   "metadata": {
    "collapsed": true
   },
   "outputs": [],
   "source": []
  },
  {
   "cell_type": "code",
   "execution_count": 57,
   "metadata": {
    "collapsed": false,
    "scrolled": true
   },
   "outputs": [
    {
     "name": "stdout",
     "output_type": "stream",
     "text": [
      "<class 'pandas.core.frame.DataFrame'>\n",
      "Int64Index: 2940 entries, 0 to 2939\n",
      "Data columns (total 5 columns):\n",
      "user       2940 non-null object\n",
      "ts         2940 non-null datetime64[ns]\n",
      "channel    2940 non-null object\n",
      "text       2940 non-null object\n",
      "name       2940 non-null object\n",
      "dtypes: datetime64[ns](1), object(4)\n",
      "memory usage: 137.8+ KB\n"
     ]
    }
   ],
   "source": [
    "data.info()"
   ]
  },
  {
   "cell_type": "code",
   "execution_count": 58,
   "metadata": {
    "collapsed": false
   },
   "outputs": [
    {
     "data": {
      "text/html": [
       "<div>\n",
       "<table border=\"1\" class=\"dataframe\">\n",
       "  <thead>\n",
       "    <tr style=\"text-align: right;\">\n",
       "      <th></th>\n",
       "      <th>user</th>\n",
       "      <th>ts</th>\n",
       "      <th>channel</th>\n",
       "      <th>text</th>\n",
       "      <th>name</th>\n",
       "    </tr>\n",
       "  </thead>\n",
       "  <tbody>\n",
       "    <tr>\n",
       "      <th>0</th>\n",
       "      <td>U0WEAA087</td>\n",
       "      <td>2016-04-03 23:32:26.000002</td>\n",
       "      <td>36100-dsi</td>\n",
       "      <td>&lt;@U0WEAA087|jared&gt; has joined the channel</td>\n",
       "      <td>jared</td>\n",
       "    </tr>\n",
       "    <tr>\n",
       "      <th>1</th>\n",
       "      <td>U0WEAA087</td>\n",
       "      <td>2016-04-03 23:32:27.000003</td>\n",
       "      <td>36100-dsi</td>\n",
       "      <td>&lt;@U0WEAA087|jared&gt; set the channel purpose: Ch...</td>\n",
       "      <td>jared</td>\n",
       "    </tr>\n",
       "    <tr>\n",
       "      <th>2</th>\n",
       "      <td>U0WEAA087</td>\n",
       "      <td>2016-04-04 10:24:28.000009</td>\n",
       "      <td>36100-dsi</td>\n",
       "      <td>Yeah trying to get it done. I'm hoping to smas...</td>\n",
       "      <td>jared</td>\n",
       "    </tr>\n",
       "    <tr>\n",
       "      <th>3</th>\n",
       "      <td>U0WEAA087</td>\n",
       "      <td>2016-04-11 06:07:57.000119</td>\n",
       "      <td>36100-dsi</td>\n",
       "      <td>Hey Guys, sorry haven't been that active. I'm ...</td>\n",
       "      <td>jared</td>\n",
       "    </tr>\n",
       "    <tr>\n",
       "      <th>4</th>\n",
       "      <td>U0WEAA087</td>\n",
       "      <td>2016-04-11 06:11:39.000120</td>\n",
       "      <td>36100-dsi</td>\n",
       "      <td>&lt;http://nicomiceli.com/slackalytics/&gt; I might ...</td>\n",
       "      <td>jared</td>\n",
       "    </tr>\n",
       "  </tbody>\n",
       "</table>\n",
       "</div>"
      ],
      "text/plain": [
       "        user                         ts    channel  \\\n",
       "0  U0WEAA087 2016-04-03 23:32:26.000002  36100-dsi   \n",
       "1  U0WEAA087 2016-04-03 23:32:27.000003  36100-dsi   \n",
       "2  U0WEAA087 2016-04-04 10:24:28.000009  36100-dsi   \n",
       "3  U0WEAA087 2016-04-11 06:07:57.000119  36100-dsi   \n",
       "4  U0WEAA087 2016-04-11 06:11:39.000120  36100-dsi   \n",
       "\n",
       "                                                text   name  \n",
       "0          <@U0WEAA087|jared> has joined the channel  jared  \n",
       "1  <@U0WEAA087|jared> set the channel purpose: Ch...  jared  \n",
       "2  Yeah trying to get it done. I'm hoping to smas...  jared  \n",
       "3  Hey Guys, sorry haven't been that active. I'm ...  jared  \n",
       "4  <http://nicomiceli.com/slackalytics/> I might ...  jared  "
      ]
     },
     "execution_count": 58,
     "metadata": {},
     "output_type": "execute_result"
    }
   ],
   "source": [
    "data.head()"
   ]
  },
  {
   "cell_type": "code",
   "execution_count": 27,
   "metadata": {
    "collapsed": false
   },
   "outputs": [
    {
     "data": {
      "text/plain": [
       "crisp-dataprep         1159\n",
       "36100-dsi               542\n",
       "general                 301\n",
       "crisp-businessknow      249\n",
       "36106-dam               147\n",
       "python_instructions     138\n",
       "dsi-assignment-2a       135\n",
       "crisp-dataknow          116\n",
       "story-telling            95\n",
       "jira-discussion          91\n",
       "crisp-modelling          66\n",
       "random                   61\n",
       "36100-dsi-photos         44\n",
       "36103-statistics          6\n",
       "crisp-deploy              5\n",
       "crisp-eval                5\n",
       "dam                       2\n",
       "dsi                       2\n",
       "dtype: int64"
      ]
     },
     "execution_count": 27,
     "metadata": {},
     "output_type": "execute_result"
    }
   ],
   "source": [
    "df3.channel.value_counts()"
   ]
  },
  {
   "cell_type": "code",
   "execution_count": null,
   "metadata": {
    "collapsed": true
   },
   "outputs": [],
   "source": []
  },
  {
   "cell_type": "markdown",
   "metadata": {},
   "source": [
    "## Part 6 Data Visualization"
   ]
  },
  {
   "cell_type": "code",
   "execution_count": 183,
   "metadata": {
    "collapsed": false
   },
   "outputs": [
    {
     "data": {
      "text/plain": [
       "[u'jared',\n",
       " u'duhita',\n",
       " u'chris.garces',\n",
       " u'hussam',\n",
       " u'martinlehmann',\n",
       " u'howdy',\n",
       " u'ravi']"
      ]
     },
     "execution_count": 183,
     "metadata": {},
     "output_type": "execute_result"
    }
   ],
   "source": [
    "list(data.name.unique())"
   ]
  },
  {
   "cell_type": "code",
   "execution_count": 256,
   "metadata": {
    "collapsed": true
   },
   "outputs": [],
   "source": [
    "# Change name to specifiy who you are analyising\n",
    "name = 'jared'"
   ]
  },
  {
   "cell_type": "code",
   "execution_count": 174,
   "metadata": {
    "collapsed": false
   },
   "outputs": [
    {
     "data": {
      "text/html": [
       "<div>\n",
       "<table border=\"1\" class=\"dataframe\">\n",
       "  <thead>\n",
       "    <tr style=\"text-align: right;\">\n",
       "      <th></th>\n",
       "      <th>user</th>\n",
       "      <th>ts</th>\n",
       "      <th>channel</th>\n",
       "      <th>text</th>\n",
       "      <th>name</th>\n",
       "      <th>clean_text</th>\n",
       "    </tr>\n",
       "  </thead>\n",
       "  <tbody>\n",
       "    <tr>\n",
       "      <th>0</th>\n",
       "      <td>U0WEAA087</td>\n",
       "      <td>2016-04-03 23:32:26.000002</td>\n",
       "      <td>36100-dsi</td>\n",
       "      <td>&lt;@U0WEAA087|jared&gt; has joined the channel</td>\n",
       "      <td>jared</td>\n",
       "      <td>u weaa jared joined</td>\n",
       "    </tr>\n",
       "    <tr>\n",
       "      <th>1</th>\n",
       "      <td>U0WEAA087</td>\n",
       "      <td>2016-04-03 23:32:27.000003</td>\n",
       "      <td>36100-dsi</td>\n",
       "      <td>&lt;@U0WEAA087|jared&gt; set the channel purpose: Ch...</td>\n",
       "      <td>jared</td>\n",
       "      <td>u weaa jared set purpose dedicated data scienc...</td>\n",
       "    </tr>\n",
       "    <tr>\n",
       "      <th>2</th>\n",
       "      <td>U0WEAA087</td>\n",
       "      <td>2016-04-04 10:24:28.000009</td>\n",
       "      <td>36100-dsi</td>\n",
       "      <td>Yeah trying to get it done. I'm hoping to smas...</td>\n",
       "      <td>jared</td>\n",
       "      <td>yeah trying get done m hoping smash wednesday ...</td>\n",
       "    </tr>\n",
       "    <tr>\n",
       "      <th>3</th>\n",
       "      <td>U0WEAA087</td>\n",
       "      <td>2016-04-11 06:07:57.000119</td>\n",
       "      <td>36100-dsi</td>\n",
       "      <td>Hey Guys, sorry haven't been that active. I'm ...</td>\n",
       "      <td>jared</td>\n",
       "      <td>hey guy sorry haven active m fine excel knime ...</td>\n",
       "    </tr>\n",
       "    <tr>\n",
       "      <th>4</th>\n",
       "      <td>U0WEAA087</td>\n",
       "      <td>2016-04-11 06:11:39.000120</td>\n",
       "      <td>36100-dsi</td>\n",
       "      <td>&lt;http://nicomiceli.com/slackalytics/&gt; I might ...</td>\n",
       "      <td>jared</td>\n",
       "      <td>Sharing might look</td>\n",
       "    </tr>\n",
       "  </tbody>\n",
       "</table>\n",
       "</div>"
      ],
      "text/plain": [
       "        user                         ts    channel  \\\n",
       "0  U0WEAA087 2016-04-03 23:32:26.000002  36100-dsi   \n",
       "1  U0WEAA087 2016-04-03 23:32:27.000003  36100-dsi   \n",
       "2  U0WEAA087 2016-04-04 10:24:28.000009  36100-dsi   \n",
       "3  U0WEAA087 2016-04-11 06:07:57.000119  36100-dsi   \n",
       "4  U0WEAA087 2016-04-11 06:11:39.000120  36100-dsi   \n",
       "\n",
       "                                                text   name  \\\n",
       "0          <@U0WEAA087|jared> has joined the channel  jared   \n",
       "1  <@U0WEAA087|jared> set the channel purpose: Ch...  jared   \n",
       "2  Yeah trying to get it done. I'm hoping to smas...  jared   \n",
       "3  Hey Guys, sorry haven't been that active. I'm ...  jared   \n",
       "4  <http://nicomiceli.com/slackalytics/> I might ...  jared   \n",
       "\n",
       "                                          clean_text  \n",
       "0                                u weaa jared joined  \n",
       "1  u weaa jared set purpose dedicated data scienc...  \n",
       "2  yeah trying get done m hoping smash wednesday ...  \n",
       "3  hey guy sorry haven active m fine excel knime ...  \n",
       "4                                 Sharing might look  "
      ]
     },
     "execution_count": 174,
     "metadata": {},
     "output_type": "execute_result"
    }
   ],
   "source": [
    "data.head()"
   ]
  },
  {
   "cell_type": "code",
   "execution_count": 187,
   "metadata": {
    "collapsed": false
   },
   "outputs": [
    {
     "data": {
      "text/plain": [
       "crisp-dataprep         347\n",
       "36100-dsi              152\n",
       "python_instructions     96\n",
       "36106-dam               76\n",
       "general                 62\n",
       "crisp-businessknow      54\n",
       "dsi-assignment-2a       48\n",
       "crisp-dataknow          19\n",
       "story-telling           19\n",
       "crisp-modelling         12\n",
       "random                   3\n",
       "36100-dsi-photos         1\n",
       "crisp-eval               1\n",
       "crisp-deploy             1\n",
       "jira-discussion          1\n",
       "dtype: int64"
      ]
     },
     "execution_count": 187,
     "metadata": {},
     "output_type": "execute_result"
    }
   ],
   "source": [
    "data[data.name == name].channel.value_counts()"
   ]
  },
  {
   "cell_type": "markdown",
   "metadata": {},
   "source": [
    "### Ploting messages over time"
   ]
  },
  {
   "cell_type": "code",
   "execution_count": 257,
   "metadata": {
    "collapsed": false,
    "scrolled": true
   },
   "outputs": [
    {
     "data": {
      "text/plain": [
       "ts\n",
       "0     11\n",
       "1     11\n",
       "2      9\n",
       "3      1\n",
       "4      2\n",
       "5      6\n",
       "6     28\n",
       "7      4\n",
       "8     11\n",
       "9     15\n",
       "10    26\n",
       "11    18\n",
       "12     6\n",
       "13     1\n",
       "20     5\n",
       "21     3\n",
       "23    15\n",
       "dtype: int64"
      ]
     },
     "execution_count": 257,
     "metadata": {},
     "output_type": "execute_result"
    }
   ],
   "source": [
    "data[data.name == name].groupby(data[data.name == name].ts.apply(lambda x: x.hour)).text.size()"
   ]
  },
  {
   "cell_type": "code",
   "execution_count": 265,
   "metadata": {
    "collapsed": false
   },
   "outputs": [
    {
     "data": {
      "text/plain": [
       "<matplotlib.text.Text at 0x167603c8>"
      ]
     },
     "execution_count": 265,
     "metadata": {},
     "output_type": "execute_result"
    },
    {
     "data": {
      "image/png": "[encoded data removed]",
      "text/plain": [
       "<matplotlib.figure.Figure at 0x1661e5f8>"
      ]
     },
     "metadata": {},
     "output_type": "display_data"
    }
   ],
   "source": [
    "fig = plt.figure(figsize=(15,5))\n",
    "ax = fig.add_subplot(1,1,1)\n",
    "ax.bar(data[data.name == name].groupby(data[data.name == name].ts.apply(lambda x: x.hour)).text.size().index+1,\n",
    "       data[data.name == name].groupby(data[data.name == name].ts.apply(lambda x: x.hour)).text.size())\n",
    "fig.suptitle(\"Message by Hour\",fontsize= 14)\n",
    "ax.set_xlabel(\"Hour of the Day\")\n",
    "ax.set_xticks(data[data.name == name].groupby(data[data.name == name].ts.apply(lambda x: x.hour)).text.size().index+ 1)\n",
    "ax.set_ylabel(\"No. of Messages\")\n",
    "#fig.savefig(\"Aggregated Hours.png\")"
   ]
  },
  {
   "cell_type": "code",
   "execution_count": 164,
   "metadata": {
    "collapsed": true
   },
   "outputs": [],
   "source": [
    "days = ['Monday','Tuesday','Wednesday','Thursday','Friday','Saturday','Sunday']"
   ]
  },
  {
   "cell_type": "code",
   "execution_count": 264,
   "metadata": {
    "collapsed": false
   },
   "outputs": [
    {
     "data": {
      "text/plain": [
       "<matplotlib.text.Text at 0x163600f0>"
      ]
     },
     "execution_count": 264,
     "metadata": {},
     "output_type": "execute_result"
    },
    {
     "data": {
      "image/png": "[encoded data removed]",
      "text/plain": [
       "<matplotlib.figure.Figure at 0x16453898>"
      ]
     },
     "metadata": {},
     "output_type": "display_data"
    }
   ],
   "source": [
    "fig = plt.figure(figsize=(10,6))\n",
    "ax = fig.add_subplot(1,1,1)\n",
    "ax.barh(data[data.name == name].groupby(data[data.name == name].ts.apply(lambda x: x.dayofweek)).text.size().index +1,\n",
    "        data[data.name == name].groupby(data[data.name == name].ts.apply(lambda x: x.dayofweek)).text.size(),color='red')\n",
    "fig.suptitle(\"Messages by Day\",fontsize= 14)\n",
    "ax.set_ylabel(\"Day of week\")\n",
    "ax.set_yticklabels(days) #jared.groupby(jared.ts.apply(lambda x: x.dayofweek)).text.size().index+ 1)\n",
    "ax.set_xlabel(\"No. of Messages\")\n",
    "#fig.savefig(\"Aggregated Day of Week.png\")"
   ]
  },
  {
   "cell_type": "code",
   "execution_count": 260,
   "metadata": {
    "collapsed": false,
    "scrolled": true
   },
   "outputs": [
    {
     "data": {
      "text/plain": [
       "ts\n",
       "2016-03-30     4\n",
       "2016-03-31     3\n",
       "2016-04-01     2\n",
       "2016-04-02     3\n",
       "2016-04-03     6\n",
       "2016-04-04     8\n",
       "2016-04-07     1\n",
       "2016-04-11     5\n",
       "2016-04-12     3\n",
       "2016-04-13     2\n",
       "2016-04-14     2\n",
       "2016-04-15     3\n",
       "2016-04-16     1\n",
       "2016-04-17    13\n",
       "2016-04-18     5\n",
       "2016-04-22     6\n",
       "2016-04-24     3\n",
       "2016-04-25    15\n",
       "2016-04-28     3\n",
       "2016-04-29     5\n",
       "2016-04-30    18\n",
       "2016-05-01    13\n",
       "2016-05-04    27\n",
       "2016-05-05     5\n",
       "2016-05-06     3\n",
       "2016-05-07    10\n",
       "2016-05-08     3\n",
       "dtype: int64"
      ]
     },
     "execution_count": 260,
     "metadata": {},
     "output_type": "execute_result"
    }
   ],
   "source": [
    "import datetime\n",
    "data[data.name == name].groupby(data[data.name == name].ts.apply(lambda x: datetime.datetime.date(x))).text.size()"
   ]
  },
  {
   "cell_type": "code",
   "execution_count": 263,
   "metadata": {
    "collapsed": false
   },
   "outputs": [
    {
     "data": {
      "text/plain": [
       "<matplotlib.text.Text at 0x162c2e80>"
      ]
     },
     "execution_count": 263,
     "metadata": {},
     "output_type": "execute_result"
    },
    {
     "data": {
      "image/png": "[encoded data removed]",
      "text/plain": [
       "<matplotlib.figure.Figure at 0x1638d2b0>"
      ]
     },
     "metadata": {},
     "output_type": "display_data"
    }
   ],
   "source": [
    "fig = plt.figure(figsize=(10,6))\n",
    "ax = fig.add_subplot(1,1,1)\n",
    "ax.plot(data[data.name == name].groupby(data[data.name == name].ts.apply(lambda x: datetime.datetime.date(x))).text.size().index,\n",
    "        data[data.name == name].groupby(data[data.name == name].ts.apply(lambda x: datetime.datetime.date(x))).text.size().values,color='red')\n",
    "fig.suptitle(\"Message over Time\",fontsize= 14)\n",
    "ax.set_ylabel(\"No. of Messages\")\n",
    "#ax.set_yticklabels(days) #jared.groupby(jared.ts.apply(lambda x: x.dayofweek)).text.size().index+ 1)\n",
    "ax.set_xlabel(\"Date\")\n",
    "#fig.savefig(\"Aggregated Day of Week.png\")"
   ]
  },
  {
   "cell_type": "code",
   "execution_count": null,
   "metadata": {
    "collapsed": true
   },
   "outputs": [],
   "source": []
  },
  {
   "cell_type": "code",
   "execution_count": null,
   "metadata": {
    "collapsed": true
   },
   "outputs": [],
   "source": []
  },
  {
   "cell_type": "markdown",
   "metadata": {},
   "source": [
    "## Part 7 Sentiment Analysis"
   ]
  },
  {
   "cell_type": "code",
   "execution_count": 9,
   "metadata": {
    "collapsed": true
   },
   "outputs": [],
   "source": [
    "from aylienapiclient import textapi\n",
    "\n",
    "client = textapi.Client(\"e1bba75f\", \"a974c3050c2187cffaa9b50451d0c312\")"
   ]
  },
  {
   "cell_type": "code",
   "execution_count": 10,
   "metadata": {
    "collapsed": false
   },
   "outputs": [
    {
     "name": "stdout",
     "output_type": "stream",
     "text": [
      "{u'polarity': u'positive', u'text': u'John is a very good football player', u'polarity_confidence': 0.8693919697854208, u'subjectivity_confidence': 0.9963778207617525, u'subjectivity': u'subjective'}\n"
     ]
    }
   ],
   "source": [
    "text = 'John is a very good football player'\n",
    "sentiment = client.Sentiment({'text': text})\n",
    "print sentiment"
   ]
  },
  {
   "cell_type": "code",
   "execution_count": 11,
   "metadata": {
    "collapsed": false
   },
   "outputs": [
    {
     "name": "stdout",
     "output_type": "stream",
     "text": [
      "positive\n",
      "0.869391969785\n"
     ]
    }
   ],
   "source": [
    "print sentiment['polarity']\n",
    "print sentiment['polarity_confidence']"
   ]
  },
  {
   "cell_type": "code",
   "execution_count": 66,
   "metadata": {
    "collapsed": false,
    "scrolled": true
   },
   "outputs": [
    {
     "ename": "HttpError",
     "evalue": "<HttpError 429 when requesting https://api.aylien.com/api/v1/sentiment returned \"\">",
     "output_type": "error",
     "traceback": [
      "\u001b[1;31m---------------------------------------------------------------------------\u001b[0m",
      "\u001b[1;31mHttpError\u001b[0m                                 Traceback (most recent call last)",
      "\u001b[1;32m<ipython-input-66-450ae5121c2d>\u001b[0m in \u001b[0;36m<module>\u001b[1;34m()\u001b[0m\n\u001b[0;32m      2\u001b[0m \u001b[1;33m\u001b[0m\u001b[0m\n\u001b[0;32m      3\u001b[0m \u001b[1;32mfor\u001b[0m \u001b[0mn\u001b[0m \u001b[1;32min\u001b[0m \u001b[0mdata\u001b[0m\u001b[1;33m.\u001b[0m\u001b[0mclean_text\u001b[0m\u001b[1;33m:\u001b[0m\u001b[1;33m\u001b[0m\u001b[0m\n\u001b[1;32m----> 4\u001b[1;33m     \u001b[0msent\u001b[0m \u001b[1;33m=\u001b[0m \u001b[0mclient\u001b[0m\u001b[1;33m.\u001b[0m\u001b[0mSentiment\u001b[0m\u001b[1;33m(\u001b[0m\u001b[1;33m{\u001b[0m\u001b[1;34m'text'\u001b[0m\u001b[1;33m:\u001b[0m \u001b[0mn\u001b[0m\u001b[1;33m}\u001b[0m\u001b[1;33m)\u001b[0m\u001b[1;33m\u001b[0m\u001b[0m\n\u001b[0m\u001b[0;32m      5\u001b[0m \u001b[1;33m\u001b[0m\u001b[0m\n\u001b[0;32m      6\u001b[0m     \u001b[0msentiment\u001b[0m\u001b[1;33m.\u001b[0m\u001b[0mappend\u001b[0m\u001b[1;33m(\u001b[0m\u001b[0msent\u001b[0m\u001b[1;33m[\u001b[0m\u001b[1;34m'polarity_confidence'\u001b[0m\u001b[1;33m]\u001b[0m\u001b[1;33m)\u001b[0m\u001b[1;33m\u001b[0m\u001b[0m\n",
      "\u001b[1;32mC:\\Users\\JChung\\AppData\\Local\\Continuum\\Anaconda\\lib\\site-packages\\aylienapiclient\\textapi.pyc\u001b[0m in \u001b[0;36mSentiment\u001b[1;34m(self, options)\u001b[0m\n\u001b[0;32m    412\u001b[0m       \u001b[1;32mraise\u001b[0m \u001b[0mMissingParameterError\u001b[0m\u001b[1;33m(\u001b[0m\u001b[1;34m'You must either provide url or text'\u001b[0m\u001b[1;33m)\u001b[0m\u001b[1;33m\u001b[0m\u001b[0m\n\u001b[0;32m    413\u001b[0m \u001b[1;33m\u001b[0m\u001b[0m\n\u001b[1;32m--> 414\u001b[1;33m     \u001b[0mresponse\u001b[0m \u001b[1;33m=\u001b[0m \u001b[0mself\u001b[0m\u001b[1;33m.\u001b[0m\u001b[0m_executeRequest\u001b[0m\u001b[1;33m(\u001b[0m\u001b[1;34m'sentiment'\u001b[0m\u001b[1;33m,\u001b[0m \u001b[0moptions\u001b[0m\u001b[1;33m)\u001b[0m\u001b[1;33m\u001b[0m\u001b[0m\n\u001b[0m\u001b[0;32m    415\u001b[0m \u001b[1;33m\u001b[0m\u001b[0m\n\u001b[0;32m    416\u001b[0m     \u001b[1;32mreturn\u001b[0m \u001b[0mresponse\u001b[0m\u001b[1;33m\u001b[0m\u001b[0m\n",
      "\u001b[1;32mC:\\Users\\JChung\\AppData\\Local\\Continuum\\Anaconda\\lib\\site-packages\\aylienapiclient\\textapi.pyc\u001b[0m in \u001b[0;36m_executeRequest\u001b[1;34m(self, endpoint, params)\u001b[0m\n\u001b[0;32m    680\u001b[0m \u001b[1;33m\u001b[0m\u001b[0m\n\u001b[0;32m    681\u001b[0m     \u001b[1;32mif\u001b[0m \u001b[0mresponse\u001b[0m\u001b[1;33m.\u001b[0m\u001b[0mstatus\u001b[0m \u001b[1;33m>=\u001b[0m \u001b[1;36m300\u001b[0m\u001b[1;33m:\u001b[0m\u001b[1;33m\u001b[0m\u001b[0m\n\u001b[1;32m--> 682\u001b[1;33m       \u001b[1;32mraise\u001b[0m \u001b[0mHttpError\u001b[0m\u001b[1;33m(\u001b[0m\u001b[0mresponse\u001b[0m\u001b[1;33m,\u001b[0m \u001b[0mcontent\u001b[0m\u001b[1;33m,\u001b[0m \u001b[0muri\u001b[0m\u001b[1;33m=\u001b[0m\u001b[0mrequest\u001b[0m\u001b[1;33m.\u001b[0m\u001b[0muri\u001b[0m\u001b[1;33m)\u001b[0m\u001b[1;33m\u001b[0m\u001b[0m\n\u001b[0m\u001b[0;32m    683\u001b[0m \u001b[1;33m\u001b[0m\u001b[0m\n\u001b[0;32m    684\u001b[0m     \u001b[1;32mif\u001b[0m \u001b[0msys\u001b[0m\u001b[1;33m.\u001b[0m\u001b[0mversion_info\u001b[0m \u001b[1;33m>=\u001b[0m \u001b[1;33m(\u001b[0m\u001b[1;36m3\u001b[0m\u001b[1;33m,\u001b[0m \u001b[1;36m0\u001b[0m\u001b[1;33m)\u001b[0m\u001b[1;33m:\u001b[0m\u001b[1;33m\u001b[0m\u001b[0m\n",
      "\u001b[1;31mHttpError\u001b[0m: <HttpError 429 when requesting https://api.aylien.com/api/v1/sentiment returned \"\">"
     ]
    }
   ],
   "source": [
    "polarity = []\n",
    "polarity_confidence = []\n",
    "\n",
    "\n",
    "for n in data.clean_text:\n",
    "    sent = client.Sentiment({'text': n})\n",
    "    \n",
    "    polarity.append(sent['polarity_confidence'])\n",
    "    polarity_confidence.append(sent)\n"
   ]
  },
  {
   "cell_type": "code",
   "execution_count": 68,
   "metadata": {
    "collapsed": false
   },
   "outputs": [
    {
     "data": {
      "text/plain": [
       "1000"
      ]
     },
     "execution_count": 68,
     "metadata": {},
     "output_type": "execute_result"
    }
   ],
   "source": [
    "len(sentiment)"
   ]
  },
  {
   "cell_type": "code",
   "execution_count": 100,
   "metadata": {
    "collapsed": true
   },
   "outputs": [],
   "source": [
    "sent_data = pd.DataFrame(sentiment)"
   ]
  },
  {
   "cell_type": "code",
   "execution_count": 101,
   "metadata": {
    "collapsed": false
   },
   "outputs": [
    {
     "data": {
      "text/html": [
       "<div>\n",
       "<table border=\"1\" class=\"dataframe\">\n",
       "  <thead>\n",
       "    <tr style=\"text-align: right;\">\n",
       "      <th></th>\n",
       "      <th>0</th>\n",
       "    </tr>\n",
       "  </thead>\n",
       "  <tbody>\n",
       "    <tr>\n",
       "      <th>0</th>\n",
       "      <td>0.852409</td>\n",
       "    </tr>\n",
       "    <tr>\n",
       "      <th>1</th>\n",
       "      <td>0.576838</td>\n",
       "    </tr>\n",
       "    <tr>\n",
       "      <th>2</th>\n",
       "      <td>0.854629</td>\n",
       "    </tr>\n",
       "    <tr>\n",
       "      <th>3</th>\n",
       "      <td>0.852409</td>\n",
       "    </tr>\n",
       "    <tr>\n",
       "      <th>4</th>\n",
       "      <td>0.852409</td>\n",
       "    </tr>\n",
       "  </tbody>\n",
       "</table>\n",
       "</div>"
      ],
      "text/plain": [
       "          0\n",
       "0  0.852409\n",
       "1  0.576838\n",
       "2  0.854629\n",
       "3  0.852409\n",
       "4  0.852409"
      ]
     },
     "execution_count": 101,
     "metadata": {},
     "output_type": "execute_result"
    }
   ],
   "source": [
    "sent_data.head()"
   ]
  },
  {
   "cell_type": "code",
   "execution_count": 102,
   "metadata": {
    "collapsed": true
   },
   "outputs": [],
   "source": [
    "sent_data.columns = ['polarity_confidence']"
   ]
  },
  {
   "cell_type": "code",
   "execution_count": 96,
   "metadata": {
    "collapsed": false
   },
   "outputs": [
    {
     "data": {
      "text/plain": [
       "1    0.866\n",
       "0    0.134\n",
       "dtype: float64"
      ]
     },
     "execution_count": 96,
     "metadata": {},
     "output_type": "execute_result"
    }
   ],
   "source": [
    "sent_data.polarity.value_counts() / len(sent_data)"
   ]
  },
  {
   "cell_type": "code",
   "execution_count": 124,
   "metadata": {
    "collapsed": false
   },
   "outputs": [],
   "source": [
    "sent_data['polarity'] = sent_data.polarity_confidence.apply(lambda x: 1 if x > 0.5 else 0)"
   ]
  },
  {
   "cell_type": "code",
   "execution_count": 106,
   "metadata": {
    "collapsed": false
   },
   "outputs": [],
   "source": [
    "sent_data.to_csv(\"Sentiment_output\",encoding='utf-8')"
   ]
  },
  {
   "cell_type": "code",
   "execution_count": 126,
   "metadata": {
    "collapsed": false
   },
   "outputs": [
    {
     "data": {
      "text/html": [
       "<div>\n",
       "<table border=\"1\" class=\"dataframe\">\n",
       "  <thead>\n",
       "    <tr style=\"text-align: right;\">\n",
       "      <th></th>\n",
       "      <th>polarity_confidence</th>\n",
       "      <th>polarity</th>\n",
       "    </tr>\n",
       "  </thead>\n",
       "  <tbody>\n",
       "    <tr>\n",
       "      <th>0</th>\n",
       "      <td>0.852409</td>\n",
       "      <td>1</td>\n",
       "    </tr>\n",
       "    <tr>\n",
       "      <th>1</th>\n",
       "      <td>0.576838</td>\n",
       "      <td>1</td>\n",
       "    </tr>\n",
       "    <tr>\n",
       "      <th>2</th>\n",
       "      <td>0.854629</td>\n",
       "      <td>1</td>\n",
       "    </tr>\n",
       "    <tr>\n",
       "      <th>3</th>\n",
       "      <td>0.852409</td>\n",
       "      <td>1</td>\n",
       "    </tr>\n",
       "    <tr>\n",
       "      <th>4</th>\n",
       "      <td>0.852409</td>\n",
       "      <td>1</td>\n",
       "    </tr>\n",
       "    <tr>\n",
       "      <th>5</th>\n",
       "      <td>0.852409</td>\n",
       "      <td>1</td>\n",
       "    </tr>\n",
       "    <tr>\n",
       "      <th>6</th>\n",
       "      <td>0.692458</td>\n",
       "      <td>1</td>\n",
       "    </tr>\n",
       "    <tr>\n",
       "      <th>7</th>\n",
       "      <td>0.834836</td>\n",
       "      <td>1</td>\n",
       "    </tr>\n",
       "    <tr>\n",
       "      <th>8</th>\n",
       "      <td>0.832721</td>\n",
       "      <td>1</td>\n",
       "    </tr>\n",
       "    <tr>\n",
       "      <th>9</th>\n",
       "      <td>0.788597</td>\n",
       "      <td>1</td>\n",
       "    </tr>\n",
       "  </tbody>\n",
       "</table>\n",
       "</div>"
      ],
      "text/plain": [
       "   polarity_confidence  polarity\n",
       "0             0.852409         1\n",
       "1             0.576838         1\n",
       "2             0.854629         1\n",
       "3             0.852409         1\n",
       "4             0.852409         1\n",
       "5             0.852409         1\n",
       "6             0.692458         1\n",
       "7             0.834836         1\n",
       "8             0.832721         1\n",
       "9             0.788597         1"
      ]
     },
     "execution_count": 126,
     "metadata": {},
     "output_type": "execute_result"
    }
   ],
   "source": [
    "sent_data.head(10)"
   ]
  },
  {
   "cell_type": "code",
   "execution_count": 135,
   "metadata": {
    "collapsed": false,
    "scrolled": false
   },
   "outputs": [
    {
     "data": {
      "text/html": [
       "<div>\n",
       "<table border=\"1\" class=\"dataframe\">\n",
       "  <thead>\n",
       "    <tr style=\"text-align: right;\">\n",
       "      <th></th>\n",
       "      <th>user</th>\n",
       "      <th>ts</th>\n",
       "      <th>channel</th>\n",
       "      <th>text</th>\n",
       "      <th>name</th>\n",
       "      <th>clean_text</th>\n",
       "      <th>polarity_confidence</th>\n",
       "      <th>polarity</th>\n",
       "    </tr>\n",
       "  </thead>\n",
       "  <tbody>\n",
       "    <tr>\n",
       "      <th>0</th>\n",
       "      <td>U0WEAA087</td>\n",
       "      <td>2016-04-03 23:32:26.000002</td>\n",
       "      <td>36100-dsi</td>\n",
       "      <td>&lt;@U0WEAA087|jared&gt; has joined the channel</td>\n",
       "      <td>jared</td>\n",
       "      <td>DataScientist joined</td>\n",
       "      <td>0.852409</td>\n",
       "      <td>1</td>\n",
       "    </tr>\n",
       "    <tr>\n",
       "      <th>1</th>\n",
       "      <td>U0WEAA087</td>\n",
       "      <td>2016-04-03 23:32:27.000003</td>\n",
       "      <td>36100-dsi</td>\n",
       "      <td>&lt;@U0WEAA087|jared&gt; set the channel purpose: Ch...</td>\n",
       "      <td>jared</td>\n",
       "      <td>DataScientist set purpose dedicated data scien...</td>\n",
       "      <td>0.576838</td>\n",
       "      <td>1</td>\n",
       "    </tr>\n",
       "    <tr>\n",
       "      <th>2</th>\n",
       "      <td>U0WEAA087</td>\n",
       "      <td>2016-04-04 10:24:28.000009</td>\n",
       "      <td>36100-dsi</td>\n",
       "      <td>Yeah trying to get it done. I'm hoping to smas...</td>\n",
       "      <td>jared</td>\n",
       "      <td>yeah trying get done m hoping smash wednesday ...</td>\n",
       "      <td>0.854629</td>\n",
       "      <td>1</td>\n",
       "    </tr>\n",
       "    <tr>\n",
       "      <th>3</th>\n",
       "      <td>U0WEAA087</td>\n",
       "      <td>2016-04-11 06:07:57.000119</td>\n",
       "      <td>36100-dsi</td>\n",
       "      <td>Hey Guys, sorry haven't been that active. I'm ...</td>\n",
       "      <td>jared</td>\n",
       "      <td>hey guy sorry haven active m fine excel knime ...</td>\n",
       "      <td>0.852409</td>\n",
       "      <td>1</td>\n",
       "    </tr>\n",
       "    <tr>\n",
       "      <th>4</th>\n",
       "      <td>U0WEAA087</td>\n",
       "      <td>2016-04-11 06:11:39.000120</td>\n",
       "      <td>36100-dsi</td>\n",
       "      <td>&lt;http://nicomiceli.com/slackalytics/&gt; I might ...</td>\n",
       "      <td>jared</td>\n",
       "      <td>Sharing might look</td>\n",
       "      <td>0.852409</td>\n",
       "      <td>1</td>\n",
       "    </tr>\n",
       "  </tbody>\n",
       "</table>\n",
       "</div>"
      ],
      "text/plain": [
       "        user                         ts    channel  \\\n",
       "0  U0WEAA087 2016-04-03 23:32:26.000002  36100-dsi   \n",
       "1  U0WEAA087 2016-04-03 23:32:27.000003  36100-dsi   \n",
       "2  U0WEAA087 2016-04-04 10:24:28.000009  36100-dsi   \n",
       "3  U0WEAA087 2016-04-11 06:07:57.000119  36100-dsi   \n",
       "4  U0WEAA087 2016-04-11 06:11:39.000120  36100-dsi   \n",
       "\n",
       "                                                text   name  \\\n",
       "0          <@U0WEAA087|jared> has joined the channel  jared   \n",
       "1  <@U0WEAA087|jared> set the channel purpose: Ch...  jared   \n",
       "2  Yeah trying to get it done. I'm hoping to smas...  jared   \n",
       "3  Hey Guys, sorry haven't been that active. I'm ...  jared   \n",
       "4  <http://nicomiceli.com/slackalytics/> I might ...  jared   \n",
       "\n",
       "                                          clean_text  polarity_confidence  \\\n",
       "0                               DataScientist joined             0.852409   \n",
       "1  DataScientist set purpose dedicated data scien...             0.576838   \n",
       "2  yeah trying get done m hoping smash wednesday ...             0.854629   \n",
       "3  hey guy sorry haven active m fine excel knime ...             0.852409   \n",
       "4                                 Sharing might look             0.852409   \n",
       "\n",
       "   polarity  \n",
       "0         1  \n",
       "1         1  \n",
       "2         1  \n",
       "3         1  \n",
       "4         1  "
      ]
     },
     "execution_count": 135,
     "metadata": {},
     "output_type": "execute_result"
    }
   ],
   "source": [
    "test = pd.concat([data,sent_data],axis=1)\n",
    "test.head()"
   ]
  },
  {
   "cell_type": "code",
   "execution_count": 137,
   "metadata": {
    "collapsed": false
   },
   "outputs": [
    {
     "data": {
      "text/html": [
       "<div>\n",
       "<table border=\"1\" class=\"dataframe\">\n",
       "  <thead>\n",
       "    <tr style=\"text-align: right;\">\n",
       "      <th></th>\n",
       "      <th>user</th>\n",
       "      <th>ts</th>\n",
       "      <th>channel</th>\n",
       "      <th>text</th>\n",
       "      <th>name</th>\n",
       "      <th>clean_text</th>\n",
       "    </tr>\n",
       "  </thead>\n",
       "  <tbody>\n",
       "    <tr>\n",
       "      <th>1611</th>\n",
       "      <td>U0WFHMEM8</td>\n",
       "      <td>2016-05-08 22:30:38.000054</td>\n",
       "      <td>general</td>\n",
       "      <td>Hi Ravi, welcome to the group..!</td>\n",
       "      <td>hussam</td>\n",
       "      <td>hi Consultant welcome group</td>\n",
       "    </tr>\n",
       "    <tr>\n",
       "      <th>2842</th>\n",
       "      <td>U0X6CUQ3D</td>\n",
       "      <td>2016-05-08 22:25:43.000053</td>\n",
       "      <td>general</td>\n",
       "      <td>Although howdy is a bit of a renegade maverick...</td>\n",
       "      <td>martinlehmann</td>\n",
       "      <td>although BendertheScrumMaster bit renegade mav...</td>\n",
       "    </tr>\n",
       "    <tr>\n",
       "      <th>2841</th>\n",
       "      <td>U0X6CUQ3D</td>\n",
       "      <td>2016-05-08 22:25:02.000052</td>\n",
       "      <td>general</td>\n",
       "      <td>Forgot to introduce you to &lt;@U13AJ8EVD&gt; also</td>\n",
       "      <td>martinlehmann</td>\n",
       "      <td>forgot introduce BendertheScrumMaster also</td>\n",
       "    </tr>\n",
       "    <tr>\n",
       "      <th>2840</th>\n",
       "      <td>U0X6CUQ3D</td>\n",
       "      <td>2016-05-08 22:24:40.000051</td>\n",
       "      <td>general</td>\n",
       "      <td>Hi Ravi! Welcome aboard! &lt;@U0X443CKZ&gt; &lt;@U0WDYE...</td>\n",
       "      <td>martinlehmann</td>\n",
       "      <td>hi Consultant welcome aboard DataScientist Bus...</td>\n",
       "    </tr>\n",
       "    <tr>\n",
       "      <th>1377</th>\n",
       "      <td>U0WFHMEM8</td>\n",
       "      <td>2016-05-08 21:22:40.000020</td>\n",
       "      <td>crisp-businessknow</td>\n",
       "      <td>I will have a look and provide feedback tonight</td>\n",
       "      <td>hussam</td>\n",
       "      <td>look provide feedback tonight</td>\n",
       "    </tr>\n",
       "    <tr>\n",
       "      <th>1319</th>\n",
       "      <td>U0WFHMEM8</td>\n",
       "      <td>2016-05-08 21:15:01.000208</td>\n",
       "      <td>36100-dsi</td>\n",
       "      <td>Martin, you are right, this week is crucial ...</td>\n",
       "      <td>hussam</td>\n",
       "      <td>ProjectManager right week crucial</td>\n",
       "    </tr>\n",
       "    <tr>\n",
       "      <th>1318</th>\n",
       "      <td>U0WFHMEM8</td>\n",
       "      <td>2016-05-08 21:14:10.000207</td>\n",
       "      <td>36100-dsi</td>\n",
       "      <td>Nice job Duhita..!</td>\n",
       "      <td>hussam</td>\n",
       "      <td>nice job BusinessAnalyst</td>\n",
       "    </tr>\n",
       "    <tr>\n",
       "      <th>2938</th>\n",
       "      <td>U173EGY2E</td>\n",
       "      <td>2016-05-08 15:58:59.000050</td>\n",
       "      <td>general</td>\n",
       "      <td>Thanks for adding to the group</td>\n",
       "      <td>ravi</td>\n",
       "      <td>thanks adding group</td>\n",
       "    </tr>\n",
       "    <tr>\n",
       "      <th>2937</th>\n",
       "      <td>U173EGY2E</td>\n",
       "      <td>2016-05-08 15:58:53.000049</td>\n",
       "      <td>general</td>\n",
       "      <td>Hi Team,</td>\n",
       "      <td>ravi</td>\n",
       "      <td>hi team</td>\n",
       "    </tr>\n",
       "    <tr>\n",
       "      <th>2936</th>\n",
       "      <td>U173EGY2E</td>\n",
       "      <td>2016-05-08 15:55:08.000048</td>\n",
       "      <td>general</td>\n",
       "      <td>&lt;@U173EGY2E|ravi&gt; has joined the channel</td>\n",
       "      <td>ravi</td>\n",
       "      <td>u egy e Consultant joined</td>\n",
       "    </tr>\n",
       "    <tr>\n",
       "      <th>2939</th>\n",
       "      <td>U173EGY2E</td>\n",
       "      <td>2016-05-08 15:55:08.000024</td>\n",
       "      <td>random</td>\n",
       "      <td>&lt;@U173EGY2E|ravi&gt; has joined the channel</td>\n",
       "      <td>ravi</td>\n",
       "      <td>u egy e Consultant joined</td>\n",
       "    </tr>\n",
       "    <tr>\n",
       "      <th>2159</th>\n",
       "      <td>U0X6CUQ3D</td>\n",
       "      <td>2016-05-08 14:22:47.000004</td>\n",
       "      <td>crisp-dataknow</td>\n",
       "      <td>like what can we do with the emoticons and the...</td>\n",
       "      <td>martinlehmann</td>\n",
       "      <td>like emoticon reaction</td>\n",
       "    </tr>\n",
       "    <tr>\n",
       "      <th>2158</th>\n",
       "      <td>U0X6CUQ3D</td>\n",
       "      <td>2016-05-08 14:22:26.000003</td>\n",
       "      <td>crisp-dataknow</td>\n",
       "      <td>couple of things we need to talk about with ji...</td>\n",
       "      <td>martinlehmann</td>\n",
       "      <td>couple thing need talk jira slack data logged</td>\n",
       "    </tr>\n",
       "    <tr>\n",
       "      <th>2157</th>\n",
       "      <td>U0X6CUQ3D</td>\n",
       "      <td>2016-05-08 14:21:45.000002</td>\n",
       "      <td>crisp-dataknow</td>\n",
       "      <td>&lt;@U0X443CKZ&gt;: Hey Chris, is it possible to get...</td>\n",
       "      <td>martinlehmann</td>\n",
       "      <td>DataScientist hey DataScientist possible get b...</td>\n",
       "    </tr>\n",
       "    <tr>\n",
       "      <th>2626</th>\n",
       "      <td>U0X6CUQ3D</td>\n",
       "      <td>2016-05-08 14:18:07.000913</td>\n",
       "      <td>crisp-dataprep</td>\n",
       "      <td>&lt;@U0WDYEG6S&gt;: is it possible you can produce a...</td>\n",
       "      <td>martinlehmann</td>\n",
       "      <td>BusinessAnalyst possible produce another extra...</td>\n",
       "    </tr>\n",
       "    <tr>\n",
       "      <th>2078</th>\n",
       "      <td>U0X6CUQ3D</td>\n",
       "      <td>2016-05-08 14:16:21.000019</td>\n",
       "      <td>crisp-businessknow</td>\n",
       "      <td>i've updated the data mining goals and success...</td>\n",
       "      <td>martinlehmann</td>\n",
       "      <td>ve updated data mining goal success criterion ...</td>\n",
       "    </tr>\n",
       "    <tr>\n",
       "      <th>2077</th>\n",
       "      <td>U0X6CUQ3D</td>\n",
       "      <td>2016-05-08 14:16:02.000018</td>\n",
       "      <td>crisp-businessknow</td>\n",
       "      <td>&lt;@U0X6CUQ3D|martinlehmann&gt; uploaded a file: &lt;h...</td>\n",
       "      <td>martinlehmann</td>\n",
       "      <td>ProjectManager uploaded Sharing product requir...</td>\n",
       "    </tr>\n",
       "    <tr>\n",
       "      <th>2076</th>\n",
       "      <td>U0X6CUQ3D</td>\n",
       "      <td>2016-05-08 13:54:37.000017</td>\n",
       "      <td>crisp-businessknow</td>\n",
       "      <td>you can see the timeline has changed also</td>\n",
       "      <td>martinlehmann</td>\n",
       "      <td>see timeline changed also</td>\n",
       "    </tr>\n",
       "    <tr>\n",
       "      <th>2075</th>\n",
       "      <td>U0X6CUQ3D</td>\n",
       "      <td>2016-05-08 13:54:29.000016</td>\n",
       "      <td>crisp-businessknow</td>\n",
       "      <td>i've update the project plan</td>\n",
       "      <td>martinlehmann</td>\n",
       "      <td>ve update project plan</td>\n",
       "    </tr>\n",
       "    <tr>\n",
       "      <th>2074</th>\n",
       "      <td>U0X6CUQ3D</td>\n",
       "      <td>2016-05-08 13:54:21.000015</td>\n",
       "      <td>crisp-businessknow</td>\n",
       "      <td>&lt;@U0X6CUQ3D|martinlehmann&gt; uploaded a file: &lt;h...</td>\n",
       "      <td>martinlehmann</td>\n",
       "      <td>ProjectManager uploaded Sharing project plan docx</td>\n",
       "    </tr>\n",
       "    <tr>\n",
       "      <th>1861</th>\n",
       "      <td>U0X6CUQ3D</td>\n",
       "      <td>2016-05-08 13:51:22.000206</td>\n",
       "      <td>36100-dsi</td>\n",
       "      <td>guys looking at the project plan we were suppo...</td>\n",
       "      <td>martinlehmann</td>\n",
       "      <td>guy looking project plan supposed deployment p...</td>\n",
       "    </tr>\n",
       "    <tr>\n",
       "      <th>2672</th>\n",
       "      <td>U0X6CUQ3D</td>\n",
       "      <td>2016-05-08 13:50:25.000038</td>\n",
       "      <td>crisp-modelling</td>\n",
       "      <td>if you can create a ticket in jira also when y...</td>\n",
       "      <td>martinlehmann</td>\n",
       "      <td>create ticket jira also re working one person ...</td>\n",
       "    </tr>\n",
       "    <tr>\n",
       "      <th>2671</th>\n",
       "      <td>U0X6CUQ3D</td>\n",
       "      <td>2016-05-08 13:49:52.000037</td>\n",
       "      <td>crisp-modelling</td>\n",
       "      <td>Happy to chip in dollars for the tooling</td>\n",
       "      <td>martinlehmann</td>\n",
       "      <td>happy chip dollar tooling</td>\n",
       "    </tr>\n",
       "    <tr>\n",
       "      <th>2670</th>\n",
       "      <td>U0X6CUQ3D</td>\n",
       "      <td>2016-05-08 13:49:38.000036</td>\n",
       "      <td>crisp-modelling</td>\n",
       "      <td>In discussion from yesterday, who's taking wha...</td>\n",
       "      <td>martinlehmann</td>\n",
       "      <td>discussion yesterday taking term topic sentime...</td>\n",
       "    </tr>\n",
       "    <tr>\n",
       "      <th>2669</th>\n",
       "      <td>U0X6CUQ3D</td>\n",
       "      <td>2016-05-08 13:44:47.000035</td>\n",
       "      <td>crisp-modelling</td>\n",
       "      <td>please share your findings as well at these ac...</td>\n",
       "      <td>martinlehmann</td>\n",
       "      <td>please share finding well activity output woul...</td>\n",
       "    </tr>\n",
       "    <tr>\n",
       "      <th>2668</th>\n",
       "      <td>U0X6CUQ3D</td>\n",
       "      <td>2016-05-08 13:44:19.000034</td>\n",
       "      <td>crisp-modelling</td>\n",
       "      <td>&lt;@U0X6CUQ3D|martinlehmann&gt; uploaded a file: &lt;h...</td>\n",
       "      <td>martinlehmann</td>\n",
       "      <td>ProjectManager uploaded Sharing crisp dm pdf</td>\n",
       "    </tr>\n",
       "    <tr>\n",
       "      <th>2667</th>\n",
       "      <td>U0X6CUQ3D</td>\n",
       "      <td>2016-05-08 13:44:01.000033</td>\n",
       "      <td>crisp-modelling</td>\n",
       "      <td>if you look at the modelling section of crisp-...</td>\n",
       "      <td>martinlehmann</td>\n",
       "      <td>look modelling section crisp dm spss modelling...</td>\n",
       "    </tr>\n",
       "    <tr>\n",
       "      <th>2666</th>\n",
       "      <td>U0X6CUQ3D</td>\n",
       "      <td>2016-05-08 13:43:06.000032</td>\n",
       "      <td>crisp-modelling</td>\n",
       "      <td>&lt;@U0X443CKZ&gt; &lt;@U0WFHMEM8&gt;  Hey guys, if you ca...</td>\n",
       "      <td>martinlehmann</td>\n",
       "      <td>DataScientist DataAnalyticsManager hey guy wel...</td>\n",
       "    </tr>\n",
       "    <tr>\n",
       "      <th>2625</th>\n",
       "      <td>U0X6CUQ3D</td>\n",
       "      <td>2016-05-08 13:37:26.000909</td>\n",
       "      <td>crisp-dataprep</td>\n",
       "      <td>&lt;@U13AJ8EVD&gt; checkin &lt;@U0X6CUQ3D&gt;</td>\n",
       "      <td>martinlehmann</td>\n",
       "      <td>BendertheScrumMaster checkin ProjectManager</td>\n",
       "    </tr>\n",
       "    <tr>\n",
       "      <th>1860</th>\n",
       "      <td>U0X6CUQ3D</td>\n",
       "      <td>2016-05-08 12:57:40.000205</td>\n",
       "      <td>36100-dsi</td>\n",
       "      <td>have you got tf/idf! okay cool cool, i'm worki...</td>\n",
       "      <td>martinlehmann</td>\n",
       "      <td>got tf idf okay cool cool m working prez</td>\n",
       "    </tr>\n",
       "    <tr>\n",
       "      <th>...</th>\n",
       "      <td>...</td>\n",
       "      <td>...</td>\n",
       "      <td>...</td>\n",
       "      <td>...</td>\n",
       "      <td>...</td>\n",
       "      <td>...</td>\n",
       "    </tr>\n",
       "    <tr>\n",
       "      <th>1182</th>\n",
       "      <td>U0X443CKZ</td>\n",
       "      <td>2016-04-01 01:36:04.000019</td>\n",
       "      <td>general</td>\n",
       "      <td>&lt;@U0X443CKZ|chris.garces&gt; uploaded a file: &lt;ht...</td>\n",
       "      <td>chris.garces</td>\n",
       "      <td>DataScientist uploaded Sharing multiple fruit ...</td>\n",
       "    </tr>\n",
       "    <tr>\n",
       "      <th>1181</th>\n",
       "      <td>U0X443CKZ</td>\n",
       "      <td>2016-04-01 01:31:47.000018</td>\n",
       "      <td>general</td>\n",
       "      <td>&lt;@U0X443CKZ|chris.garces&gt; uploaded a file: &lt;ht...</td>\n",
       "      <td>chris.garces</td>\n",
       "      <td>DataScientist uploaded Sharing actual apple pi...</td>\n",
       "    </tr>\n",
       "    <tr>\n",
       "      <th>1180</th>\n",
       "      <td>U0X443CKZ</td>\n",
       "      <td>2016-04-01 01:06:26.000017</td>\n",
       "      <td>general</td>\n",
       "      <td>it's amazing how it provides the probability o...</td>\n",
       "      <td>chris.garces</td>\n",
       "      <td>amazing provides probability different emotion</td>\n",
       "    </tr>\n",
       "    <tr>\n",
       "      <th>1179</th>\n",
       "      <td>U0X443CKZ</td>\n",
       "      <td>2016-04-01 01:05:04.000016</td>\n",
       "      <td>general</td>\n",
       "      <td>&lt;@U0X443CKZ|chris.garces&gt; uploaded a file: &lt;ht...</td>\n",
       "      <td>chris.garces</td>\n",
       "      <td>DataScientist uploaded Sharing pasted image pm...</td>\n",
       "    </tr>\n",
       "    <tr>\n",
       "      <th>1178</th>\n",
       "      <td>U0X443CKZ</td>\n",
       "      <td>2016-04-01 01:04:37.000015</td>\n",
       "      <td>general</td>\n",
       "      <td>Now, for the emotions API:</td>\n",
       "      <td>chris.garces</td>\n",
       "      <td>emotion api</td>\n",
       "    </tr>\n",
       "    <tr>\n",
       "      <th>1177</th>\n",
       "      <td>U0X443CKZ</td>\n",
       "      <td>2016-04-01 01:03:24.000014</td>\n",
       "      <td>general</td>\n",
       "      <td>The complete data that it provides for that photo</td>\n",
       "      <td>chris.garces</td>\n",
       "      <td>complete data provides photo</td>\n",
       "    </tr>\n",
       "    <tr>\n",
       "      <th>1176</th>\n",
       "      <td>U0X443CKZ</td>\n",
       "      <td>2016-04-01 01:02:59.000013</td>\n",
       "      <td>general</td>\n",
       "      <td>Features:\\n\\n\\nFeature Name \\n\\nValue\\n\\n\\nDes...</td>\n",
       "      <td>chris.garces</td>\n",
       "      <td>feature feature name value description type ca...</td>\n",
       "    </tr>\n",
       "    <tr>\n",
       "      <th>1175</th>\n",
       "      <td>U0X443CKZ</td>\n",
       "      <td>2016-04-01 01:02:05.000012</td>\n",
       "      <td>general</td>\n",
       "      <td>&lt;@U0X443CKZ|chris.garces&gt; uploaded a file: &lt;ht...</td>\n",
       "      <td>chris.garces</td>\n",
       "      <td>DataScientist uploaded Sharing pasted image pm...</td>\n",
       "    </tr>\n",
       "    <tr>\n",
       "      <th>1174</th>\n",
       "      <td>U0X443CKZ</td>\n",
       "      <td>2016-04-01 00:07:23.000011</td>\n",
       "      <td>general</td>\n",
       "      <td>&lt;@U0X443CKZ|chris.garces&gt; has joined the channel</td>\n",
       "      <td>chris.garces</td>\n",
       "      <td>DataScientist joined</td>\n",
       "    </tr>\n",
       "    <tr>\n",
       "      <th>1188</th>\n",
       "      <td>U0X443CKZ</td>\n",
       "      <td>2016-04-01 00:07:23.000002</td>\n",
       "      <td>random</td>\n",
       "      <td>&lt;@U0X443CKZ|chris.garces&gt; has joined the channel</td>\n",
       "      <td>chris.garces</td>\n",
       "      <td>DataScientist joined</td>\n",
       "    </tr>\n",
       "    <tr>\n",
       "      <th>122</th>\n",
       "      <td>U0WEAA087</td>\n",
       "      <td>2016-03-31 05:03:30.000010</td>\n",
       "      <td>general</td>\n",
       "      <td>When the rest of the team signs up. We can cre...</td>\n",
       "      <td>jared</td>\n",
       "      <td>rest team sign create additional start discuss...</td>\n",
       "    </tr>\n",
       "    <tr>\n",
       "      <th>121</th>\n",
       "      <td>U0WEAA087</td>\n",
       "      <td>2016-03-31 05:02:08.000009</td>\n",
       "      <td>general</td>\n",
       "      <td>its looks like it's all working fine</td>\n",
       "      <td>jared</td>\n",
       "      <td>look like working fine</td>\n",
       "    </tr>\n",
       "    <tr>\n",
       "      <th>120</th>\n",
       "      <td>U0WEAA087</td>\n",
       "      <td>2016-03-31 05:01:47.000008</td>\n",
       "      <td>general</td>\n",
       "      <td>Hey Duhita, Thanks for this!</td>\n",
       "      <td>jared</td>\n",
       "      <td>hey BusinessAnalyst thanks</td>\n",
       "    </tr>\n",
       "    <tr>\n",
       "      <th>892</th>\n",
       "      <td>U0WDYEG6S</td>\n",
       "      <td>2016-03-31 00:04:28.000007</td>\n",
       "      <td>general</td>\n",
       "      <td>:simple_smile: njoi</td>\n",
       "      <td>duhita</td>\n",
       "      <td>simple smile njoi</td>\n",
       "    </tr>\n",
       "    <tr>\n",
       "      <th>891</th>\n",
       "      <td>U0WDYEG6S</td>\n",
       "      <td>2016-03-31 00:04:22.000006</td>\n",
       "      <td>general</td>\n",
       "      <td>I can convert Chris and Martin once they join.</td>\n",
       "      <td>duhita</td>\n",
       "      <td>convert DataScientist ProjectManager join</td>\n",
       "    </tr>\n",
       "    <tr>\n",
       "      <th>890</th>\n",
       "      <td>U0WDYEG6S</td>\n",
       "      <td>2016-03-31 00:04:08.000005</td>\n",
       "      <td>general</td>\n",
       "      <td>&lt;@U0WFHMEM8&gt;:  I have made u the admin too</td>\n",
       "      <td>duhita</td>\n",
       "      <td>DataAnalyticsManager made u admin</td>\n",
       "    </tr>\n",
       "    <tr>\n",
       "      <th>889</th>\n",
       "      <td>U0WDYEG6S</td>\n",
       "      <td>2016-03-31 00:03:50.000004</td>\n",
       "      <td>general</td>\n",
       "      <td>Hi &lt;@U0WEAA087&gt;:  done..please try and let me ...</td>\n",
       "      <td>duhita</td>\n",
       "      <td>hi DataScientist done please try let know</td>\n",
       "    </tr>\n",
       "    <tr>\n",
       "      <th>888</th>\n",
       "      <td>U0WDYEG6S</td>\n",
       "      <td>2016-03-30 23:59:16.000003</td>\n",
       "      <td>general</td>\n",
       "      <td>hey sure let me try</td>\n",
       "      <td>duhita</td>\n",
       "      <td>hey sure let try</td>\n",
       "    </tr>\n",
       "    <tr>\n",
       "      <th>119</th>\n",
       "      <td>U0WEAA087</td>\n",
       "      <td>2016-03-30 23:01:36.000002</td>\n",
       "      <td>general</td>\n",
       "      <td>Hey Duhita, when you get a chance can you make...</td>\n",
       "      <td>jared</td>\n",
       "      <td>hey BusinessAnalyst get chance make u administ...</td>\n",
       "    </tr>\n",
       "    <tr>\n",
       "      <th>1561</th>\n",
       "      <td>U0WFHMEM8</td>\n",
       "      <td>2016-03-30 08:35:13.000009</td>\n",
       "      <td>general</td>\n",
       "      <td>&lt;@U0WFHMEM8|hussam&gt; has joined the channel</td>\n",
       "      <td>hussam</td>\n",
       "      <td>DataAnalyticsManager joined</td>\n",
       "    </tr>\n",
       "    <tr>\n",
       "      <th>1615</th>\n",
       "      <td>U0WFHMEM8</td>\n",
       "      <td>2016-03-30 08:35:13.000004</td>\n",
       "      <td>random</td>\n",
       "      <td>&lt;@U0WFHMEM8|hussam&gt; has joined the channel</td>\n",
       "      <td>hussam</td>\n",
       "      <td>DataAnalyticsManager joined</td>\n",
       "    </tr>\n",
       "    <tr>\n",
       "      <th>887</th>\n",
       "      <td>U0WDYEG6S</td>\n",
       "      <td>2016-03-30 06:48:53.000008</td>\n",
       "      <td>general</td>\n",
       "      <td>lets wait for others too connect</td>\n",
       "      <td>duhita</td>\n",
       "      <td>let wait others connect</td>\n",
       "    </tr>\n",
       "    <tr>\n",
       "      <th>886</th>\n",
       "      <td>U0WDYEG6S</td>\n",
       "      <td>2016-03-30 06:48:44.000007</td>\n",
       "      <td>general</td>\n",
       "      <td>yep :simple_smile:</td>\n",
       "      <td>duhita</td>\n",
       "      <td>yep simple smile</td>\n",
       "    </tr>\n",
       "    <tr>\n",
       "      <th>118</th>\n",
       "      <td>U0WEAA087</td>\n",
       "      <td>2016-03-30 06:47:28.000006</td>\n",
       "      <td>general</td>\n",
       "      <td>Hey hey, finally up running!</td>\n",
       "      <td>jared</td>\n",
       "      <td>hey hey finally running</td>\n",
       "    </tr>\n",
       "    <tr>\n",
       "      <th>885</th>\n",
       "      <td>U0WDYEG6S</td>\n",
       "      <td>2016-03-30 06:42:06.000005</td>\n",
       "      <td>general</td>\n",
       "      <td>Hi Jared</td>\n",
       "      <td>duhita</td>\n",
       "      <td>hi DataScientist</td>\n",
       "    </tr>\n",
       "    <tr>\n",
       "      <th>117</th>\n",
       "      <td>U0WEAA087</td>\n",
       "      <td>2016-03-30 06:04:59.000003</td>\n",
       "      <td>general</td>\n",
       "      <td>&lt;@U0WEAA087|jared&gt; has joined the channel</td>\n",
       "      <td>jared</td>\n",
       "      <td>DataScientist joined</td>\n",
       "    </tr>\n",
       "    <tr>\n",
       "      <th>160</th>\n",
       "      <td>U0WEAA087</td>\n",
       "      <td>2016-03-30 06:04:59.000003</td>\n",
       "      <td>random</td>\n",
       "      <td>&lt;@U0WEAA087|jared&gt; has joined the channel</td>\n",
       "      <td>jared</td>\n",
       "      <td>DataScientist joined</td>\n",
       "    </tr>\n",
       "    <tr>\n",
       "      <th>884</th>\n",
       "      <td>U0WDYEG6S</td>\n",
       "      <td>2016-03-30 06:03:53.000002</td>\n",
       "      <td>general</td>\n",
       "      <td>added an integration to this channel: &lt;https:/...</td>\n",
       "      <td>duhita</td>\n",
       "      <td>added integration Sharing jira</td>\n",
       "    </tr>\n",
       "    <tr>\n",
       "      <th>883</th>\n",
       "      <td>U0WDYEG6S</td>\n",
       "      <td>2016-03-30 05:19:00.199360</td>\n",
       "      <td>general</td>\n",
       "      <td>&lt;@U0WDYEG6S|duhita&gt; has joined the channel</td>\n",
       "      <td>duhita</td>\n",
       "      <td>BusinessAnalyst joined</td>\n",
       "    </tr>\n",
       "    <tr>\n",
       "      <th>1042</th>\n",
       "      <td>U0WDYEG6S</td>\n",
       "      <td>2016-03-30 05:19:00.000002</td>\n",
       "      <td>random</td>\n",
       "      <td>&lt;@U0WDYEG6S|duhita&gt; has joined the channel</td>\n",
       "      <td>duhita</td>\n",
       "      <td>BusinessAnalyst joined</td>\n",
       "    </tr>\n",
       "  </tbody>\n",
       "</table>\n",
       "<p>2940 rows × 6 columns</p>\n",
       "</div>"
      ],
      "text/plain": [
       "           user                         ts             channel  \\\n",
       "1611  U0WFHMEM8 2016-05-08 22:30:38.000054             general   \n",
       "2842  U0X6CUQ3D 2016-05-08 22:25:43.000053             general   \n",
       "2841  U0X6CUQ3D 2016-05-08 22:25:02.000052             general   \n",
       "2840  U0X6CUQ3D 2016-05-08 22:24:40.000051             general   \n",
       "1377  U0WFHMEM8 2016-05-08 21:22:40.000020  crisp-businessknow   \n",
       "1319  U0WFHMEM8 2016-05-08 21:15:01.000208           36100-dsi   \n",
       "1318  U0WFHMEM8 2016-05-08 21:14:10.000207           36100-dsi   \n",
       "2938  U173EGY2E 2016-05-08 15:58:59.000050             general   \n",
       "2937  U173EGY2E 2016-05-08 15:58:53.000049             general   \n",
       "2936  U173EGY2E 2016-05-08 15:55:08.000048             general   \n",
       "2939  U173EGY2E 2016-05-08 15:55:08.000024              random   \n",
       "2159  U0X6CUQ3D 2016-05-08 14:22:47.000004      crisp-dataknow   \n",
       "2158  U0X6CUQ3D 2016-05-08 14:22:26.000003      crisp-dataknow   \n",
       "2157  U0X6CUQ3D 2016-05-08 14:21:45.000002      crisp-dataknow   \n",
       "2626  U0X6CUQ3D 2016-05-08 14:18:07.000913      crisp-dataprep   \n",
       "2078  U0X6CUQ3D 2016-05-08 14:16:21.000019  crisp-businessknow   \n",
       "2077  U0X6CUQ3D 2016-05-08 14:16:02.000018  crisp-businessknow   \n",
       "2076  U0X6CUQ3D 2016-05-08 13:54:37.000017  crisp-businessknow   \n",
       "2075  U0X6CUQ3D 2016-05-08 13:54:29.000016  crisp-businessknow   \n",
       "2074  U0X6CUQ3D 2016-05-08 13:54:21.000015  crisp-businessknow   \n",
       "1861  U0X6CUQ3D 2016-05-08 13:51:22.000206           36100-dsi   \n",
       "2672  U0X6CUQ3D 2016-05-08 13:50:25.000038     crisp-modelling   \n",
       "2671  U0X6CUQ3D 2016-05-08 13:49:52.000037     crisp-modelling   \n",
       "2670  U0X6CUQ3D 2016-05-08 13:49:38.000036     crisp-modelling   \n",
       "2669  U0X6CUQ3D 2016-05-08 13:44:47.000035     crisp-modelling   \n",
       "2668  U0X6CUQ3D 2016-05-08 13:44:19.000034     crisp-modelling   \n",
       "2667  U0X6CUQ3D 2016-05-08 13:44:01.000033     crisp-modelling   \n",
       "2666  U0X6CUQ3D 2016-05-08 13:43:06.000032     crisp-modelling   \n",
       "2625  U0X6CUQ3D 2016-05-08 13:37:26.000909      crisp-dataprep   \n",
       "1860  U0X6CUQ3D 2016-05-08 12:57:40.000205           36100-dsi   \n",
       "...         ...                        ...                 ...   \n",
       "1182  U0X443CKZ 2016-04-01 01:36:04.000019             general   \n",
       "1181  U0X443CKZ 2016-04-01 01:31:47.000018             general   \n",
       "1180  U0X443CKZ 2016-04-01 01:06:26.000017             general   \n",
       "1179  U0X443CKZ 2016-04-01 01:05:04.000016             general   \n",
       "1178  U0X443CKZ 2016-04-01 01:04:37.000015             general   \n",
       "1177  U0X443CKZ 2016-04-01 01:03:24.000014             general   \n",
       "1176  U0X443CKZ 2016-04-01 01:02:59.000013             general   \n",
       "1175  U0X443CKZ 2016-04-01 01:02:05.000012             general   \n",
       "1174  U0X443CKZ 2016-04-01 00:07:23.000011             general   \n",
       "1188  U0X443CKZ 2016-04-01 00:07:23.000002              random   \n",
       "122   U0WEAA087 2016-03-31 05:03:30.000010             general   \n",
       "121   U0WEAA087 2016-03-31 05:02:08.000009             general   \n",
       "120   U0WEAA087 2016-03-31 05:01:47.000008             general   \n",
       "892   U0WDYEG6S 2016-03-31 00:04:28.000007             general   \n",
       "891   U0WDYEG6S 2016-03-31 00:04:22.000006             general   \n",
       "890   U0WDYEG6S 2016-03-31 00:04:08.000005             general   \n",
       "889   U0WDYEG6S 2016-03-31 00:03:50.000004             general   \n",
       "888   U0WDYEG6S 2016-03-30 23:59:16.000003             general   \n",
       "119   U0WEAA087 2016-03-30 23:01:36.000002             general   \n",
       "1561  U0WFHMEM8 2016-03-30 08:35:13.000009             general   \n",
       "1615  U0WFHMEM8 2016-03-30 08:35:13.000004              random   \n",
       "887   U0WDYEG6S 2016-03-30 06:48:53.000008             general   \n",
       "886   U0WDYEG6S 2016-03-30 06:48:44.000007             general   \n",
       "118   U0WEAA087 2016-03-30 06:47:28.000006             general   \n",
       "885   U0WDYEG6S 2016-03-30 06:42:06.000005             general   \n",
       "117   U0WEAA087 2016-03-30 06:04:59.000003             general   \n",
       "160   U0WEAA087 2016-03-30 06:04:59.000003              random   \n",
       "884   U0WDYEG6S 2016-03-30 06:03:53.000002             general   \n",
       "883   U0WDYEG6S 2016-03-30 05:19:00.199360             general   \n",
       "1042  U0WDYEG6S 2016-03-30 05:19:00.000002              random   \n",
       "\n",
       "                                                   text           name  \\\n",
       "1611                   Hi Ravi, welcome to the group..!         hussam   \n",
       "2842  Although howdy is a bit of a renegade maverick...  martinlehmann   \n",
       "2841       Forgot to introduce you to <@U13AJ8EVD> also  martinlehmann   \n",
       "2840  Hi Ravi! Welcome aboard! <@U0X443CKZ> <@U0WDYE...  martinlehmann   \n",
       "1377    I will have a look and provide feedback tonight         hussam   \n",
       "1319   Martin, you are right, this week is crucial ...          hussam   \n",
       "1318                                 Nice job Duhita..!         hussam   \n",
       "2938                     Thanks for adding to the group           ravi   \n",
       "2937                                           Hi Team,           ravi   \n",
       "2936           <@U173EGY2E|ravi> has joined the channel           ravi   \n",
       "2939           <@U173EGY2E|ravi> has joined the channel           ravi   \n",
       "2159  like what can we do with the emoticons and the...  martinlehmann   \n",
       "2158  couple of things we need to talk about with ji...  martinlehmann   \n",
       "2157  <@U0X443CKZ>: Hey Chris, is it possible to get...  martinlehmann   \n",
       "2626  <@U0WDYEG6S>: is it possible you can produce a...  martinlehmann   \n",
       "2078  i've updated the data mining goals and success...  martinlehmann   \n",
       "2077  <@U0X6CUQ3D|martinlehmann> uploaded a file: <h...  martinlehmann   \n",
       "2076          you can see the timeline has changed also  martinlehmann   \n",
       "2075                       i've update the project plan  martinlehmann   \n",
       "2074  <@U0X6CUQ3D|martinlehmann> uploaded a file: <h...  martinlehmann   \n",
       "1861  guys looking at the project plan we were suppo...  martinlehmann   \n",
       "2672  if you can create a ticket in jira also when y...  martinlehmann   \n",
       "2671           Happy to chip in dollars for the tooling  martinlehmann   \n",
       "2670  In discussion from yesterday, who's taking wha...  martinlehmann   \n",
       "2669  please share your findings as well at these ac...  martinlehmann   \n",
       "2668  <@U0X6CUQ3D|martinlehmann> uploaded a file: <h...  martinlehmann   \n",
       "2667  if you look at the modelling section of crisp-...  martinlehmann   \n",
       "2666  <@U0X443CKZ> <@U0WFHMEM8>  Hey guys, if you ca...  martinlehmann   \n",
       "2625                  <@U13AJ8EVD> checkin <@U0X6CUQ3D>  martinlehmann   \n",
       "1860  have you got tf/idf! okay cool cool, i'm worki...  martinlehmann   \n",
       "...                                                 ...            ...   \n",
       "1182  <@U0X443CKZ|chris.garces> uploaded a file: <ht...   chris.garces   \n",
       "1181  <@U0X443CKZ|chris.garces> uploaded a file: <ht...   chris.garces   \n",
       "1180  it's amazing how it provides the probability o...   chris.garces   \n",
       "1179  <@U0X443CKZ|chris.garces> uploaded a file: <ht...   chris.garces   \n",
       "1178                         Now, for the emotions API:   chris.garces   \n",
       "1177  The complete data that it provides for that photo   chris.garces   \n",
       "1176  Features:\\n\\n\\nFeature Name \\n\\nValue\\n\\n\\nDes...   chris.garces   \n",
       "1175  <@U0X443CKZ|chris.garces> uploaded a file: <ht...   chris.garces   \n",
       "1174   <@U0X443CKZ|chris.garces> has joined the channel   chris.garces   \n",
       "1188   <@U0X443CKZ|chris.garces> has joined the channel   chris.garces   \n",
       "122   When the rest of the team signs up. We can cre...          jared   \n",
       "121                its looks like it's all working fine          jared   \n",
       "120                        Hey Duhita, Thanks for this!          jared   \n",
       "892                                 :simple_smile: njoi         duhita   \n",
       "891      I can convert Chris and Martin once they join.         duhita   \n",
       "890          <@U0WFHMEM8>:  I have made u the admin too         duhita   \n",
       "889   Hi <@U0WEAA087>:  done..please try and let me ...         duhita   \n",
       "888                                 hey sure let me try         duhita   \n",
       "119   Hey Duhita, when you get a chance can you make...          jared   \n",
       "1561         <@U0WFHMEM8|hussam> has joined the channel         hussam   \n",
       "1615         <@U0WFHMEM8|hussam> has joined the channel         hussam   \n",
       "887                    lets wait for others too connect         duhita   \n",
       "886                                  yep :simple_smile:         duhita   \n",
       "118                        Hey hey, finally up running!          jared   \n",
       "885                                            Hi Jared         duhita   \n",
       "117           <@U0WEAA087|jared> has joined the channel          jared   \n",
       "160           <@U0WEAA087|jared> has joined the channel          jared   \n",
       "884   added an integration to this channel: <https:/...         duhita   \n",
       "883          <@U0WDYEG6S|duhita> has joined the channel         duhita   \n",
       "1042         <@U0WDYEG6S|duhita> has joined the channel         duhita   \n",
       "\n",
       "                                             clean_text  \n",
       "1611                        hi Consultant welcome group  \n",
       "2842  although BendertheScrumMaster bit renegade mav...  \n",
       "2841         forgot introduce BendertheScrumMaster also  \n",
       "2840  hi Consultant welcome aboard DataScientist Bus...  \n",
       "1377                      look provide feedback tonight  \n",
       "1319                  ProjectManager right week crucial  \n",
       "1318                           nice job BusinessAnalyst  \n",
       "2938                                thanks adding group  \n",
       "2937                                            hi team  \n",
       "2936                          u egy e Consultant joined  \n",
       "2939                          u egy e Consultant joined  \n",
       "2159                             like emoticon reaction  \n",
       "2158      couple thing need talk jira slack data logged  \n",
       "2157  DataScientist hey DataScientist possible get b...  \n",
       "2626  BusinessAnalyst possible produce another extra...  \n",
       "2078  ve updated data mining goal success criterion ...  \n",
       "2077  ProjectManager uploaded Sharing product requir...  \n",
       "2076                          see timeline changed also  \n",
       "2075                             ve update project plan  \n",
       "2074  ProjectManager uploaded Sharing project plan docx  \n",
       "1861  guy looking project plan supposed deployment p...  \n",
       "2672  create ticket jira also re working one person ...  \n",
       "2671                          happy chip dollar tooling  \n",
       "2670  discussion yesterday taking term topic sentime...  \n",
       "2669  please share finding well activity output woul...  \n",
       "2668       ProjectManager uploaded Sharing crisp dm pdf  \n",
       "2667  look modelling section crisp dm spss modelling...  \n",
       "2666  DataScientist DataAnalyticsManager hey guy wel...  \n",
       "2625        BendertheScrumMaster checkin ProjectManager  \n",
       "1860           got tf idf okay cool cool m working prez  \n",
       "...                                                 ...  \n",
       "1182  DataScientist uploaded Sharing multiple fruit ...  \n",
       "1181  DataScientist uploaded Sharing actual apple pi...  \n",
       "1180     amazing provides probability different emotion  \n",
       "1179  DataScientist uploaded Sharing pasted image pm...  \n",
       "1178                                        emotion api  \n",
       "1177                       complete data provides photo  \n",
       "1176  feature feature name value description type ca...  \n",
       "1175  DataScientist uploaded Sharing pasted image pm...  \n",
       "1174                               DataScientist joined  \n",
       "1188                               DataScientist joined  \n",
       "122   rest team sign create additional start discuss...  \n",
       "121                              look like working fine  \n",
       "120                          hey BusinessAnalyst thanks  \n",
       "892                                   simple smile njoi  \n",
       "891           convert DataScientist ProjectManager join  \n",
       "890                   DataAnalyticsManager made u admin  \n",
       "889           hi DataScientist done please try let know  \n",
       "888                                    hey sure let try  \n",
       "119   hey BusinessAnalyst get chance make u administ...  \n",
       "1561                        DataAnalyticsManager joined  \n",
       "1615                        DataAnalyticsManager joined  \n",
       "887                             let wait others connect  \n",
       "886                                    yep simple smile  \n",
       "118                             hey hey finally running  \n",
       "885                                    hi DataScientist  \n",
       "117                                DataScientist joined  \n",
       "160                                DataScientist joined  \n",
       "884                      added integration Sharing jira  \n",
       "883                              BusinessAnalyst joined  \n",
       "1042                             BusinessAnalyst joined  \n",
       "\n",
       "[2940 rows x 6 columns]"
      ]
     },
     "execution_count": 137,
     "metadata": {},
     "output_type": "execute_result"
    }
   ],
   "source": [
    "data.sort('ts',ascending=False)"
   ]
  },
  {
   "cell_type": "code",
   "execution_count": null,
   "metadata": {
    "collapsed": true
   },
   "outputs": [],
   "source": []
  }
 ],
 "metadata": {
  "kernelspec": {
   "display_name": "Python 2",
   "language": "python",
   "name": "python2"
  },
  "language_info": {
   "codemirror_mode": {
    "name": "ipython",
    "version": 2
   },
   "file_extension": ".py",
   "mimetype": "text/x-python",
   "name": "python",
   "nbconvert_exporter": "python",
   "pygments_lexer": "ipython2",
   "version": "2.7.11"
  }
 },
 "nbformat": 4,
 "nbformat_minor": 0
}
