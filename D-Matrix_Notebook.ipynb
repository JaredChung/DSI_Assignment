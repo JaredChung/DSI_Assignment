{
 "cells": [
  {
   "cell_type": "markdown",
   "metadata": {},
   "source": [
    "# DSI Assessment 2 - Quantified Self"
   ]
  },
  {
   "cell_type": "code",
   "execution_count": 2,
   "metadata": {
    "collapsed": false,
    "scrolled": true
   },
   "outputs": [
    {
     "data": {
      "text/html": [
       "<script>\n",
       "code_show=true; \n",
       "function code_toggle() {\n",
       " if (code_show){\n",
       " $('div.input').hide();\n",
       " } else {\n",
       " $('div.input').show();\n",
       " }\n",
       " code_show = !code_show\n",
       "} \n",
       "$( document ).ready(code_toggle);\n",
       "</script>\n",
       "<form action=\"javascript:code_toggle()\"><input type=\"submit\" value=\"Click here to toggle on/off the raw code.\"></form>"
      ],
      "text/plain": [
       "<IPython.core.display.HTML object>"
      ]
     },
     "execution_count": 2,
     "metadata": {},
     "output_type": "execute_result"
    }
   ],
   "source": [
    "from IPython.display import HTML\n",
    "\n",
    "HTML('''<script>\n",
    "code_show=true; \n",
    "function code_toggle() {\n",
    " if (code_show){\n",
    " $('div.input').hide();\n",
    " } else {\n",
    " $('div.input').show();\n",
    " }\n",
    " code_show = !code_show\n",
    "} \n",
    "$( document ).ready(code_toggle);\n",
    "</script>\n",
    "<form action=\"javascript:code_toggle()\"><input type=\"submit\" value=\"Click here to toggle on/off the raw code.\"></form>''')"
   ]
  },
  {
   "cell_type": "markdown",
   "metadata": {},
   "source": [
    "<b> \n",
    "\n",
    "Table of Contents:\n",
    "\n",
    "* Part 1: Introduction\n",
    "* Part 2: Collecting data\n",
    "* Part 3: Text Pre-processing\n",
    "* Part 4: Term Frequencies\n",
    "* Part 5: Data Visualisation Basics\n",
    "* Part 6: Sentiment Analysis Basics\n",
    "\n",
    "</b>"
   ]
  },
  {
   "cell_type": "markdown",
   "metadata": {},
   "source": [
    "Template\n",
    "\n",
    "* Introduction\n",
    "* Description of process, or method\n",
    "* Analysis\n",
    "* Discussion\n",
    "* Findings, and conclusions\n",
    "* Reflection\n",
    "* References\n",
    "* Appendices\n"
   ]
  },
  {
   "cell_type": "markdown",
   "metadata": {},
   "source": [
    "## Part 1 Introduction"
   ]
  },
  {
   "cell_type": "markdown",
   "metadata": {},
   "source": [
    "## Problem Statement"
   ]
  },
  {
   "cell_type": "markdown",
   "metadata": {},
   "source": [
    "#### Motivation"
   ]
  },
  {
   "cell_type": "markdown",
   "metadata": {},
   "source": [
    "The purpose of this project is to gain insight into how we as individuals play a role in a collaborating on a data science endeavour. As communication can be seen as a critical success measure of how well project is completed, we wanted to analyse our participation in completing the DSI Assignment.\n",
    "\n",
    "\n",
    "To measure our participation in the DSI assignment we collected data from chat conversations in Slack and JIRA issue tickets to get an understanding of the language used whilst collaborating and the (need to fill) . We will be using applying Natural Language processing techniques to transform and evaluate our data as well as using tools such as python and power BI to visualize and explain the insights that we have uncovered."
   ]
  },
  {
   "cell_type": "code",
   "execution_count": null,
   "metadata": {
    "collapsed": true
   },
   "outputs": [],
   "source": []
  },
  {
   "cell_type": "code",
   "execution_count": null,
   "metadata": {
    "collapsed": true
   },
   "outputs": [],
   "source": []
  },
  {
   "cell_type": "markdown",
   "metadata": {
    "collapsed": true
   },
   "source": [
    "## Sources of Data"
   ]
  },
  {
   "cell_type": "markdown",
   "metadata": {},
   "source": [
    "#### Slack"
   ]
  },
  {
   "cell_type": "markdown",
   "metadata": {
    "collapsed": true
   },
   "source": [
    "[Slack](www.slack.com) is an instant message and team collaboration tool. Some of the features of slack is being able to create channels with different topics. For example in the case of our assignment we had channels based on the CRISP-DM framework as well as channels which were less about data science and more about free flowing discussions.\n",
    "\n",
    "Some of the additional features of slack is the ability to incorporate customized addons. One of the addons we used was a messaging bot called Howdy. The purpose of howdy is to be an additional member of the team and allow people to reflect on what they had done as well as highlight any problems or issues occuring in the project. "
   ]
  },
  {
   "cell_type": "markdown",
   "metadata": {},
   "source": [
    "<b> Jira </b>"
   ]
  },
  {
   "cell_type": "markdown",
   "metadata": {},
   "source": [
    "[Jira](https://www.atlassian.com/software/jira) is an issue tracking and projet management tool. Jira allows you to track any kind of unit of work (be it an issue, bug, story, project task, etc.) through a predefined workflow. \n",
    "\n",
    "Both the unit (what you call your item of work) and the workflow (the steps that item takes from open to close) can be highly customized for your team's specific requirements, whether simple or more complex.\n",
    "\n",
    "On top of all that, JIRA's really good at tracking (via detailed, custom reports and dashboards) where all of your project items/issues lie at a teamwide, company or individual level - for example, what are all of the issues assigned to me, created in the last 7 days?\n",
    "\n",
    "Collaboration's also a big point of emphasis in JIRA - @mentioning, formatted commenting , and sharing issues via email all help make your work more visible to your teams so folks stay on the same page throughout their project, release, or set of tasks.\n",
    "\n",
    "Some common use cases include software development, feature implementation, bug tracking, agile project management (with JIRA Agile), and service desk ticket tracking (with JIRA Service Desk)."
   ]
  },
  {
   "cell_type": "markdown",
   "metadata": {},
   "source": [
    "## Part 2 Collecting Data"
   ]
  },
  {
   "cell_type": "markdown",
   "metadata": {},
   "source": [
    "As with most data science projects one of the main issues is trying to extract the data and process the data in a manner which can then be analysed. As our the majority of our data comes from messaging we faced alot of issues with trying to clean the text . This required us to apply a number of Natural Language Processing techniques to ensure that our data was of the correct quality. \n",
    "\n",
    "In this section we will go through how we extracted the data "
   ]
  },
  {
   "cell_type": "code",
   "execution_count": 43,
   "metadata": {
    "collapsed": false,
    "scrolled": true
   },
   "outputs": [],
   "source": [
    "import pandas as pd # Data Munging tool\n",
    "import os # Operating System functionality\n",
    "import glob # Finds all pathnames e.g(.json)\n",
    "import re # Regular Expression\n",
    "import matplotlib.pyplot as plt\n",
    "import seaborn as sns\n",
    "from sklearn.feature_extraction.text import CountVectorizer\n",
    "from sklearn.feature_extraction.text import TfidfVectorizer # Combines both Count Vectorizer and Tfidf Transformer\n",
    "from nltk.corpus import stopwords\n",
    "from nltk.stem import WordNetLemmatizer\n",
    "\n",
    "plt.style.use('ggplot')\n",
    "%matplotlib inline"
   ]
  },
  {
   "cell_type": "code",
   "execution_count": 44,
   "metadata": {
    "collapsed": false,
    "scrolled": true
   },
   "outputs": [],
   "source": [
    "users = pd.read_json(\"C:/users/Jared Chung/Desktop/D-Matrix/users.json\") #Laptop\n",
    "#users = pd.read_json(\"C:/users/jchung/desktop/D-Matrix/users.json\") #Work"
   ]
  },
  {
   "cell_type": "code",
   "execution_count": 45,
   "metadata": {
    "collapsed": false,
    "scrolled": true
   },
   "outputs": [
    {
     "name": "stdout",
     "output_type": "stream",
     "text": [
      "36100-dsi\n",
      "36100-dsi-photos\n",
      "36103-statistics\n",
      "36106-dam\n",
      "File contains an extenstion\n",
      "crisp-businessknow\n",
      "crisp-dataknow\n",
      "crisp-dataprep\n",
      "crisp-deploy\n",
      "crisp-eval\n",
      "crisp-modelling\n",
      "dam\n",
      "dsi\n",
      "dsi-assignment-2a\n",
      "general\n",
      "File contains an extenstion\n",
      "jira-discussion\n",
      "python_instructions\n",
      "random\n",
      "story-telling\n",
      "File contains an extenstion\n"
     ]
    }
   ],
   "source": [
    "path_to_json = 'C:/users/Jared Chung/Desktop/D-Matrix/' #Laptop\n",
    "#path_to_json = 'C:/users/jchung/desktop/D-Matrix/' #Work\n",
    "json_dir = os.listdir(path_to_json)\n",
    "#del json_dir[0] ### do this step only if u have a mac and need to get rid of .DS Store folder\n",
    "data = pd.DataFrame()\n",
    "for file in json_dir:\n",
    "    if \".\" not in file: \n",
    "        print (file)\n",
    "        all_files = glob.glob(os.path.join(path_to_json + file + '/', \"*.json\"))\n",
    "        df = pd.concat((pd.read_json(f) for f in all_files)) \n",
    "        df['channel'] = file\n",
    "        df['ts'] = pd.to_datetime(df['ts'],unit='s')\n",
    "        df2 = pd.DataFrame(df, columns = ['user','ts','channel','text'])\n",
    "        data = data.append(df2)\n",
    "    else:\n",
    "        print \"File contains an extenstion\""
   ]
  },
  {
   "cell_type": "code",
   "execution_count": 46,
   "metadata": {
    "collapsed": false
   },
   "outputs": [
    {
     "name": "stdout",
     "output_type": "stream",
     "text": [
      "<class 'pandas.core.frame.DataFrame'>\n",
      "Int64Index: 4511 entries, 0 to 17\n",
      "Data columns (total 4 columns):\n",
      "user       4219 non-null object\n",
      "ts         4511 non-null datetime64[ns]\n",
      "channel    4511 non-null object\n",
      "text       4511 non-null object\n",
      "dtypes: datetime64[ns](1), object(3)\n",
      "memory usage: 176.2+ KB\n"
     ]
    }
   ],
   "source": [
    "data.info()"
   ]
  },
  {
   "cell_type": "markdown",
   "metadata": {},
   "source": [
    "## Part 3 Text Preprocessing"
   ]
  },
  {
   "cell_type": "markdown",
   "metadata": {},
   "source": [
    "### Stemming and Lemmatizing"
   ]
  },
  {
   "cell_type": "markdown",
   "metadata": {},
   "source": [
    "http://www.lnse.org/papers/134-I3007.pdf\n",
    "\n",
    "D. A. Hull, “Stemming algorithms: A case study for detailed\n",
    "evaluation,” Journal of the American Society for Information Science,\n",
    "vol. 47, pp. 70-84, 1996."
   ]
  },
  {
   "cell_type": "markdown",
   "metadata": {},
   "source": [
    "One of the issues that arises in natural language processing is that words have morphligical variants which will not be recognised by term matching alogrithms (Hull 1996). This means you could have words like organize, organizes, and organizing all have the same meaning but won't be grouped together. \n",
    "\n",
    "Some of the techniques used to tackle this problem include Stemming and Lemmatizing\n"
   ]
  },
  {
   "cell_type": "markdown",
   "metadata": {},
   "source": [
    "<b> Copy from Duhita Document Need to Paraphrase </b>\n",
    "\n",
    "Stemming and Lemmatization\n",
    "In linguistics and information retrieval systems, the process of reducing inflectional and derivational forms of words to a common base is called stemming and lemmatization.\n",
    "Stemming is a process that chops off the ends of the words in the hope of achieving this goal correctly most of the time, and often includes the removal of derivational affixes. Lemmatization usually refers to doing things properly with the use of a vocabulary and morphological analysis of words, aiming to remove inflectional endings only and to return the base or dictionary form of a word, which is known as the lemma. (Manning et al. 2008). \n",
    "\n",
    "There are generally 2 types of errors that can error while performing stemming operations. Under Stemming could occur when the 2 words with the same interpretation are not stemmed to the same root. Over Stemming could occur when the 2 words with different interpretation are stemmed to the same root.(Jivani & others 2011).\n",
    "Types of Stemming Algorithm are\n",
    "•\tTruncating: It is a simple stripping technique which removes the affixes after the nth symbol. Different algorithms in this class are Lovins, Porters, Paice, Dawson\n",
    "•\tStatistical: Methods which removes affixes after statistical procedures examples being N-Gram, HMM, YASSM\n",
    "•\tMixed: approach to stemming and it involves both the inflectional as well as the derivational morphology consideration. Some of the mixed algorithms are Inflectional and Derivational, Corpus Based, Context Sensitive\n",
    "As shown in the study “A Survey on various Stemming Algorithms” (Singh & Pateriya n.d.) that none of the above mentioned stemmers give 100% productivity but are satisfactory useful to the text mining, Natural Language Processing(NLP) or Information Retrieval(IR) applications. \n",
    "The New Porter stemmer performs much better than the original stemmer and other English stemmers(Karaa 2013) and hence we decided to choose Porter’s stemmer algorithm for our project. The first one as in Porter stemmer handles inflectional morphology (plural, verb conjugation, etc.). The second step treats derivational morphology; it maps complex suffixes (suffixes compound of more than one suffix) to a single suffix from which they were derived (e.g. transform the suffix –istic to –ist). The third step deletes simple suffixes (uncompounded suffixes). The fourth step defines a set of recoding rules to normalize stems. The last step treats irregular forms that do not follow any pattern.\n",
    "\n",
    "\n"
   ]
  },
  {
   "cell_type": "markdown",
   "metadata": {},
   "source": [
    "\n",
    "Refrerences\n",
    "Jivani, A.G. & others 2011, 'A comparative study of stemming algorithms', Int. J. Comp. Tech. Appl, vol. 2, no. 6, pp. 1930–8.\n",
    "Karaa, W.B.A. 2013, 'A new stemmer to improve information retrieval', International Journal of Network Security & Its Applications, vol. 5, no. 4, p. 143.\n",
    "Manning, C.D., Raghavan, P., Schütze, H. & others 2008, Introduction to information retrieval, vol. 1, Cambridge university press Cambridge, viewed 8 May 2016, <http://www.langtoninfo.co.uk/web_content/9780521865715_frontmatter.pdf>.\n",
    "Singh, S. & Pateriya, R.K. n.d., A Survey on various Stemming Algorithms, viewed 8 May 2016, <http://www.ijcert.org/V2I57.pdf>.\n",
    "\n"
   ]
  },
  {
   "cell_type": "code",
   "execution_count": 47,
   "metadata": {
    "collapsed": false
   },
   "outputs": [],
   "source": [
    "lemma = WordNetLemmatizer()\n",
    "\n",
    "def lemma_tokens(tokens, lemma):\n",
    "    lemmatized = []\n",
    "    for item in tokens:\n",
    "        lemmatized.append(lemma.lemmatize(item))\n",
    "    return lemmatized"
   ]
  },
  {
   "cell_type": "markdown",
   "metadata": {},
   "source": [
    "### Stopwords"
   ]
  },
  {
   "cell_type": "markdown",
   "metadata": {},
   "source": [
    "Need to Paraphrase below"
   ]
  },
  {
   "cell_type": "markdown",
   "metadata": {},
   "source": [
    "\"\"\"In every language, some words are particularly common. While their use in the language is crucial, they don’t usually convey a particular meaning, especially if taken out of context. This is the case of articles, conjunctions, some adverbs, etc. which are commonly called stop-words. In the example above, we can see three common stop-words – to, and and on. Stop-word removal is one important step that should be considered during the pre-processing stages. One can build a custom list of stop-words, or use available lists (e.g. NLTK provides a simple list for English stop-words).\"\"\""
   ]
  },
  {
   "cell_type": "code",
   "execution_count": 48,
   "metadata": {
    "collapsed": false
   },
   "outputs": [
    {
     "name": "stdout",
     "output_type": "stream",
     "text": [
      "set([u'all', u'just', u'being', u'over', u'both', u'through', u'yourselves', u'its', u'before', u'herself', u'had', u'should', u'to', u'only', u'under', u'ours', u'has', u'do', u'them', u'his', u'very', u'they', u'not', u'during', u'now', u'him', u'nor', u'did', u'this', u'she', u'each', u'further', u'where', u'few', u'because', u'doing', u'some', u'are', u'our', u'ourselves', u'out', u'what', u'for', u'while', u'does', u'above', u'between', u't', u'be', u'we', u'who', u'were', u'here', u'hers', u'by', u'on', u'about', u'of', u'against', u's', u'or', u'own', u'into', u'yourself', u'down', u'your', u'from', u'her', u'their', u'there', u'been', u'whom', u'too', u'themselves', u'was', u'until', u'more', u'himself', u'that', u'but', u'don', u'with', u'than', u'those', u'he', u'me', u'myself', u'these', u'up', u'will', u'below', u'can', u'theirs', u'my', u'and', u'then', u'is', u'am', u'it', u'an', u'as', u'itself', u'at', u'have', u'in', u'any', u'if', u'again', u'no', u'when', u'same', u'how', u'other', u'which', u'you', u'after', u'most', u'such', u'why', u'a', u'off', u'i', u'yours', u'so', u'the', u'having', u'once'])\n"
     ]
    }
   ],
   "source": [
    "stops = set(stopwords.words(\"english\"))\n",
    "print stops"
   ]
  },
  {
   "cell_type": "markdown",
   "metadata": {},
   "source": [
    "### Remove Words"
   ]
  },
  {
   "cell_type": "code",
   "execution_count": 49,
   "metadata": {
    "collapsed": false
   },
   "outputs": [],
   "source": [
    "def preprocessing(s):\n",
    "    \n",
    "    s = s.lower()\n",
    "    # Howdy to English\n",
    "    s = re.sub(r'<http://(d-matrix.)?howdy.ai/([a-zA-ez]+/)+([a-zA-Z]|[0-9])+[|]','',s,re.I)\n",
    "    \n",
    "    # Links to Text\n",
    "    s = re.sub(r'((ht)|(f))tp[s]?://(?:[a-zA-Z]|[0-9]|[$-_@.&+]|[!*\\(\\),]|(?:%[0-9a-fA-F][0-9a-fA-F]))+','Happy to share a link!',s,\n",
    "                  re.I)\n",
    "    # Mail to Text\n",
    "    s = re.sub(r'(mailto:)?[a-zA-Z0-9_.+-]+@[a-zA-Z0-9-]+\\.[a-zA-Z0-9-.]+','Here is my email!',s,re.I)\n",
    "    \n",
    "    \n",
    "    # Change Names for privacy\n",
    "    s = s.replace('@u0weaa087|jared', 'jared')\n",
    "    s = s.replace('@u0wdyeg6s|duhita', 'duhita')\n",
    "    s = s.replace('@u0x443ckz|chris.garces', 'chris.garces')\n",
    "    s = s.replace('@u0wfhmem8|hussam', 'hussam')\n",
    "    s = s.replace('@u0x6cuq3d|martinlehmann', 'martinlehmann')\n",
    "    \"\"\"\n",
    "    s = s.replace('u0weaa087', 'DataScientist2')\n",
    "    s = s.replace('u0wdyeg6s', 'BusinessAnalyst')\n",
    "    s = s.replace('u0x443ckz', 'DataScientist1')\n",
    "    s = s.replace('u0wfhmem8', 'DataAnalyticsManager')\n",
    "    s = s.replace('u0x6cuq3d', 'ProjectManager')\n",
    "    s = s.replace('u13aj8evd', 'BendertheScrumMaster')\n",
    "    s = s.replace('howdy', 'BendertheScrumMaster')\n",
    "    s = s.replace('duhita', 'BusinessAnalyst')\n",
    "    s = s.replace('jared', 'DataScientist2')\n",
    "    s = s.replace('martinlehmann', 'ProjectManager')\n",
    "    s = s.replace('martin','ProjectManager')\n",
    "    s = s.replace('hussam', 'DataAnalyticsManager')\n",
    "    s = s.replace('chris', 'DataScientist1')\n",
    "    s = s.replace('chris.garces', 'DataScientist1')\n",
    "    s = s.replace('martinlehmann', 'ProjectManager')\n",
    "    s = s.replace('ravi', 'Consultant')\n",
    "    \"\"\"\n",
    "        \n",
    "    # Remove words that arent relevant\n",
    "    s = s.replace(\"channel\", \"\")\n",
    "    s = s.replace(\"file\", \"\")\n",
    "    s = s.replace(\"link\", \"\")\n",
    "    \n",
    "    # Remove everything that isnt a \n",
    "    s = re.sub(r'[^a-zA-Z]',\" \",s)\n",
    "    \n",
    "    \n",
    "    s = s.replace(\"  \", \" \")\n",
    "    \n",
    "    word = s.split()\n",
    "    \n",
    "    word = [n for n in word if n not in stops]\n",
    "    \n",
    "    lemmas = lemma_tokens(word, lemma)\n",
    "    \n",
    "    return \" \".join(lemmas)\n",
    "    "
   ]
  },
  {
   "cell_type": "code",
   "execution_count": 50,
   "metadata": {
    "collapsed": false
   },
   "outputs": [],
   "source": [
    "data['clean_text'] = data.text.apply(lambda x: preprocessing(x))"
   ]
  },
  {
   "cell_type": "code",
   "execution_count": 51,
   "metadata": {
    "collapsed": true
   },
   "outputs": [],
   "source": [
    "data = pd.merge(data,users,left_on='user',right_on='id',how='inner')\n",
    "data = data[['user','ts','channel','text','clean_text','name']]"
   ]
  },
  {
   "cell_type": "markdown",
   "metadata": {},
   "source": [
    "## Part 4 Term Frequency"
   ]
  },
  {
   "cell_type": "code",
   "execution_count": 52,
   "metadata": {
    "collapsed": false
   },
   "outputs": [
    {
     "data": {
      "text/html": [
       "<div>\n",
       "<table border=\"1\" class=\"dataframe\">\n",
       "  <thead>\n",
       "    <tr style=\"text-align: right;\">\n",
       "      <th></th>\n",
       "      <th>user</th>\n",
       "      <th>ts</th>\n",
       "      <th>channel</th>\n",
       "      <th>text</th>\n",
       "      <th>clean_text</th>\n",
       "      <th>name</th>\n",
       "    </tr>\n",
       "  </thead>\n",
       "  <tbody>\n",
       "    <tr>\n",
       "      <th>0</th>\n",
       "      <td>U0WEAA087</td>\n",
       "      <td>2016-04-03 23:32:26.000002</td>\n",
       "      <td>36100-dsi</td>\n",
       "      <td>&lt;@U0WEAA087|jared&gt; has joined the channel</td>\n",
       "      <td>jared joined</td>\n",
       "      <td>jared</td>\n",
       "    </tr>\n",
       "    <tr>\n",
       "      <th>1</th>\n",
       "      <td>U0WEAA087</td>\n",
       "      <td>2016-04-03 23:32:27.000003</td>\n",
       "      <td>36100-dsi</td>\n",
       "      <td>&lt;@U0WEAA087|jared&gt; set the channel purpose: Ch...</td>\n",
       "      <td>jared set purpose dedicated data science innov...</td>\n",
       "      <td>jared</td>\n",
       "    </tr>\n",
       "    <tr>\n",
       "      <th>2</th>\n",
       "      <td>U0WEAA087</td>\n",
       "      <td>2016-04-04 10:24:28.000009</td>\n",
       "      <td>36100-dsi</td>\n",
       "      <td>Yeah trying to get it done. I'm hoping to smas...</td>\n",
       "      <td>yeah trying get done m hoping smash wednesday ...</td>\n",
       "      <td>jared</td>\n",
       "    </tr>\n",
       "    <tr>\n",
       "      <th>3</th>\n",
       "      <td>U0WEAA087</td>\n",
       "      <td>2016-04-11 06:07:57.000119</td>\n",
       "      <td>36100-dsi</td>\n",
       "      <td>Hey Guys, sorry haven't been that active. I'm ...</td>\n",
       "      <td>hey guy sorry haven active m fine excel knime ...</td>\n",
       "      <td>jared</td>\n",
       "    </tr>\n",
       "    <tr>\n",
       "      <th>4</th>\n",
       "      <td>U0WEAA087</td>\n",
       "      <td>2016-04-11 06:11:39.000120</td>\n",
       "      <td>36100-dsi</td>\n",
       "      <td>&lt;http://nicomiceli.com/slackalytics/&gt; I might ...</td>\n",
       "      <td>Happy share might look</td>\n",
       "      <td>jared</td>\n",
       "    </tr>\n",
       "  </tbody>\n",
       "</table>\n",
       "</div>"
      ],
      "text/plain": [
       "        user                         ts    channel  \\\n",
       "0  U0WEAA087 2016-04-03 23:32:26.000002  36100-dsi   \n",
       "1  U0WEAA087 2016-04-03 23:32:27.000003  36100-dsi   \n",
       "2  U0WEAA087 2016-04-04 10:24:28.000009  36100-dsi   \n",
       "3  U0WEAA087 2016-04-11 06:07:57.000119  36100-dsi   \n",
       "4  U0WEAA087 2016-04-11 06:11:39.000120  36100-dsi   \n",
       "\n",
       "                                                text  \\\n",
       "0          <@U0WEAA087|jared> has joined the channel   \n",
       "1  <@U0WEAA087|jared> set the channel purpose: Ch...   \n",
       "2  Yeah trying to get it done. I'm hoping to smas...   \n",
       "3  Hey Guys, sorry haven't been that active. I'm ...   \n",
       "4  <http://nicomiceli.com/slackalytics/> I might ...   \n",
       "\n",
       "                                          clean_text   name  \n",
       "0                                       jared joined  jared  \n",
       "1  jared set purpose dedicated data science innov...  jared  \n",
       "2  yeah trying get done m hoping smash wednesday ...  jared  \n",
       "3  hey guy sorry haven active m fine excel knime ...  jared  \n",
       "4                             Happy share might look  jared  "
      ]
     },
     "execution_count": 52,
     "metadata": {},
     "output_type": "execute_result"
    }
   ],
   "source": [
    "#data[data.text.str.contains('@U13AJ8EVD')]\n",
    "data[data.name == 'jared'].head()"
   ]
  },
  {
   "cell_type": "markdown",
   "metadata": {},
   "source": [
    "## Bag of Words"
   ]
  },
  {
   "cell_type": "markdown",
   "metadata": {},
   "source": [
    "### Tokenizing"
   ]
  },
  {
   "cell_type": "code",
   "execution_count": 53,
   "metadata": {
    "collapsed": false
   },
   "outputs": [
    {
     "name": "stdout",
     "output_type": "stream",
     "text": [
      "[(u'word', 39), (u'yeah', 39), (u'm', 36), (u'think', 29), (u'like', 27), (u'data', 22), (u'll', 22), (u'jared', 21), (u'hey', 21), (u'work', 19), (u'need', 19), (u'going', 19), (u'might', 18), (u'joined', 16), (u'okay', 15), (u'really', 15), (u'start', 15), (u'text', 15), (u'well', 15), (u'martin', 15)]\n"
     ]
    }
   ],
   "source": [
    "from collections import Counter\n",
    " \n",
    "\n",
    "count_all = Counter()\n",
    "for line in data[data.name == 'jared']['clean_text']:\n",
    "    # Create a list with all the terms\n",
    "    text = line.split()\n",
    "    # Update the counter\n",
    "    count_all.update(text)\n",
    "    # Print the first 5 most frequent words\n",
    "print(count_all.most_common(20))"
   ]
  },
  {
   "cell_type": "code",
   "execution_count": 54,
   "metadata": {
    "collapsed": false,
    "scrolled": true
   },
   "outputs": [
    {
     "ename": "ImportError",
     "evalue": "DLL load failed: A dynamic link library (DLL) initialization routine failed.",
     "output_type": "error",
     "traceback": [
      "\u001b[1;31m---------------------------------------------------------------------------\u001b[0m",
      "\u001b[1;31mImportError\u001b[0m                               Traceback (most recent call last)",
      "\u001b[1;32m<ipython-input-54-64f445a1955d>\u001b[0m in \u001b[0;36m<module>\u001b[1;34m()\u001b[0m\n\u001b[1;32m----> 1\u001b[1;33m \u001b[1;32mfrom\u001b[0m \u001b[0mwordcloud\u001b[0m \u001b[1;32mimport\u001b[0m \u001b[0mWordCloud\u001b[0m\u001b[1;33m,\u001b[0m \u001b[0mSTOPWORDS\u001b[0m\u001b[1;33m\u001b[0m\u001b[0m\n\u001b[0m\u001b[0;32m      2\u001b[0m \u001b[0mwords\u001b[0m \u001b[1;33m=\u001b[0m \u001b[1;34m' '\u001b[0m\u001b[1;33m.\u001b[0m\u001b[0mjoin\u001b[0m\u001b[1;33m(\u001b[0m\u001b[0mdata\u001b[0m\u001b[1;33m[\u001b[0m\u001b[0mdata\u001b[0m\u001b[1;33m.\u001b[0m\u001b[0mname\u001b[0m \u001b[1;33m==\u001b[0m \u001b[1;34m'jared'\u001b[0m\u001b[1;33m]\u001b[0m\u001b[1;33m[\u001b[0m\u001b[1;34m'clean_text'\u001b[0m\u001b[1;33m]\u001b[0m\u001b[1;33m)\u001b[0m\u001b[1;33m\u001b[0m\u001b[0m\n\u001b[0;32m      3\u001b[0m \u001b[1;33m\u001b[0m\u001b[0m\n\u001b[0;32m      4\u001b[0m wordcloud = WordCloud(\n\u001b[0;32m      5\u001b[0m                       \u001b[1;31m#font_path='/Users/sebastian/Library/Fonts/CabinSketch-Bold.ttf',\u001b[0m\u001b[1;33m\u001b[0m\u001b[1;33m\u001b[0m\u001b[0m\n",
      "\u001b[1;32mC:\\Users\\Jared Chung\\Anaconda2\\lib\\site-packages\\wordcloud\\__init__.py\u001b[0m in \u001b[0;36m<module>\u001b[1;34m()\u001b[0m\n\u001b[1;32m----> 1\u001b[1;33m \u001b[1;32mfrom\u001b[0m \u001b[1;33m.\u001b[0m\u001b[0mwordcloud\u001b[0m \u001b[1;32mimport\u001b[0m \u001b[0mWordCloud\u001b[0m\u001b[1;33m,\u001b[0m \u001b[0mSTOPWORDS\u001b[0m\u001b[1;33m,\u001b[0m \u001b[0mrandom_color_func\u001b[0m\u001b[1;33m,\u001b[0m \u001b[0mget_single_color_func\u001b[0m\u001b[1;33m\u001b[0m\u001b[0m\n\u001b[0m\u001b[0;32m      2\u001b[0m \u001b[1;32mfrom\u001b[0m \u001b[1;33m.\u001b[0m\u001b[0mcolor_from_image\u001b[0m \u001b[1;32mimport\u001b[0m \u001b[0mImageColorGenerator\u001b[0m\u001b[1;33m\u001b[0m\u001b[0m\n\u001b[0;32m      3\u001b[0m \u001b[1;33m\u001b[0m\u001b[0m\n\u001b[0;32m      4\u001b[0m \u001b[0m__all__\u001b[0m \u001b[1;33m=\u001b[0m \u001b[1;33m[\u001b[0m\u001b[1;34m'WordCloud'\u001b[0m\u001b[1;33m,\u001b[0m \u001b[1;34m'STOPWORDS'\u001b[0m\u001b[1;33m,\u001b[0m \u001b[1;34m'random_color_func'\u001b[0m\u001b[1;33m,\u001b[0m \u001b[1;34m'get_single_color_func'\u001b[0m\u001b[1;33m,\u001b[0m \u001b[1;34m'ImageColorGenerator'\u001b[0m\u001b[1;33m]\u001b[0m\u001b[1;33m\u001b[0m\u001b[0m\n",
      "\u001b[1;32mC:\\Users\\Jared Chung\\Anaconda2\\lib\\site-packages\\wordcloud\\wordcloud.py\u001b[0m in \u001b[0;36m<module>\u001b[1;34m()\u001b[0m\n\u001b[0;32m     20\u001b[0m \u001b[1;32mfrom\u001b[0m \u001b[0mPIL\u001b[0m \u001b[1;32mimport\u001b[0m \u001b[0mImageFont\u001b[0m\u001b[1;33m\u001b[0m\u001b[0m\n\u001b[0;32m     21\u001b[0m \u001b[1;33m\u001b[0m\u001b[0m\n\u001b[1;32m---> 22\u001b[1;33m \u001b[1;32mfrom\u001b[0m \u001b[1;33m.\u001b[0m\u001b[0mquery_integral_image\u001b[0m \u001b[1;32mimport\u001b[0m \u001b[0mquery_integral_image\u001b[0m\u001b[1;33m\u001b[0m\u001b[0m\n\u001b[0m\u001b[0;32m     23\u001b[0m \u001b[1;33m\u001b[0m\u001b[0m\n\u001b[0;32m     24\u001b[0m \u001b[0mitem1\u001b[0m \u001b[1;33m=\u001b[0m \u001b[0mitemgetter\u001b[0m\u001b[1;33m(\u001b[0m\u001b[1;36m1\u001b[0m\u001b[1;33m)\u001b[0m\u001b[1;33m\u001b[0m\u001b[0m\n",
      "\u001b[1;31mImportError\u001b[0m: DLL load failed: A dynamic link library (DLL) initialization routine failed."
     ]
    }
   ],
   "source": [
    "from wordcloud import WordCloud, STOPWORDS\n",
    "words = ' '.join(data[data.name == 'jared']['clean_text'])\n",
    "\n",
    "wordcloud = WordCloud(\n",
    "                      #font_path='/Users/sebastian/Library/Fonts/CabinSketch-Bold.ttf',\n",
    "                      stopwords=STOPWORDS,\n",
    "                      background_color='black',\n",
    "                      width=1800,\n",
    "                      height=1400\n",
    "                     ).generate(words)\n",
    "fig = plt.figure(figsize=(10,6))\n",
    "ax = fig.add_subplot(1,1,1)\n",
    "ax.imshow(wordcloud)\n",
    "plt.axis('off')\n",
    "#plt.savefig('./my_twitter_wordcloud_1.png', dpi=300)\n",
    "#plt.show()"
   ]
  },
  {
   "cell_type": "code",
   "execution_count": null,
   "metadata": {
    "collapsed": true
   },
   "outputs": [],
   "source": []
  },
  {
   "cell_type": "code",
   "execution_count": 33,
   "metadata": {
    "collapsed": false
   },
   "outputs": [
    {
     "data": {
      "text/plain": [
       "<4x4 sparse matrix of type '<type 'numpy.int64'>'\n",
       "\twith 4 stored elements in Compressed Sparse Row format>"
      ]
     },
     "execution_count": 33,
     "metadata": {},
     "output_type": "execute_result"
    }
   ],
   "source": [
    "count_text"
   ]
  },
  {
   "cell_type": "markdown",
   "metadata": {},
   "source": [
    "### Tf-idf"
   ]
  },
  {
   "cell_type": "code",
   "execution_count": null,
   "metadata": {
    "collapsed": true
   },
   "outputs": [],
   "source": []
  },
  {
   "cell_type": "code",
   "execution_count": null,
   "metadata": {
    "collapsed": true
   },
   "outputs": [],
   "source": []
  },
  {
   "cell_type": "code",
   "execution_count": null,
   "metadata": {
    "collapsed": true
   },
   "outputs": [],
   "source": []
  },
  {
   "cell_type": "markdown",
   "metadata": {},
   "source": [
    "## Part 5 Data Visualization"
   ]
  },
  {
   "cell_type": "code",
   "execution_count": 55,
   "metadata": {
    "collapsed": false
   },
   "outputs": [
    {
     "data": {
      "text/plain": [
       "[u'jared',\n",
       " u'duhita',\n",
       " u'chris.garces',\n",
       " u'hussam',\n",
       " u'martinlehmann',\n",
       " u'howdy',\n",
       " u'ravi']"
      ]
     },
     "execution_count": 55,
     "metadata": {},
     "output_type": "execute_result"
    }
   ],
   "source": [
    "list(data.name.unique())"
   ]
  },
  {
   "cell_type": "code",
   "execution_count": 75,
   "metadata": {
    "collapsed": true
   },
   "outputs": [],
   "source": [
    "# Change name to specifiy who you are analyising\n",
    "name = 'jared'"
   ]
  },
  {
   "cell_type": "code",
   "execution_count": 76,
   "metadata": {
    "collapsed": false,
    "scrolled": true
   },
   "outputs": [
    {
     "data": {
      "text/html": [
       "<div>\n",
       "<table border=\"1\" class=\"dataframe\">\n",
       "  <thead>\n",
       "    <tr style=\"text-align: right;\">\n",
       "      <th></th>\n",
       "      <th>user</th>\n",
       "      <th>ts</th>\n",
       "      <th>channel</th>\n",
       "      <th>text</th>\n",
       "      <th>clean_text</th>\n",
       "      <th>name</th>\n",
       "    </tr>\n",
       "  </thead>\n",
       "  <tbody>\n",
       "    <tr>\n",
       "      <th>0</th>\n",
       "      <td>U0WEAA087</td>\n",
       "      <td>2016-04-03 23:32:26.000002</td>\n",
       "      <td>36100-dsi</td>\n",
       "      <td>&lt;@U0WEAA087|jared&gt; has joined the channel</td>\n",
       "      <td>jared joined</td>\n",
       "      <td>jared</td>\n",
       "    </tr>\n",
       "    <tr>\n",
       "      <th>1</th>\n",
       "      <td>U0WEAA087</td>\n",
       "      <td>2016-04-03 23:32:27.000003</td>\n",
       "      <td>36100-dsi</td>\n",
       "      <td>&lt;@U0WEAA087|jared&gt; set the channel purpose: Ch...</td>\n",
       "      <td>jared set purpose dedicated data science innov...</td>\n",
       "      <td>jared</td>\n",
       "    </tr>\n",
       "    <tr>\n",
       "      <th>2</th>\n",
       "      <td>U0WEAA087</td>\n",
       "      <td>2016-04-04 10:24:28.000009</td>\n",
       "      <td>36100-dsi</td>\n",
       "      <td>Yeah trying to get it done. I'm hoping to smas...</td>\n",
       "      <td>yeah trying get done m hoping smash wednesday ...</td>\n",
       "      <td>jared</td>\n",
       "    </tr>\n",
       "    <tr>\n",
       "      <th>3</th>\n",
       "      <td>U0WEAA087</td>\n",
       "      <td>2016-04-11 06:07:57.000119</td>\n",
       "      <td>36100-dsi</td>\n",
       "      <td>Hey Guys, sorry haven't been that active. I'm ...</td>\n",
       "      <td>hey guy sorry haven active m fine excel knime ...</td>\n",
       "      <td>jared</td>\n",
       "    </tr>\n",
       "    <tr>\n",
       "      <th>4</th>\n",
       "      <td>U0WEAA087</td>\n",
       "      <td>2016-04-11 06:11:39.000120</td>\n",
       "      <td>36100-dsi</td>\n",
       "      <td>&lt;http://nicomiceli.com/slackalytics/&gt; I might ...</td>\n",
       "      <td>Happy share might look</td>\n",
       "      <td>jared</td>\n",
       "    </tr>\n",
       "  </tbody>\n",
       "</table>\n",
       "</div>"
      ],
      "text/plain": [
       "        user                         ts    channel  \\\n",
       "0  U0WEAA087 2016-04-03 23:32:26.000002  36100-dsi   \n",
       "1  U0WEAA087 2016-04-03 23:32:27.000003  36100-dsi   \n",
       "2  U0WEAA087 2016-04-04 10:24:28.000009  36100-dsi   \n",
       "3  U0WEAA087 2016-04-11 06:07:57.000119  36100-dsi   \n",
       "4  U0WEAA087 2016-04-11 06:11:39.000120  36100-dsi   \n",
       "\n",
       "                                                text  \\\n",
       "0          <@U0WEAA087|jared> has joined the channel   \n",
       "1  <@U0WEAA087|jared> set the channel purpose: Ch...   \n",
       "2  Yeah trying to get it done. I'm hoping to smas...   \n",
       "3  Hey Guys, sorry haven't been that active. I'm ...   \n",
       "4  <http://nicomiceli.com/slackalytics/> I might ...   \n",
       "\n",
       "                                          clean_text   name  \n",
       "0                                       jared joined  jared  \n",
       "1  jared set purpose dedicated data science innov...  jared  \n",
       "2  yeah trying get done m hoping smash wednesday ...  jared  \n",
       "3  hey guy sorry haven active m fine excel knime ...  jared  \n",
       "4                             Happy share might look  jared  "
      ]
     },
     "execution_count": 76,
     "metadata": {},
     "output_type": "execute_result"
    }
   ],
   "source": [
    "data.head()"
   ]
  },
  {
   "cell_type": "markdown",
   "metadata": {},
   "source": [
    "### Ploting messages over time"
   ]
  },
  {
   "cell_type": "code",
   "execution_count": 77,
   "metadata": {
    "collapsed": false
   },
   "outputs": [
    {
     "data": {
      "text/plain": [
       "<matplotlib.text.Text at 0x14d4fe80>"
      ]
     },
     "execution_count": 77,
     "metadata": {},
     "output_type": "execute_result"
    },
    {
     "data": {
      "image/png": "[encoded data removed]",
      "text/plain": [
       "<matplotlib.figure.Figure at 0x147bfe80>"
      ]
     },
     "metadata": {},
     "output_type": "display_data"
    }
   ],
   "source": [
    "fig = plt.figure(figsize=(15,5))\n",
    "ax = fig.add_subplot(1,1,1)\n",
    "ax.bar(data[data.name == name].groupby(data[data.name == name].ts.apply(lambda x: x.hour)).text.size().index+1,\n",
    "       data[data.name == name].groupby(data[data.name == name].ts.apply(lambda x: x.hour)).text.size())\n",
    "fig.suptitle(\"Message by Hour\",fontsize= 14)\n",
    "ax.set_xlabel(\"Hour of the Day\")\n",
    "ax.set_xticks(data[data.name == name].groupby(data[data.name == name].ts.apply(lambda x: x.hour)).text.size().index+ 1)\n",
    "ax.set_ylabel(\"No. of Messages\")\n",
    "#fig.savefig(\"Aggregated Hours.png\")"
   ]
  },
  {
   "cell_type": "code",
   "execution_count": 78,
   "metadata": {
    "collapsed": false
   },
   "outputs": [
    {
     "data": {
      "text/plain": [
       "<matplotlib.text.Text at 0x14f1c780>"
      ]
     },
     "execution_count": 78,
     "metadata": {},
     "output_type": "execute_result"
    },
    {
     "data": {
      "image/png": "[encoded data removed]",
      "text/plain": [
       "<matplotlib.figure.Figure at 0x14a76940>"
      ]
     },
     "metadata": {},
     "output_type": "display_data"
    }
   ],
   "source": [
    "days = ['Monday','Tuesday','Wednesday','Thursday','Friday','Saturday','Sunday']\n",
    "\n",
    "fig = plt.figure(figsize=(10,6))\n",
    "ax = fig.add_subplot(1,1,1)\n",
    "ax.barh(data[data.name == name].groupby(data[data.name == name].ts.apply(lambda x: x.dayofweek)).text.size().index +1,\n",
    "        data[data.name == name].groupby(data[data.name == name].ts.apply(lambda x: x.dayofweek)).text.size(),color='red')\n",
    "fig.suptitle(\"Messages by Day\",fontsize= 14)\n",
    "ax.set_ylabel(\"Day of week\")\n",
    "ax.set_yticklabels(days) #jared.groupby(jared.ts.apply(lambda x: x.dayofweek)).text.size().index+ 1)\n",
    "ax.set_xlabel(\"No. of Messages\")\n",
    "#fig.savefig(\"Aggregated Day of Week.png\")"
   ]
  },
  {
   "cell_type": "code",
   "execution_count": 79,
   "metadata": {
    "collapsed": false
   },
   "outputs": [
    {
     "data": {
      "text/plain": [
       "ts\n",
       "2016-03-30     4\n",
       "2016-03-31     3\n",
       "2016-04-01     2\n",
       "2016-04-02     3\n",
       "2016-04-03     6\n",
       "2016-04-04     8\n",
       "2016-04-07     1\n",
       "2016-04-11     5\n",
       "2016-04-12     3\n",
       "2016-04-13     2\n",
       "2016-04-14     2\n",
       "2016-04-15     3\n",
       "2016-04-16     1\n",
       "2016-04-17    13\n",
       "2016-04-18     5\n",
       "2016-04-22     6\n",
       "2016-04-24     3\n",
       "2016-04-25    15\n",
       "2016-04-28     3\n",
       "2016-04-29     5\n",
       "2016-04-30    18\n",
       "2016-05-01    13\n",
       "2016-05-04    27\n",
       "2016-05-05     5\n",
       "2016-05-06     3\n",
       "2016-05-07    10\n",
       "2016-05-08     3\n",
       "2016-05-09    79\n",
       "2016-05-10    34\n",
       "2016-05-11    39\n",
       "2016-05-12    22\n",
       "2016-05-13    23\n",
       "2016-05-14     2\n",
       "dtype: int64"
      ]
     },
     "execution_count": 79,
     "metadata": {},
     "output_type": "execute_result"
    }
   ],
   "source": [
    "data[data.name == name].groupby(data[data.name == name].ts.apply(lambda x: datetime.datetime.date(x))).text.size()"
   ]
  },
  {
   "cell_type": "code",
   "execution_count": 94,
   "metadata": {
    "collapsed": false,
    "scrolled": false
   },
   "outputs": [
    {
     "data": {
      "text/plain": [
       "<matplotlib.text.Text at 0x15968048>"
      ]
     },
     "execution_count": 94,
     "metadata": {},
     "output_type": "execute_result"
    },
    {
     "data": {
      "image/png": "[encoded data removed]",
      "text/plain": [
       "<matplotlib.figure.Figure at 0x15db4dd8>"
      ]
     },
     "metadata": {},
     "output_type": "display_data"
    }
   ],
   "source": [
    "import datetime\n",
    "fig = plt.figure(figsize=(10,6))\n",
    "ax = fig.add_subplot(1,1,1)\n",
    "ax.plot(data[data.name == name].groupby(data[data.name == name].ts.apply(lambda x: datetime.datetime.date(x))).text.size().index,\n",
    "        data[data.name == name].groupby(data[data.name == name].ts.apply(lambda x: datetime.datetime.date(x))).text.size().values,color='red')\n",
    "fig.suptitle(\"Message over Time\",fontsize= 14)\n",
    "ax.set_ylabel(\"No. of Messages\")\n",
    "#ax.set_yticklabels(days) #jared.groupby(jared.ts.apply(lambda x: x.dayofweek)).text.size().index+ 1)\n",
    "ax.set_xlabel(\"Date\")\n",
    "#fig.savefig(\"Aggregated Day of Week.png\")"
   ]
  },
  {
   "cell_type": "code",
   "execution_count": null,
   "metadata": {
    "collapsed": true
   },
   "outputs": [],
   "source": []
  },
  {
   "cell_type": "code",
   "execution_count": null,
   "metadata": {
    "collapsed": true
   },
   "outputs": [],
   "source": []
  },
  {
   "cell_type": "code",
   "execution_count": null,
   "metadata": {
    "collapsed": true
   },
   "outputs": [],
   "source": []
  },
  {
   "cell_type": "code",
   "execution_count": null,
   "metadata": {
    "collapsed": true
   },
   "outputs": [],
   "source": []
  },
  {
   "cell_type": "markdown",
   "metadata": {},
   "source": [
    "## Part 6 Sentiment Analysis"
   ]
  },
  {
   "cell_type": "code",
   "execution_count": 89,
   "metadata": {
    "collapsed": true
   },
   "outputs": [],
   "source": [
    "data2 = pd.read_csv(\"Final_Merged_Output2.csv\")#, parse_dates=['ts'])"
   ]
  },
  {
   "cell_type": "code",
   "execution_count": 90,
   "metadata": {
    "collapsed": false
   },
   "outputs": [],
   "source": [
    "data2['ts'] = pd.to_datetime(data2.ts)"
   ]
  },
  {
   "cell_type": "code",
   "execution_count": 91,
   "metadata": {
    "collapsed": false
   },
   "outputs": [
    {
     "data": {
      "text/html": [
       "<div>\n",
       "<table border=\"1\" class=\"dataframe\">\n",
       "  <thead>\n",
       "    <tr style=\"text-align: right;\">\n",
       "      <th></th>\n",
       "      <th>idx_col</th>\n",
       "      <th>user</th>\n",
       "      <th>ts</th>\n",
       "      <th>channel</th>\n",
       "      <th>clean_text_x</th>\n",
       "      <th>name</th>\n",
       "      <th>agreeableness</th>\n",
       "      <th>conscientiousness</th>\n",
       "      <th>extraversion</th>\n",
       "      <th>openness</th>\n",
       "      <th>...</th>\n",
       "      <th>mediator</th>\n",
       "      <th>protagonist</th>\n",
       "      <th>virtuoso</th>\n",
       "      <th>anger</th>\n",
       "      <th>fear</th>\n",
       "      <th>joy</th>\n",
       "      <th>sadness</th>\n",
       "      <th>surprise</th>\n",
       "      <th>final_sentiment</th>\n",
       "      <th>clean_text_y</th>\n",
       "    </tr>\n",
       "  </thead>\n",
       "  <tbody>\n",
       "    <tr>\n",
       "      <th>0</th>\n",
       "      <td>0</td>\n",
       "      <td>U0WDYEG6S</td>\n",
       "      <td>2016-03-30 05:19:00</td>\n",
       "      <td>General</td>\n",
       "      <td>duhita joined</td>\n",
       "      <td>duhita</td>\n",
       "      <td>0.401379</td>\n",
       "      <td>0.590830</td>\n",
       "      <td>0.312538</td>\n",
       "      <td>0.287906</td>\n",
       "      <td>...</td>\n",
       "      <td>0.027189</td>\n",
       "      <td>0.009792</td>\n",
       "      <td>0.176363</td>\n",
       "      <td>0.165863</td>\n",
       "      <td>0.229659</td>\n",
       "      <td>0.234424</td>\n",
       "      <td>0.149779</td>\n",
       "      <td>0.220275</td>\n",
       "      <td>0.475914</td>\n",
       "      <td>duhita joined</td>\n",
       "    </tr>\n",
       "    <tr>\n",
       "      <th>1</th>\n",
       "      <td>1</td>\n",
       "      <td>U0WDYEG6S</td>\n",
       "      <td>2016-03-30 05:19:00</td>\n",
       "      <td>General</td>\n",
       "      <td>duhita joined</td>\n",
       "      <td>duhita</td>\n",
       "      <td>0.401379</td>\n",
       "      <td>0.590830</td>\n",
       "      <td>0.312538</td>\n",
       "      <td>0.287906</td>\n",
       "      <td>...</td>\n",
       "      <td>0.027189</td>\n",
       "      <td>0.009792</td>\n",
       "      <td>0.176363</td>\n",
       "      <td>0.165863</td>\n",
       "      <td>0.229659</td>\n",
       "      <td>0.234424</td>\n",
       "      <td>0.149779</td>\n",
       "      <td>0.220275</td>\n",
       "      <td>0.475914</td>\n",
       "      <td>duhita joined</td>\n",
       "    </tr>\n",
       "    <tr>\n",
       "      <th>2</th>\n",
       "      <td>2</td>\n",
       "      <td>U0WDYEG6S</td>\n",
       "      <td>2016-03-30 06:03:00</td>\n",
       "      <td>General</td>\n",
       "      <td>added integration Happy share jira</td>\n",
       "      <td>duhita</td>\n",
       "      <td>0.209333</td>\n",
       "      <td>0.450871</td>\n",
       "      <td>0.468463</td>\n",
       "      <td>0.681538</td>\n",
       "      <td>...</td>\n",
       "      <td>0.028815</td>\n",
       "      <td>0.015750</td>\n",
       "      <td>0.079057</td>\n",
       "      <td>0.017881</td>\n",
       "      <td>0.031575</td>\n",
       "      <td>0.388510</td>\n",
       "      <td>0.054495</td>\n",
       "      <td>0.507539</td>\n",
       "      <td>0.960398</td>\n",
       "      <td>added integration Happy share jira</td>\n",
       "    </tr>\n",
       "    <tr>\n",
       "      <th>3</th>\n",
       "      <td>3</td>\n",
       "      <td>U0WEAA087</td>\n",
       "      <td>2016-03-30 06:04:00</td>\n",
       "      <td>General</td>\n",
       "      <td>jared joined</td>\n",
       "      <td>jared</td>\n",
       "      <td>0.528911</td>\n",
       "      <td>0.230835</td>\n",
       "      <td>0.870341</td>\n",
       "      <td>0.592885</td>\n",
       "      <td>...</td>\n",
       "      <td>0.000120</td>\n",
       "      <td>0.033319</td>\n",
       "      <td>0.000096</td>\n",
       "      <td>0.175897</td>\n",
       "      <td>0.225330</td>\n",
       "      <td>0.239408</td>\n",
       "      <td>0.178905</td>\n",
       "      <td>0.180460</td>\n",
       "      <td>0.720958</td>\n",
       "      <td>jared joined</td>\n",
       "    </tr>\n",
       "    <tr>\n",
       "      <th>4</th>\n",
       "      <td>4</td>\n",
       "      <td>U0WEAA087</td>\n",
       "      <td>2016-03-30 06:04:00</td>\n",
       "      <td>General</td>\n",
       "      <td>jared joined</td>\n",
       "      <td>jared</td>\n",
       "      <td>0.528911</td>\n",
       "      <td>0.230835</td>\n",
       "      <td>0.870341</td>\n",
       "      <td>0.592885</td>\n",
       "      <td>...</td>\n",
       "      <td>0.000120</td>\n",
       "      <td>0.033319</td>\n",
       "      <td>0.000096</td>\n",
       "      <td>0.175897</td>\n",
       "      <td>0.225330</td>\n",
       "      <td>0.239408</td>\n",
       "      <td>0.178905</td>\n",
       "      <td>0.180460</td>\n",
       "      <td>0.720958</td>\n",
       "      <td>jared joined</td>\n",
       "    </tr>\n",
       "  </tbody>\n",
       "</table>\n",
       "<p>5 rows × 33 columns</p>\n",
       "</div>"
      ],
      "text/plain": [
       "   idx_col       user                  ts  channel  \\\n",
       "0        0  U0WDYEG6S 2016-03-30 05:19:00  General   \n",
       "1        1  U0WDYEG6S 2016-03-30 05:19:00  General   \n",
       "2        2  U0WDYEG6S 2016-03-30 06:03:00  General   \n",
       "3        3  U0WEAA087 2016-03-30 06:04:00  General   \n",
       "4        4  U0WEAA087 2016-03-30 06:04:00  General   \n",
       "\n",
       "                         clean_text_x    name  agreeableness  \\\n",
       "0                       duhita joined  duhita       0.401379   \n",
       "1                       duhita joined  duhita       0.401379   \n",
       "2  added integration Happy share jira  duhita       0.209333   \n",
       "3                        jared joined   jared       0.528911   \n",
       "4                        jared joined   jared       0.528911   \n",
       "\n",
       "   conscientiousness  extraversion  openness  \\\n",
       "0           0.590830      0.312538  0.287906   \n",
       "1           0.590830      0.312538  0.287906   \n",
       "2           0.450871      0.468463  0.681538   \n",
       "3           0.230835      0.870341  0.592885   \n",
       "4           0.230835      0.870341  0.592885   \n",
       "\n",
       "                  ...                  mediator  protagonist  virtuoso  \\\n",
       "0                 ...                  0.027189     0.009792  0.176363   \n",
       "1                 ...                  0.027189     0.009792  0.176363   \n",
       "2                 ...                  0.028815     0.015750  0.079057   \n",
       "3                 ...                  0.000120     0.033319  0.000096   \n",
       "4                 ...                  0.000120     0.033319  0.000096   \n",
       "\n",
       "      anger      fear       joy   sadness  surprise  final_sentiment  \\\n",
       "0  0.165863  0.229659  0.234424  0.149779  0.220275         0.475914   \n",
       "1  0.165863  0.229659  0.234424  0.149779  0.220275         0.475914   \n",
       "2  0.017881  0.031575  0.388510  0.054495  0.507539         0.960398   \n",
       "3  0.175897  0.225330  0.239408  0.178905  0.180460         0.720958   \n",
       "4  0.175897  0.225330  0.239408  0.178905  0.180460         0.720958   \n",
       "\n",
       "                         clean_text_y  \n",
       "0                       duhita joined  \n",
       "1                       duhita joined  \n",
       "2  added integration Happy share jira  \n",
       "3                        jared joined  \n",
       "4                        jared joined  \n",
       "\n",
       "[5 rows x 33 columns]"
      ]
     },
     "execution_count": 91,
     "metadata": {},
     "output_type": "execute_result"
    }
   ],
   "source": [
    "data2.head()"
   ]
  },
  {
   "cell_type": "code",
   "execution_count": 67,
   "metadata": {
    "collapsed": false
   },
   "outputs": [
    {
     "name": "stdout",
     "output_type": "stream",
     "text": [
      "<class 'pandas.core.frame.DataFrame'>\n",
      "RangeIndex: 4159 entries, 0 to 4158\n",
      "Data columns (total 33 columns):\n",
      "idx_col              4159 non-null int64\n",
      "user                 4159 non-null object\n",
      "ts                   4159 non-null datetime64[ns]\n",
      "channel              4159 non-null object\n",
      "clean_text_x         4159 non-null object\n",
      "name                 4159 non-null object\n",
      "agreeableness        4159 non-null float64\n",
      "conscientiousness    4159 non-null float64\n",
      "extraversion         4159 non-null float64\n",
      "openness             4159 non-null float64\n",
      "adventurer           4159 non-null float64\n",
      "advocate             4159 non-null float64\n",
      "architect            4159 non-null float64\n",
      "campaigner           4159 non-null float64\n",
      "commander            4159 non-null float64\n",
      "consul               4159 non-null float64\n",
      "debater              4159 non-null float64\n",
      "defender             4159 non-null float64\n",
      "entertainer          4159 non-null float64\n",
      "entrepreneur         4159 non-null float64\n",
      "executive            4159 non-null float64\n",
      "logician             4159 non-null float64\n",
      "logistician          4159 non-null float64\n",
      "mediator             4159 non-null float64\n",
      "protagonist          4159 non-null float64\n",
      "virtuoso             4159 non-null float64\n",
      "anger                4159 non-null float64\n",
      "fear                 4159 non-null float64\n",
      "joy                  4159 non-null float64\n",
      "sadness              4159 non-null float64\n",
      "surprise             4159 non-null float64\n",
      "final_sentiment      4159 non-null float64\n",
      "clean_text_y         4159 non-null object\n",
      "dtypes: datetime64[ns](1), float64(26), int64(1), object(5)\n",
      "memory usage: 1.0+ MB\n"
     ]
    }
   ],
   "source": [
    "data2.info()"
   ]
  },
  {
   "cell_type": "code",
   "execution_count": 93,
   "metadata": {
    "collapsed": false
   },
   "outputs": [
    {
     "name": "stderr",
     "output_type": "stream",
     "text": [
      "C:\\Users\\Jared Chung\\Anaconda2\\lib\\site-packages\\ipykernel\\__main__.py:4: UserWarning: Boolean Series key will be reindexed to match DataFrame index.\n",
      "C:\\Users\\Jared Chung\\Anaconda2\\lib\\site-packages\\ipykernel\\__main__.py:5: UserWarning: Boolean Series key will be reindexed to match DataFrame index.\n"
     ]
    },
    {
     "data": {
      "text/plain": [
       "<matplotlib.text.Text at 0x156baa20>"
      ]
     },
     "execution_count": 93,
     "metadata": {},
     "output_type": "execute_result"
    },
    {
     "data": {
      "image/png": "[encoded data removed]",
      "text/plain": [
       "<matplotlib.figure.Figure at 0x156ab908>"
      ]
     },
     "metadata": {},
     "output_type": "display_data"
    }
   ],
   "source": [
    "import datetime\n",
    "fig = plt.figure(figsize=(10,6))\n",
    "ax = fig.add_subplot(1,1,1)\n",
    "ax.plot(data2[data.name == name].groupby(data2[data2.name == name].ts.apply(lambda x: datetime.datetime.date(x))).clean_text_x.size().index,\n",
    "        data2[data.name == name].groupby(data2[data2.name == name].ts.apply(lambda x: datetime.datetime.date(x))).clean_text_x.size().values,color='red')\n",
    "fig.suptitle(\"Message over Time\",fontsize= 14)\n",
    "ax.set_ylabel(\"No. of Messages\")\n",
    "#ax.set_yticklabels(days) #jared.groupby(jared.ts.apply(lambda x: x.dayofweek)).text.size().index+ 1)\n",
    "ax.set_xlabel(\"Date\")\n",
    "#fig.savefig(\"Aggregated Day of Week.png\")"
   ]
  },
  {
   "cell_type": "code",
   "execution_count": null,
   "metadata": {
    "collapsed": true
   },
   "outputs": [],
   "source": []
  }
 ],
 "metadata": {
  "kernelspec": {
   "display_name": "Python 2",
   "language": "python",
   "name": "python2"
  },
  "language_info": {
   "codemirror_mode": {
    "name": "ipython",
    "version": 2
   },
   "file_extension": ".py",
   "mimetype": "text/x-python",
   "name": "python",
   "nbconvert_exporter": "python",
   "pygments_lexer": "ipython2",
   "version": "2.7.11"
  }
 },
 "nbformat": 4,
 "nbformat_minor": 0
}
