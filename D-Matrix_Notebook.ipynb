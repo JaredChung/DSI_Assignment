{
 "cells": [
  {
   "cell_type": "markdown",
   "metadata": {},
   "source": [
    "# DSI Assessment 2 - Quantified Self"
   ]
  },
  {
   "cell_type": "code",
   "execution_count": 1,
   "metadata": {
    "collapsed": false,
    "scrolled": true
   },
   "outputs": [
    {
     "data": {
      "text/html": [
       "<script>\n",
       "code_show=true; \n",
       "function code_toggle() {\n",
       " if (code_show){\n",
       " $('div.input').hide();\n",
       " } else {\n",
       " $('div.input').show();\n",
       " }\n",
       " code_show = !code_show\n",
       "} \n",
       "$( document ).ready(code_toggle);\n",
       "</script>\n",
       "<form action=\"javascript:code_toggle()\"><input type=\"submit\" value=\"Click here to toggle on/off the raw code.\"></form>"
      ],
      "text/plain": [
       "<IPython.core.display.HTML object>"
      ]
     },
     "execution_count": 1,
     "metadata": {},
     "output_type": "execute_result"
    }
   ],
   "source": [
    "from IPython.display import HTML\n",
    "\n",
    "HTML('''<script>\n",
    "code_show=true; \n",
    "function code_toggle() {\n",
    " if (code_show){\n",
    " $('div.input').hide();\n",
    " } else {\n",
    " $('div.input').show();\n",
    " }\n",
    " code_show = !code_show\n",
    "} \n",
    "$( document ).ready(code_toggle);\n",
    "</script>\n",
    "<form action=\"javascript:code_toggle()\"><input type=\"submit\" value=\"Click here to toggle on/off the raw code.\"></form>''')"
   ]
  },
  {
   "cell_type": "markdown",
   "metadata": {},
   "source": [
    "<b> \n",
    "\n",
    "Table of Contents:\n",
    "\n",
    "* Part 1: Introduction\n",
    "* Part 2: Collecting data\n",
    "* Part 3: Text Pre-processing\n",
    "* Part 4: Term Frequencies\n",
    "* Part 5: Data Visualisation Basics\n",
    "* Part 6: Sentiment Analysis Basics\n",
    "\n",
    "</b>"
   ]
  },
  {
   "cell_type": "markdown",
   "metadata": {},
   "source": [
    "Template\n",
    "\n",
    "* Introduction\n",
    "* Description of process, or method\n",
    "* Analysis\n",
    "* Discussion\n",
    "* Conclusions\n",
    "* Reflection\n",
    "* References\n",
    "* Appendices\n"
   ]
  },
  {
   "cell_type": "markdown",
   "metadata": {},
   "source": [
    "## Part 1 Introduction"
   ]
  },
  {
   "cell_type": "markdown",
   "metadata": {},
   "source": [
    "## Problem Statement"
   ]
  },
  {
   "cell_type": "markdown",
   "metadata": {},
   "source": [
    "#### Motivation"
   ]
  },
  {
   "cell_type": "markdown",
   "metadata": {},
   "source": [
    "The foundation of a successful project lies within the ability of the group to work together\n",
    "The purpose of this project is to gain insight into how we as individuals play a role in a collaborating on a data science endeavour. As communication can be seen as a critical success measure of how well project is completed, we wanted to analyse our participation in completing the DSI Assignment.\n",
    "\n",
    "To measure our participation in the DSI assignment we collected data from chat conversations in Slack and JIRA issue tickets to get an understanding of the language used whilst collaborating and the (need to fill) . We will be using applying Natural Language processing techniques to transform and evaluate our data as well as using tools such as python and power BI to visualize and explain the insights that we have uncovered.\n",
    "\n",
    "Text mining is being used increasingly as organizations recognize the untapped information contained in text. Social media, such as Twitter and Facebook, have been used effectively by organizations to uncover positive and negative trends that, when identified through text mining, can be used to leverage the positive trends and provide corrective action to counteract any negative comments."
   ]
  },
  {
   "cell_type": "markdown",
   "metadata": {
    "collapsed": true
   },
   "source": [
    "## Sources of Data"
   ]
  },
  {
   "cell_type": "markdown",
   "metadata": {},
   "source": [
    "#### Slack"
   ]
  },
  {
   "cell_type": "markdown",
   "metadata": {
    "collapsed": true
   },
   "source": [
    "[Slack](www.slack.com) is an instant message and team collaboration tool. Some of the features of slack is being able to create channels with different topics. For example in the case of our assignment we had channels based on the CRISP-DM framework as well as channels which were less about data science and more about free flowing discussions.\n",
    "\n",
    "Some of the additional features of slack is the ability to incorporate customized addons. One of the addons we used was a messaging bot called Howdy. The purpose of howdy is to be an additional member of the team and allow people to reflect on what they had done as well as highlight any problems or issues occuring in the project. "
   ]
  },
  {
   "cell_type": "markdown",
   "metadata": {},
   "source": [
    "<b> Jira </b>"
   ]
  },
  {
   "cell_type": "markdown",
   "metadata": {},
   "source": [
    "[Jira](https://www.atlassian.com/software/jira) is an issue tracking and projet management tool. Jira allows you to track any kind of unit of work (be it an issue, bug, story, project task, etc.) through a predefined workflow. \n",
    "\n",
    "Both the unit (what you call your item of work) and the workflow (the steps that item takes from open to close) can be highly customized for your team's specific requirements, whether simple or more complex.\n",
    "\n",
    "On top of all that, JIRA's really good at tracking (via detailed, custom reports and dashboards) where all of your project items/issues lie at a teamwide, company or individual level - for example, what are all of the issues assigned to me, created in the last 7 days?\n",
    "\n",
    "Collaboration's also a big point of emphasis in JIRA - @mentioning, formatted commenting , and sharing issues via email all help make your work more visible to your teams so folks stay on the same page throughout their project, release, or set of tasks.\n",
    "\n",
    "Some common use cases include software development, feature implementation, bug tracking, agile project management (with JIRA Agile), and service desk ticket tracking (with JIRA Service Desk)."
   ]
  },
  {
   "cell_type": "markdown",
   "metadata": {},
   "source": [
    "## Part 2 Collecting Data"
   ]
  },
  {
   "cell_type": "markdown",
   "metadata": {},
   "source": [
    "One of the main issues affecting data science projects is trying to acquire the necessary amount data and also make sure that the quality of the data is in a manner which can be analysed. As the majority of our data comes from messages, we had to spend alot of time formating and transforming the text. To address these issues we applied a number of Natural Language Processing techniques.\n",
    "\n",
    "In this section, we will go through how we extracted the data as well as a background and evaluation of the techniques used in Natural Language Processing with our final decision of techniques that we used in the assignment."
   ]
  },
  {
   "cell_type": "code",
   "execution_count": 2,
   "metadata": {
    "collapsed": false,
    "scrolled": true
   },
   "outputs": [],
   "source": [
    "import pandas as pd # Data Munging tool\n",
    "import os # Operating System functionality\n",
    "import glob # Finds all pathnames e.g(.json)\n",
    "import re # Regular Expression\n",
    "import matplotlib.pyplot as plt\n",
    "import seaborn as sns\n",
    "from sklearn.feature_extraction.text import CountVectorizer\n",
    "from sklearn.feature_extraction.text import TfidfVectorizer # Combines both Count Vectorizer and Tfidf Transformer\n",
    "from nltk.corpus import stopwords\n",
    "from nltk.stem import WordNetLemmatizer\n",
    "\n",
    "plt.style.use('ggplot')\n",
    "%matplotlib inline"
   ]
  },
  {
   "cell_type": "code",
   "execution_count": 3,
   "metadata": {
    "collapsed": false,
    "scrolled": true
   },
   "outputs": [],
   "source": [
    "#users = pd.read_json(\"C:/users/Jared Chung/Desktop/D-Matrix/users.json\") #Laptop\n",
    "users = pd.read_json(\"C:/users/jchung/desktop/D-Matrix/users.json\") #Work"
   ]
  },
  {
   "cell_type": "code",
   "execution_count": 4,
   "metadata": {
    "collapsed": false,
    "scrolled": true
   },
   "outputs": [
    {
     "name": "stdout",
     "output_type": "stream",
     "text": [
      "36100-dsi\n",
      "36100-dsi-photos\n",
      "36103-statistics\n",
      "36106-dam\n",
      "File contains an extenstion\n",
      "crisp-businessknow\n",
      "crisp-dataknow\n",
      "crisp-dataprep\n",
      "crisp-deploy\n",
      "crisp-eval\n",
      "crisp-modelling\n",
      "dam\n",
      "dsi\n",
      "dsi-assignment-2a\n",
      "general\n",
      "File contains an extenstion\n",
      "jira-discussion\n",
      "python_instructions\n",
      "random\n",
      "story-telling\n",
      "File contains an extenstion\n"
     ]
    }
   ],
   "source": [
    "#path_to_json = 'C:/users/Jared Chung/Desktop/D-Matrix/' #Laptop\n",
    "path_to_json = 'C:/users/jchung/desktop/D-Matrix/' #Work\n",
    "json_dir = os.listdir(path_to_json)\n",
    "#del json_dir[0] ### do this step only if u have a mac and need to get rid of .DS Store folder\n",
    "data = pd.DataFrame()\n",
    "for file in json_dir:\n",
    "    if \".\" not in file: \n",
    "        print (file)\n",
    "        all_files = glob.glob(os.path.join(path_to_json + file + '/', \"*.json\"))\n",
    "        df = pd.concat((pd.read_json(f) for f in all_files)) \n",
    "        df['channel'] = file\n",
    "        df['ts'] = pd.to_datetime(df['ts'],unit='s')\n",
    "        df2 = pd.DataFrame(df, columns = ['user','ts','channel','text'])\n",
    "        data = data.append(df2)\n",
    "    else:\n",
    "        print \"File contains an extenstion\""
   ]
  },
  {
   "cell_type": "code",
   "execution_count": 7,
   "metadata": {
    "collapsed": false
   },
   "outputs": [
    {
     "name": "stdout",
     "output_type": "stream",
     "text": [
      "<class 'pandas.core.frame.DataFrame'>\n",
      "Int64Index: 4623 entries, 0 to 17\n",
      "Data columns (total 4 columns):\n",
      "user       4331 non-null object\n",
      "ts         4623 non-null datetime64[ns]\n",
      "channel    4623 non-null object\n",
      "text       4623 non-null object\n",
      "dtypes: datetime64[ns](1), object(3)\n",
      "memory usage: 180.6+ KB\n"
     ]
    }
   ],
   "source": [
    "data.info()"
   ]
  },
  {
   "cell_type": "markdown",
   "metadata": {},
   "source": [
    "## Part 3 Text Preprocessing"
   ]
  },
  {
   "cell_type": "markdown",
   "metadata": {},
   "source": [
    "### Stemming and Lemmatizing"
   ]
  },
  {
   "cell_type": "markdown",
   "metadata": {},
   "source": [
    "http://www.lnse.org/papers/134-I3007.pdf\n",
    "\n",
    "D. A. Hull, “Stemming algorithms: A case study for detailed\n",
    "evaluation,” Journal of the American Society for Information Science,\n",
    "vol. 47, pp. 70-84, 1996."
   ]
  },
  {
   "cell_type": "markdown",
   "metadata": {},
   "source": [
    "One of the issues that arises in natural language processing is that words have morphligical variants which will not be recognised by term matching alogrithms (Hull 1996). This means you could have words like organize, organizes, and organizing all have the same meaning but won't be grouped together. \n",
    "\n",
    "Some of the techniques used to tackle this problem include Stemming and Lemmatizing\n"
   ]
  },
  {
   "cell_type": "markdown",
   "metadata": {},
   "source": [
    "<b> Copy from Duhita Document Need to Paraphrase </b>\n",
    "\n",
    "Stemming and Lemmatization\n",
    "In linguistics and information retrieval systems, the process of reducing inflectional and derivational forms of words to a common base is called stemming and lemmatization.\n",
    "Stemming is a process that chops off the ends of the words in the hope of achieving this goal correctly most of the time, and often includes the removal of derivational affixes. Lemmatization usually refers to doing things properly with the use of a vocabulary and morphological analysis of words, aiming to remove inflectional endings only and to return the base or dictionary form of a word, which is known as the lemma. (Manning et al. 2008). \n",
    "\n",
    "There are generally 2 types of errors that can error while performing stemming operations. Under Stemming could occur when the 2 words with the same interpretation are not stemmed to the same root. Over Stemming could occur when the 2 words with different interpretation are stemmed to the same root.(Jivani & others 2011).\n",
    "Types of Stemming Algorithm are\n",
    "•\tTruncating: It is a simple stripping technique which removes the affixes after the nth symbol. Different algorithms in this class are Lovins, Porters, Paice, Dawson\n",
    "•\tStatistical: Methods which removes affixes after statistical procedures examples being N-Gram, HMM, YASSM\n",
    "•\tMixed: approach to stemming and it involves both the inflectional as well as the derivational morphology consideration. Some of the mixed algorithms are Inflectional and Derivational, Corpus Based, Context Sensitive\n",
    "As shown in the study “A Survey on various Stemming Algorithms” (Singh & Pateriya n.d.) that none of the above mentioned stemmers give 100% productivity but are satisfactory useful to the text mining, Natural Language Processing(NLP) or Information Retrieval(IR) applications. \n",
    "The New Porter stemmer performs much better than the original stemmer and other English stemmers(Karaa 2013) and hence we decided to choose Porter’s stemmer algorithm for our project. The first one as in Porter stemmer handles inflectional morphology (plural, verb conjugation, etc.). The second step treats derivational morphology; it maps complex suffixes (suffixes compound of more than one suffix) to a single suffix from which they were derived (e.g. transform the suffix –istic to –ist). The third step deletes simple suffixes (uncompounded suffixes). The fourth step defines a set of recoding rules to normalize stems. The last step treats irregular forms that do not follow any pattern.\n",
    "\n",
    "\n"
   ]
  },
  {
   "cell_type": "markdown",
   "metadata": {},
   "source": [
    "\n",
    "Refrerences\n",
    "Jivani, A.G. & others 2011, 'A comparative study of stemming algorithms', Int. J. Comp. Tech. Appl, vol. 2, no. 6, pp. 1930–8.\n",
    "Karaa, W.B.A. 2013, 'A new stemmer to improve information retrieval', International Journal of Network Security & Its Applications, vol. 5, no. 4, p. 143.\n",
    "Manning, C.D., Raghavan, P., Schütze, H. & others 2008, Introduction to information retrieval, vol. 1, Cambridge university press Cambridge, viewed 8 May 2016, <http://www.langtoninfo.co.uk/web_content/9780521865715_frontmatter.pdf>.\n",
    "Singh, S. & Pateriya, R.K. n.d., A Survey on various Stemming Algorithms, viewed 8 May 2016, <http://www.ijcert.org/V2I57.pdf>.\n",
    "\n"
   ]
  },
  {
   "cell_type": "code",
   "execution_count": 5,
   "metadata": {
    "collapsed": false
   },
   "outputs": [],
   "source": [
    "lemma = WordNetLemmatizer()\n",
    "\n",
    "def lemma_tokens(tokens, lemma):\n",
    "    lemmatized = []\n",
    "    for item in tokens:\n",
    "        lemmatized.append(lemma.lemmatize(item))\n",
    "    return lemmatized"
   ]
  },
  {
   "cell_type": "markdown",
   "metadata": {},
   "source": [
    "### Stopwords / Remove Words"
   ]
  },
  {
   "cell_type": "markdown",
   "metadata": {},
   "source": [
    "https://www.researchgate.net/publication/221254145_Evaluation_of_stop_word_lists_in_text_retrieval_using_Latent_Semantic_Indexing"
   ]
  },
  {
   "cell_type": "markdown",
   "metadata": {},
   "source": [
    "Need to Paraphrase below"
   ]
  },
  {
   "cell_type": "markdown",
   "metadata": {},
   "source": [
    "\"\"\"In every language, some words are particularly common. While their use in the language is crucial, they don’t usually convey a particular meaning, especially if taken out of context. This is the case of articles, conjunctions, some adverbs, etc. which are commonly called stop-words. In the example above, we can see three common stop-words – to, and and on. Stop-word removal is one important step that should be considered during the pre-processing stages. One can build a custom list of stop-words, or use available lists (e.g. NLTK provides a simple list for English stop-words).\"\"\""
   ]
  },
  {
   "cell_type": "code",
   "execution_count": 6,
   "metadata": {
    "collapsed": false
   },
   "outputs": [
    {
     "name": "stdout",
     "output_type": "stream",
     "text": [
      "set([u'all', u'just', u'being', u'over', u'both', u'through', u'yourselves', u'its', u'before', u'herself', u'had', u'should', u'to', u'only', u'under', u'ours', u'has', u'do', u'them', u'his', u'very', u'they', u'not', u'during', u'now', u'him', u'nor', u'did', u'this', u'she', u'each', u'further', u'where', u'few', u'because', u'doing', u'some', u'are', u'our', u'ourselves', u'out', u'what', u'for', u'while', u'does', u'above', u'between', u't', u'be', u'we', u'who', u'were', u'here', u'hers', u'by', u'on', u'about', u'of', u'against', u's', u'or', u'own', u'into', u'yourself', u'down', u'your', u'from', u'her', u'their', u'there', u'been', u'whom', u'too', u'themselves', u'was', u'until', u'more', u'himself', u'that', u'but', u'don', u'with', u'than', u'those', u'he', u'me', u'myself', u'these', u'up', u'will', u'below', u'can', u'theirs', u'my', u'and', u'then', u'is', u'am', u'it', u'an', u'as', u'itself', u'at', u'have', u'in', u'any', u'if', u'again', u'no', u'when', u'same', u'how', u'other', u'which', u'you', u'after', u'most', u'such', u'why', u'a', u'off', u'i', u'yours', u'so', u'the', u'having', u'once'])\n"
     ]
    }
   ],
   "source": [
    "stops = set(stopwords.words(\"english\"))\n",
    "print stops"
   ]
  },
  {
   "cell_type": "markdown",
   "metadata": {},
   "source": [
    "### Remove Words"
   ]
  },
  {
   "cell_type": "markdown",
   "metadata": {},
   "source": [
    "* Talk about custom words to remove"
   ]
  },
  {
   "cell_type": "markdown",
   "metadata": {},
   "source": [
    "### Annoymise Names"
   ]
  },
  {
   "cell_type": "code",
   "execution_count": 7,
   "metadata": {
    "collapsed": false
   },
   "outputs": [],
   "source": [
    "def preprocessing(s):\n",
    "    \n",
    "    s = s.lower()\n",
    "    # Howdy to English\n",
    "    s = re.sub(r'<http://(d-matrix.)?howdy.ai/([a-zA-ez]+/)+([a-zA-Z]|[0-9])+[|]','',s,re.I)\n",
    "    \n",
    "    # Links to Text\n",
    "    s = re.sub(r'((ht)|(f))tp[s]?://(?:[a-zA-Z]|[0-9]|[$-_@.&+]|[!*\\(\\),]|(?:%[0-9a-fA-F][0-9a-fA-F]))+','Happy to share a link!',s,\n",
    "                  re.I)\n",
    "    # Mail to Text\n",
    "    s = re.sub(r'(mailto:)?[a-zA-Z0-9_.+-]+@[a-zA-Z0-9-]+\\.[a-zA-Z0-9-.]+','Here is my email!',s,re.I)\n",
    "    \n",
    "    \n",
    "    # Change Names for privacy\n",
    "    s = s.replace('@u0weaa087|jared', 'jared')\n",
    "    s = s.replace('@u0wdyeg6s|duhita', 'duhita')\n",
    "    s = s.replace('@u0x443ckz|chris.garces', 'chris.garces')\n",
    "    s = s.replace('@u0wfhmem8|hussam', 'hussam')\n",
    "    s = s.replace('@u0x6cuq3d|martinlehmann', 'martinlehmann')\n",
    "    \"\"\"\n",
    "    s = s.replace('u0weaa087', 'DataScientist2')\n",
    "    s = s.replace('u0wdyeg6s', 'BusinessAnalyst')\n",
    "    s = s.replace('u0x443ckz', 'DataScientist1')\n",
    "    s = s.replace('u0wfhmem8', 'DataAnalyticsManager')\n",
    "    s = s.replace('u0x6cuq3d', 'ProjectManager')\n",
    "    s = s.replace('u13aj8evd', 'BendertheScrumMaster')\n",
    "    s = s.replace('howdy', 'BendertheScrumMaster')\n",
    "    s = s.replace('duhita', 'BusinessAnalyst')\n",
    "    s = s.replace('jared', 'DataScientist2')\n",
    "    s = s.replace('martinlehmann', 'ProjectManager')\n",
    "    s = s.replace('martin','ProjectManager')\n",
    "    s = s.replace('hussam', 'DataAnalyticsManager')\n",
    "    s = s.replace('chris', 'DataScientist1')\n",
    "    s = s.replace('chris.garces', 'DataScientist1')\n",
    "    s = s.replace('martinlehmann', 'ProjectManager')\n",
    "    s = s.replace('ravi', 'Consultant')\n",
    "    \"\"\"\n",
    "        \n",
    "    # Remove words that arent relevant\n",
    "    s = s.replace(\"channel\", \"\")\n",
    "    s = s.replace(\"file\", \"\")\n",
    "    s = s.replace(\"link\", \"\")\n",
    "    \n",
    "    # Remove everything that isnt a \n",
    "    s = re.sub(r'[^a-zA-Z]',\" \",s)\n",
    "    \n",
    "    \n",
    "    s = s.replace(\"  \", \" \")\n",
    "    \n",
    "    word = s.split()\n",
    "    \n",
    "    word = [n for n in word if n not in stops]\n",
    "    \n",
    "    lemmas = lemma_tokens(word, lemma)\n",
    "    \n",
    "    return \" \".join(lemmas)\n",
    "    "
   ]
  },
  {
   "cell_type": "code",
   "execution_count": 8,
   "metadata": {
    "collapsed": false
   },
   "outputs": [],
   "source": [
    "data['clean_text'] = data.text.apply(lambda x: preprocessing(x))"
   ]
  },
  {
   "cell_type": "code",
   "execution_count": 9,
   "metadata": {
    "collapsed": true
   },
   "outputs": [],
   "source": [
    "data = pd.merge(data,users,left_on='user',right_on='id',how='inner')\n",
    "data = data[['user','ts','channel','text','clean_text','name']]"
   ]
  },
  {
   "cell_type": "markdown",
   "metadata": {},
   "source": [
    "## Part 4 Term Frequency"
   ]
  },
  {
   "cell_type": "code",
   "execution_count": 13,
   "metadata": {
    "collapsed": false
   },
   "outputs": [
    {
     "data": {
      "text/html": [
       "<div>\n",
       "<table border=\"1\" class=\"dataframe\">\n",
       "  <thead>\n",
       "    <tr style=\"text-align: right;\">\n",
       "      <th></th>\n",
       "      <th>user</th>\n",
       "      <th>ts</th>\n",
       "      <th>channel</th>\n",
       "      <th>text</th>\n",
       "      <th>clean_text</th>\n",
       "      <th>name</th>\n",
       "    </tr>\n",
       "  </thead>\n",
       "  <tbody>\n",
       "    <tr>\n",
       "      <th>0</th>\n",
       "      <td>U0WEAA087</td>\n",
       "      <td>2016-04-03 23:32:26.000002</td>\n",
       "      <td>36100-dsi</td>\n",
       "      <td>&lt;@U0WEAA087|jared&gt; has joined the channel</td>\n",
       "      <td>jared joined</td>\n",
       "      <td>jared</td>\n",
       "    </tr>\n",
       "    <tr>\n",
       "      <th>1</th>\n",
       "      <td>U0WEAA087</td>\n",
       "      <td>2016-04-03 23:32:27.000003</td>\n",
       "      <td>36100-dsi</td>\n",
       "      <td>&lt;@U0WEAA087|jared&gt; set the channel purpose: Ch...</td>\n",
       "      <td>jared set purpose dedicated data science innov...</td>\n",
       "      <td>jared</td>\n",
       "    </tr>\n",
       "    <tr>\n",
       "      <th>2</th>\n",
       "      <td>U0WEAA087</td>\n",
       "      <td>2016-04-04 10:24:28.000009</td>\n",
       "      <td>36100-dsi</td>\n",
       "      <td>Yeah trying to get it done. I'm hoping to smas...</td>\n",
       "      <td>yeah trying get done m hoping smash wednesday ...</td>\n",
       "      <td>jared</td>\n",
       "    </tr>\n",
       "    <tr>\n",
       "      <th>3</th>\n",
       "      <td>U0WEAA087</td>\n",
       "      <td>2016-04-11 06:07:57.000119</td>\n",
       "      <td>36100-dsi</td>\n",
       "      <td>Hey Guys, sorry haven't been that active. I'm ...</td>\n",
       "      <td>hey guy sorry haven active m fine excel knime ...</td>\n",
       "      <td>jared</td>\n",
       "    </tr>\n",
       "    <tr>\n",
       "      <th>4</th>\n",
       "      <td>U0WEAA087</td>\n",
       "      <td>2016-04-11 06:11:39.000120</td>\n",
       "      <td>36100-dsi</td>\n",
       "      <td>&lt;http://nicomiceli.com/slackalytics/&gt; I might ...</td>\n",
       "      <td>Happy share might look</td>\n",
       "      <td>jared</td>\n",
       "    </tr>\n",
       "  </tbody>\n",
       "</table>\n",
       "</div>"
      ],
      "text/plain": [
       "        user                         ts    channel  \\\n",
       "0  U0WEAA087 2016-04-03 23:32:26.000002  36100-dsi   \n",
       "1  U0WEAA087 2016-04-03 23:32:27.000003  36100-dsi   \n",
       "2  U0WEAA087 2016-04-04 10:24:28.000009  36100-dsi   \n",
       "3  U0WEAA087 2016-04-11 06:07:57.000119  36100-dsi   \n",
       "4  U0WEAA087 2016-04-11 06:11:39.000120  36100-dsi   \n",
       "\n",
       "                                                text  \\\n",
       "0          <@U0WEAA087|jared> has joined the channel   \n",
       "1  <@U0WEAA087|jared> set the channel purpose: Ch...   \n",
       "2  Yeah trying to get it done. I'm hoping to smas...   \n",
       "3  Hey Guys, sorry haven't been that active. I'm ...   \n",
       "4  <http://nicomiceli.com/slackalytics/> I might ...   \n",
       "\n",
       "                                          clean_text   name  \n",
       "0                                       jared joined  jared  \n",
       "1  jared set purpose dedicated data science innov...  jared  \n",
       "2  yeah trying get done m hoping smash wednesday ...  jared  \n",
       "3  hey guy sorry haven active m fine excel knime ...  jared  \n",
       "4                             Happy share might look  jared  "
      ]
     },
     "execution_count": 13,
     "metadata": {},
     "output_type": "execute_result"
    }
   ],
   "source": [
    "#data[data.text.str.contains('@U13AJ8EVD')]\n",
    "data[data.name == 'jared'].head()"
   ]
  },
  {
   "cell_type": "markdown",
   "metadata": {},
   "source": [
    "## Bag of Words"
   ]
  },
  {
   "cell_type": "markdown",
   "metadata": {},
   "source": [
    "https://thesai.org/Downloads/Volume7No1/Paper_34-Enhancement_Bag_of_Words_Model_for_Solving.pdf\n",
    "http://www.emis.de/journals/NSJOM/Papers/38_3/NSJOM_38_3_227_234.pdf"
   ]
  },
  {
   "cell_type": "markdown",
   "metadata": {},
   "source": [
    "### Tokenizing"
   ]
  },
  {
   "cell_type": "markdown",
   "metadata": {},
   "source": [
    "Tokenization\n",
    "Tokenization is the process of segmenting text into words or sentences.\n",
    "It is a pre-processing step necessary for text mining. The token’s use then is in its ability to be\n",
    "1)\tLinguistically Significant\n",
    "2)\tMethodologically useful\n",
    "The current best practice approach is to identify patterns with significant collocation rather than using delimiters on either side of a word\n",
    "Why is it important? Errors in this phase will significantly propagate that error into further phases\n",
    "The best tokenizers are custom ones for their specific domain.\n",
    "This is because issues of tokenization are language-specific. It thus requires the language of the document to be known. \n",
    "\n",
    "Steps in Tokenization\n",
    "•\tDetermine if two or more words should stand together (piece-meal)\n",
    "•\tSegment text into words\n",
    "•\tHandling Abbreviations\n",
    "o\tCommon acronyms with punctuation\n",
    "o\tCommon words containing periods\n",
    "•\tHandling hyphenated words\n",
    "o\tEnd of line hyphens (“okay great – but can you do this”)\n",
    "o\tTrue hyphens (lexical hyphen i.e. “Multi-faceted”, sententially determined hyphenation “case-based”) \n",
    "•\tNumerical and special expressions – use custom\n",
    "o\tEmail\n",
    "o\tURL’s\n",
    "o\tEnumerations\n",
    "o\tTelephone numbers\n",
    "o\tDates\n",
    "o\tTime\n",
    "o\tmeasures\n",
    "•\tNamed Entity Extraction (“Business Analyst”) should be a single token – use custom dictionaries\n",
    "•\tEnglish Enclitics – (‘s in she’s -> ambiguous can mean she has or she is)\n",
    "\n",
    " \n",
    "Types of Tokenizers\n",
    "•\tNaïve Whitespace Parser (split)\n",
    "•\tApache Open NLP\n",
    "•\tStanford 2.0.3\n",
    "•\tCustom – BEST! (Use Regex!)\n",
    "•\tNLTK \n",
    "-\tPunktWordTokenizer Can’t->[Can,’t]\n",
    "-\tTreebankWordTokenizer (uses words in penn treebank corpus) can’t -> [ca, n’t]\n",
    "-\tRegexpTokenizer\n",
    "o\tWhitespaceTokenizer Can’t->[Can’t]\n",
    "o\tWordPunctTokenizer Can’t-> [Can,’,t]\n",
    "Open Source Tools\n",
    "•\tNlpdotnet Tokenizer\n",
    "•\tMila Tokenizer\n",
    "•\tNLTK Word Tokenizer (mentioned above)\n",
    "•\tTextBlob Word Tonekize\n",
    "•\tMBSP Word Tokenize\n",
    "•\tPattern Word Tokenize\n",
    "\n",
    "NLTK Word Tokenizer good – general advice is to use a custom tokenizer based on regex for your specific domain language. Need to do morphological parsing if want to get to ideal state.\n",
    "\n",
    "Pantone, P. 2015, Adding Sentiment Analysis support to the NLTK Python Platform, viewed 8 May 2016, <http://project-archive.inf.ed.ac.uk/msc/20150231/msc_proj.pdf>.\n",
    "\n",
    "Vijayarani, S. & Janani, R. 2016, 'Text Mining: Open Source Tokenization Tools - An Analysis', Advanced Computational Intelligence (ACII), vol. 3, no. 1, viewed 9 May 2016, <http://aircconline.com/acii/V3N1/3116acii04.pdf>.\n",
    "\n",
    "Links\n",
    "\n",
    "http://text-processing.com/demo/tokenize/\n",
    "https://www.ibm.com/developerworks/community/blogs/nlp/entry/tokenization?lang=en\n"
   ]
  },
  {
   "cell_type": "code",
   "execution_count": null,
   "metadata": {
    "collapsed": true
   },
   "outputs": [],
   "source": []
  },
  {
   "cell_type": "code",
   "execution_count": null,
   "metadata": {
    "collapsed": true
   },
   "outputs": [],
   "source": []
  },
  {
   "cell_type": "code",
   "execution_count": null,
   "metadata": {
    "collapsed": true
   },
   "outputs": [],
   "source": []
  },
  {
   "cell_type": "code",
   "execution_count": null,
   "metadata": {
    "collapsed": true
   },
   "outputs": [],
   "source": []
  },
  {
   "cell_type": "markdown",
   "metadata": {},
   "source": [
    "## Part 5 Data Visualization"
   ]
  },
  {
   "cell_type": "markdown",
   "metadata": {},
   "source": [
    "Note: Justifies a method and analysis for gaining insight into a chosen problem,\n",
    "Talk about indico, Aylien, Alchemy\n",
    "Why did we use them?\n",
    "What were the reasons for using one over the other?\n",
    "Talk about accuracy and what does this mean\n",
    "Used Microsoft Power BI\n",
    "\n",
    "INSERT SUMMARY STATS>>\n",
    "INSERT DETAILED INSIGHT>>\n",
    "INSERT VIDEO HERE>>\n",
    "Draws conclusions from the analysis, connecting these conclusions to trends in data science innovation \n"
   ]
  },
  {
   "cell_type": "code",
   "execution_count": null,
   "metadata": {
    "collapsed": true
   },
   "outputs": [],
   "source": []
  },
  {
   "cell_type": "markdown",
   "metadata": {},
   "source": [
    "In this section \n",
    "In our analysis, one of the questions we were trying to answer was understanding the types of words we used to communicate with each other.\n",
    "\n",
    "To answer this question we used the tokenization technique which I spoke about in the previous section to seperate the messages into words. This allowed us to aggregate each word and then create a wordcloud for this list.\n",
    "Having a look at this it was interesting"
   ]
  },
  {
   "cell_type": "code",
   "execution_count": null,
   "metadata": {
    "collapsed": true
   },
   "outputs": [],
   "source": []
  },
  {
   "cell_type": "code",
   "execution_count": 89,
   "metadata": {
    "collapsed": false,
    "scrolled": true
   },
   "outputs": [
    {
     "data": {
      "text/plain": [
       "[u'jared',\n",
       " u'duhita',\n",
       " u'chris.garces',\n",
       " u'hussam',\n",
       " u'martinlehmann',\n",
       " u'howdy',\n",
       " u'ravi']"
      ]
     },
     "execution_count": 89,
     "metadata": {},
     "output_type": "execute_result"
    }
   ],
   "source": [
    "names = list(data.name.unique())\n",
    "names"
   ]
  },
  {
   "cell_type": "code",
   "execution_count": 10,
   "metadata": {
    "collapsed": false,
    "scrolled": true
   },
   "outputs": [
    {
     "name": "stdout",
     "output_type": "stream",
     "text": [
      "[(u'word', 39), (u'yeah', 39), (u'm', 36), (u'think', 29), (u'like', 27), (u'data', 22), (u'jared', 22), (u'll', 22), (u'hey', 21), (u'work', 19), (u'need', 19), (u'going', 19), (u'might', 18), (u'joined', 16), (u'okay', 15), (u'really', 15), (u'start', 15), (u'text', 15), (u'well', 15), (u'martin', 15)]\n"
     ]
    }
   ],
   "source": [
    "from collections import Counter\n",
    "\n",
    "count_all = Counter()\n",
    "count_jared = Counter()\n",
    "count_duhita = Counter()\n",
    "#count_chris\\.garces = Counter()\n",
    "count_hussam = Counter()\n",
    "count_martinlehmann = Counter()\n",
    "count_howdy = Counter()\n",
    "count_ravi = Counter()\n",
    "\n",
    "for line in data[data.name == 'jared']['clean_text']:\n",
    "    # Create a list with all the terms\n",
    "    text = line.split()\n",
    "    # Update the counter\n",
    "    count_all.update(text)\n",
    "    # Print the first 5 most frequent words\n",
    "print(count_all.most_common(20))"
   ]
  },
  {
   "cell_type": "code",
   "execution_count": 11,
   "metadata": {
    "collapsed": false
   },
   "outputs": [
    {
     "data": {
      "text/plain": [
       "896"
      ]
     },
     "execution_count": 11,
     "metadata": {},
     "output_type": "execute_result"
    }
   ],
   "source": [
    "len(count_all)"
   ]
  },
  {
   "cell_type": "code",
   "execution_count": 12,
   "metadata": {
    "collapsed": false,
    "scrolled": true
   },
   "outputs": [
    {
     "data": {
      "text/plain": [
       "(-0.5, 1799.5, 1399.5, -0.5)"
      ]
     },
     "execution_count": 12,
     "metadata": {},
     "output_type": "execute_result"
    },
    {
     "data": {
      "image/png": "[encoded data removed]",
      "text/plain": [
       "<matplotlib.figure.Figure at 0x10a46320>"
      ]
     },
     "metadata": {},
     "output_type": "display_data"
    }
   ],
   "source": [
    "from wordcloud import WordCloud, STOPWORDS\n",
    "words = ' '.join(data[data.name == 'jared']['clean_text'])\n",
    "\n",
    "wordcloud = WordCloud(stopwords=STOPWORDS,\n",
    "                      background_color='black',\n",
    "                      width=1800,\n",
    "                      height=1400\n",
    "                     ).generate(words)\n",
    "fig = plt.figure(figsize=(10,6))\n",
    "ax = fig.add_subplot(1,1,1)\n",
    "ax.imshow(wordcloud)\n",
    "plt.axis('off')\n",
    "#plt.savefig('wordcloud.png', dpi=300)\n",
    "#plt.show()"
   ]
  },
  {
   "cell_type": "code",
   "execution_count": 17,
   "metadata": {
    "collapsed": true
   },
   "outputs": [],
   "source": [
    "# Change name to specifiy who you are analyising\n",
    "name = 'jared'"
   ]
  },
  {
   "cell_type": "code",
   "execution_count": 76,
   "metadata": {
    "collapsed": false,
    "scrolled": true
   },
   "outputs": [
    {
     "data": {
      "text/html": [
       "<div>\n",
       "<table border=\"1\" class=\"dataframe\">\n",
       "  <thead>\n",
       "    <tr style=\"text-align: right;\">\n",
       "      <th></th>\n",
       "      <th>user</th>\n",
       "      <th>ts</th>\n",
       "      <th>channel</th>\n",
       "      <th>text</th>\n",
       "      <th>clean_text</th>\n",
       "      <th>name</th>\n",
       "    </tr>\n",
       "  </thead>\n",
       "  <tbody>\n",
       "    <tr>\n",
       "      <th>0</th>\n",
       "      <td>U0WEAA087</td>\n",
       "      <td>2016-04-03 23:32:26.000002</td>\n",
       "      <td>36100-dsi</td>\n",
       "      <td>&lt;@U0WEAA087|jared&gt; has joined the channel</td>\n",
       "      <td>jared joined</td>\n",
       "      <td>jared</td>\n",
       "    </tr>\n",
       "    <tr>\n",
       "      <th>1</th>\n",
       "      <td>U0WEAA087</td>\n",
       "      <td>2016-04-03 23:32:27.000003</td>\n",
       "      <td>36100-dsi</td>\n",
       "      <td>&lt;@U0WEAA087|jared&gt; set the channel purpose: Ch...</td>\n",
       "      <td>jared set purpose dedicated data science innov...</td>\n",
       "      <td>jared</td>\n",
       "    </tr>\n",
       "    <tr>\n",
       "      <th>2</th>\n",
       "      <td>U0WEAA087</td>\n",
       "      <td>2016-04-04 10:24:28.000009</td>\n",
       "      <td>36100-dsi</td>\n",
       "      <td>Yeah trying to get it done. I'm hoping to smas...</td>\n",
       "      <td>yeah trying get done m hoping smash wednesday ...</td>\n",
       "      <td>jared</td>\n",
       "    </tr>\n",
       "    <tr>\n",
       "      <th>3</th>\n",
       "      <td>U0WEAA087</td>\n",
       "      <td>2016-04-11 06:07:57.000119</td>\n",
       "      <td>36100-dsi</td>\n",
       "      <td>Hey Guys, sorry haven't been that active. I'm ...</td>\n",
       "      <td>hey guy sorry haven active m fine excel knime ...</td>\n",
       "      <td>jared</td>\n",
       "    </tr>\n",
       "    <tr>\n",
       "      <th>4</th>\n",
       "      <td>U0WEAA087</td>\n",
       "      <td>2016-04-11 06:11:39.000120</td>\n",
       "      <td>36100-dsi</td>\n",
       "      <td>&lt;http://nicomiceli.com/slackalytics/&gt; I might ...</td>\n",
       "      <td>Happy share might look</td>\n",
       "      <td>jared</td>\n",
       "    </tr>\n",
       "  </tbody>\n",
       "</table>\n",
       "</div>"
      ],
      "text/plain": [
       "        user                         ts    channel  \\\n",
       "0  U0WEAA087 2016-04-03 23:32:26.000002  36100-dsi   \n",
       "1  U0WEAA087 2016-04-03 23:32:27.000003  36100-dsi   \n",
       "2  U0WEAA087 2016-04-04 10:24:28.000009  36100-dsi   \n",
       "3  U0WEAA087 2016-04-11 06:07:57.000119  36100-dsi   \n",
       "4  U0WEAA087 2016-04-11 06:11:39.000120  36100-dsi   \n",
       "\n",
       "                                                text  \\\n",
       "0          <@U0WEAA087|jared> has joined the channel   \n",
       "1  <@U0WEAA087|jared> set the channel purpose: Ch...   \n",
       "2  Yeah trying to get it done. I'm hoping to smas...   \n",
       "3  Hey Guys, sorry haven't been that active. I'm ...   \n",
       "4  <http://nicomiceli.com/slackalytics/> I might ...   \n",
       "\n",
       "                                          clean_text   name  \n",
       "0                                       jared joined  jared  \n",
       "1  jared set purpose dedicated data science innov...  jared  \n",
       "2  yeah trying get done m hoping smash wednesday ...  jared  \n",
       "3  hey guy sorry haven active m fine excel knime ...  jared  \n",
       "4                             Happy share might look  jared  "
      ]
     },
     "execution_count": 76,
     "metadata": {},
     "output_type": "execute_result"
    }
   ],
   "source": [
    "data.head()"
   ]
  },
  {
   "cell_type": "markdown",
   "metadata": {},
   "source": [
    "### Ploting messages over time"
   ]
  },
  {
   "cell_type": "code",
   "execution_count": null,
   "metadata": {
    "collapsed": true
   },
   "outputs": [],
   "source": [
    "#Need to change the date to australia"
   ]
  },
  {
   "cell_type": "markdown",
   "metadata": {},
   "source": [
    "The below graphs shows the number of messages aggreated by hour"
   ]
  },
  {
   "cell_type": "code",
   "execution_count": 18,
   "metadata": {
    "collapsed": false
   },
   "outputs": [
    {
     "data": {
      "text/plain": [
       "<matplotlib.text.Text at 0x10ce4748>"
      ]
     },
     "execution_count": 18,
     "metadata": {},
     "output_type": "execute_result"
    },
    {
     "data": {
      "image/png": "[encoded data removed]",
      "text/plain": [
       "<matplotlib.figure.Figure at 0x10ccb080>"
      ]
     },
     "metadata": {},
     "output_type": "display_data"
    }
   ],
   "source": [
    "fig = plt.figure(figsize=(15,5))\n",
    "ax = fig.add_subplot(1,1,1)\n",
    "ax.bar(data[data.name == name].groupby(data[data.name == name].ts.apply(lambda x: x.hour)).text.size().index+1,\n",
    "       data[data.name == name].groupby(data[data.name == name].ts.apply(lambda x: x.hour)).text.size())\n",
    "fig.suptitle(\"Message by Hour\",fontsize= 14)\n",
    "ax.set_xlabel(\"Hour of the Day\")\n",
    "ax.set_xticks(data[data.name == name].groupby(data[data.name == name].ts.apply(lambda x: x.hour)).text.size().index+ 1)\n",
    "ax.set_ylabel(\"No. of Messages\")\n",
    "#fig.savefig(\"Aggregated Hours.png\")"
   ]
  },
  {
   "cell_type": "markdown",
   "metadata": {},
   "source": [
    "The below graph shows the messages I used per day"
   ]
  },
  {
   "cell_type": "code",
   "execution_count": 19,
   "metadata": {
    "collapsed": false
   },
   "outputs": [
    {
     "data": {
      "text/plain": [
       "<matplotlib.text.Text at 0x1114ae10>"
      ]
     },
     "execution_count": 19,
     "metadata": {},
     "output_type": "execute_result"
    },
    {
     "data": {
      "image/png": "[encoded data removed]",
      "text/plain": [
       "<matplotlib.figure.Figure at 0x10ccfcf8>"
      ]
     },
     "metadata": {},
     "output_type": "display_data"
    }
   ],
   "source": [
    "days = ['Monday','Tuesday','Wednesday','Thursday','Friday','Saturday','Sunday']\n",
    "\n",
    "fig = plt.figure(figsize=(10,6))\n",
    "ax = fig.add_subplot(1,1,1)\n",
    "ax.barh(data[data.name == name].groupby(data[data.name == name].ts.apply(lambda x: x.dayofweek)).text.size().index +1,\n",
    "        data[data.name == name].groupby(data[data.name == name].ts.apply(lambda x: x.dayofweek)).text.size(),color='red')\n",
    "fig.suptitle(\"Messages by Day\",fontsize= 14)\n",
    "ax.set_ylabel(\"Day of week\")\n",
    "ax.set_yticklabels(days) #jared.groupby(jared.ts.apply(lambda x: x.dayofweek)).text.size().index+ 1)\n",
    "ax.set_xlabel(\"No. of Messages\")\n",
    "#fig.savefig(\"Aggregated Day of Week.png\")"
   ]
  },
  {
   "cell_type": "code",
   "execution_count": 79,
   "metadata": {
    "collapsed": false
   },
   "outputs": [
    {
     "data": {
      "text/plain": [
       "ts\n",
       "2016-03-30     4\n",
       "2016-03-31     3\n",
       "2016-04-01     2\n",
       "2016-04-02     3\n",
       "2016-04-03     6\n",
       "2016-04-04     8\n",
       "2016-04-07     1\n",
       "2016-04-11     5\n",
       "2016-04-12     3\n",
       "2016-04-13     2\n",
       "2016-04-14     2\n",
       "2016-04-15     3\n",
       "2016-04-16     1\n",
       "2016-04-17    13\n",
       "2016-04-18     5\n",
       "2016-04-22     6\n",
       "2016-04-24     3\n",
       "2016-04-25    15\n",
       "2016-04-28     3\n",
       "2016-04-29     5\n",
       "2016-04-30    18\n",
       "2016-05-01    13\n",
       "2016-05-04    27\n",
       "2016-05-05     5\n",
       "2016-05-06     3\n",
       "2016-05-07    10\n",
       "2016-05-08     3\n",
       "2016-05-09    79\n",
       "2016-05-10    34\n",
       "2016-05-11    39\n",
       "2016-05-12    22\n",
       "2016-05-13    23\n",
       "2016-05-14     2\n",
       "dtype: int64"
      ]
     },
     "execution_count": 79,
     "metadata": {},
     "output_type": "execute_result"
    }
   ],
   "source": [
    "data[data.name == name].groupby(data[data.name == name].ts.apply(lambda x: datetime.datetime.date(x))).text.size()"
   ]
  },
  {
   "cell_type": "code",
   "execution_count": 20,
   "metadata": {
    "collapsed": false,
    "scrolled": false
   },
   "outputs": [
    {
     "data": {
      "text/plain": [
       "<matplotlib.text.Text at 0x11141a90>"
      ]
     },
     "execution_count": 20,
     "metadata": {},
     "output_type": "execute_result"
    },
    {
     "data": {
      "image/png": "[encoded data removed]",
      "text/plain": [
       "<matplotlib.figure.Figure at 0x10bb9470>"
      ]
     },
     "metadata": {},
     "output_type": "display_data"
    }
   ],
   "source": [
    "import datetime\n",
    "fig = plt.figure(figsize=(10,6))\n",
    "ax = fig.add_subplot(1,1,1)\n",
    "ax.plot(data[data.name == name].groupby(data[data.name == name].ts.apply(lambda x: datetime.datetime.date(x))).text.size().index,\n",
    "        data[data.name == name].groupby(data[data.name == name].ts.apply(lambda x: datetime.datetime.date(x))).text.size().values,color='red')\n",
    "fig.suptitle(\"Message over Time\",fontsize= 14)\n",
    "ax.set_ylabel(\"No. of Messages\")\n",
    "#ax.set_yticklabels(days) #jared.groupby(jared.ts.apply(lambda x: x.dayofweek)).text.size().index+ 1)\n",
    "ax.set_xlabel(\"Date\")\n",
    "#fig.savefig(\"Aggregated Day of Week.png\")"
   ]
  },
  {
   "cell_type": "code",
   "execution_count": null,
   "metadata": {
    "collapsed": true
   },
   "outputs": [],
   "source": []
  },
  {
   "cell_type": "code",
   "execution_count": null,
   "metadata": {
    "collapsed": true
   },
   "outputs": [],
   "source": []
  },
  {
   "cell_type": "code",
   "execution_count": null,
   "metadata": {
    "collapsed": true
   },
   "outputs": [],
   "source": []
  },
  {
   "cell_type": "code",
   "execution_count": null,
   "metadata": {
    "collapsed": true
   },
   "outputs": [],
   "source": []
  },
  {
   "cell_type": "markdown",
   "metadata": {},
   "source": [
    "## Part 6 Sentiment Analysis"
   ]
  },
  {
   "cell_type": "markdown",
   "metadata": {},
   "source": [
    "Sentiment analysis is the study of people's attitude, emotion and opinion towards a particular product, service, event or even an individual(Liu 2012). Analysing sentiment has gainied alot of attention in recent years with many companies utilizing the data from social media to understand more about their customer and using this to improve their product or service.\n",
    "\n",
    "The wide range of applications in almost every domain has led companies providing services to meet this demand. Some of the providers of these services which I will explain in more detail include Indico, Aylien and Alchemy API. I will also explain which one we choose for analyising our messaging data.\n",
    "\n",
    "Indico\n",
    "Indico is helping individuals, small to medium sized teams and businesses translate their community’s pictures, documents and conversations into insightful feedback in minutes. Built with real life data and tailored to what you need, our pre-trained models balance accuracy and speed, allowing you to use powerful machine learning in realistic settings.\n",
    "\n",
    "1) What is the indicio business model and user license?\n",
    "\n",
    "The model is to build API endpoints that allow developers to rapidly prototype and deploy solutions within a predictive application. We love chatting with our users and are always looking to improve what we offer to better fit their needs.\n",
    "Staying up to date with the latest research papers is a huge part of our development process, thus ensuring all models are tuned to industry standards.\n",
    "We also have a private cloud offering for enterprise.\n",
    "\n",
    "\n",
    "Aylien\n",
    "\n",
    "\n",
    "\n",
    "Alchemy\n",
    "\n",
    "\n"
   ]
  },
  {
   "cell_type": "markdown",
   "metadata": {},
   "source": []
  },
  {
   "cell_type": "markdown",
   "metadata": {},
   "source": [
    "Indico, Aylien and Alchemy API's"
   ]
  },
  {
   "cell_type": "markdown",
   "metadata": {},
   "source": [
    "https://indico.io/\n",
    "http://aylien.com/\n",
    "http://www.alchemyapi.com/\n"
   ]
  },
  {
   "cell_type": "markdown",
   "metadata": {},
   "source": [
    "Twitter (2014) Twitter apis. https://​dev.​twitter.​com/​start."
   ]
  },
  {
   "cell_type": "markdown",
   "metadata": {},
   "source": [
    "* http://journalofbigdata.springeropen.com/articles/10.1186/s40537-015-0015-2\n",
    "* https://www.cs.uic.edu/~liub/FBS/SentimentAnalysis-and-OpinionMining.pdf (Liu, 2012)"
   ]
  },
  {
   "cell_type": "code",
   "execution_count": 68,
   "metadata": {
    "collapsed": true
   },
   "outputs": [],
   "source": [
    "data2 = pd.read_csv(\"Final_Merged_Output2.csv\")"
   ]
  },
  {
   "cell_type": "code",
   "execution_count": 72,
   "metadata": {
    "collapsed": false
   },
   "outputs": [],
   "source": [
    "data2['date'] = pd.to_datetime(data2['date'],unit='s')"
   ]
  },
  {
   "cell_type": "code",
   "execution_count": 56,
   "metadata": {
    "collapsed": false
   },
   "outputs": [
    {
     "data": {
      "text/plain": [
       "ts2\n",
       "2016-01-04    2\n",
       "2016-02-04    3\n",
       "2016-03-04    6\n",
       "2016-03-30    4\n",
       "2016-03-31    3\n",
       "2016-04-04    8\n",
       "2016-07-04    1\n",
       "2016-11-04    4\n",
       "dtype: int64"
      ]
     },
     "execution_count": 56,
     "metadata": {},
     "output_type": "execute_result"
    }
   ],
   "source": [
    "data2[data.name == name].groupby(data2[data2.name == name].ts2).clean_text_x.size()"
   ]
  },
  {
   "cell_type": "code",
   "execution_count": 74,
   "metadata": {
    "collapsed": false
   },
   "outputs": [
    {
     "data": {
      "text/plain": [
       "<matplotlib.text.Text at 0x177b6550>"
      ]
     },
     "execution_count": 74,
     "metadata": {},
     "output_type": "execute_result"
    },
    {
     "data": {
      "image/png": "[encoded data removed]",
      "text/plain": [
       "<matplotlib.figure.Figure at 0x17781b38>"
      ]
     },
     "metadata": {},
     "output_type": "display_data"
    }
   ],
   "source": [
    "import datetime\n",
    "fig = plt.figure(figsize=(10,6))\n",
    "ax = fig.add_subplot(1,1,1)\n",
    "ax.plot(data2[data.name == name].groupby(data2[data2.name == name].date).clean_text_x.size().index,\n",
    "        data2[data.name == name].groupby(data2[data2.name == name].date).clean_text_x.size().values,color='red')\n",
    "fig.suptitle(\"Message over Time\",fontsize= 14)\n",
    "ax.set_ylabel(\"No. of Messages\")\n",
    "#ax.set_yticklabels(days) #jared.groupby(jared.ts.apply(lambda x: x.dayofweek)).text.size().index+ 1)\n",
    "ax.set_xlabel(\"Date\")\n",
    "#fig.savefig(\"Aggregated Day of Week.png\")"
   ]
  },
  {
   "cell_type": "code",
   "execution_count": 44,
   "metadata": {
    "collapsed": false
   },
   "outputs": [
    {
     "data": {
      "text/plain": [
       "<matplotlib.axes._subplots.AxesSubplot at 0x15cdabe0>"
      ]
     },
     "execution_count": 44,
     "metadata": {},
     "output_type": "execute_result"
    },
    {
     "data": {
      "image/png": "[encoded data removed]",
      "text/plain": [
       "<matplotlib.figure.Figure at 0x15ae1278>"
      ]
     },
     "metadata": {},
     "output_type": "display_data"
    }
   ],
   "source": [
    "fig, ax = plt.subplots(figsize=(10,6))\n",
    "\n",
    "sns.distplot(data2.agreeableness)\n"
   ]
  },
  {
   "cell_type": "markdown",
   "metadata": {},
   "source": [
    "### Privacy"
   ]
  },
  {
   "cell_type": "markdown",
   "metadata": {
    "collapsed": true
   },
   "source": [
    "Privacy\n",
    "Identifies, contextualises, and reflects on the ethical, privacy, and legal issues relevant to the collection and analysis of personal data of self and others\n",
    "INTRUSIVE mystery box challenge privacy\n",
    "Privacy in conversation sharing as a contract between groups\n",
    "Privacy policies in software\n",
    "https://slack.com/privacy-policy\n",
    "https://www.atlassian.com/legal/privacy-policy\n",
    "https://confluence.atlassian.com/doc/data-collection-policy-659783908.html\n"
   ]
  },
  {
   "cell_type": "code",
   "execution_count": null,
   "metadata": {
    "collapsed": true
   },
   "outputs": [],
   "source": []
  },
  {
   "cell_type": "code",
   "execution_count": null,
   "metadata": {
    "collapsed": true
   },
   "outputs": [],
   "source": []
  },
  {
   "cell_type": "markdown",
   "metadata": {},
   "source": [
    "## Conclusion"
   ]
  },
  {
   "cell_type": "code",
   "execution_count": null,
   "metadata": {
    "collapsed": true
   },
   "outputs": [],
   "source": []
  },
  {
   "cell_type": "code",
   "execution_count": null,
   "metadata": {
    "collapsed": true
   },
   "outputs": [],
   "source": []
  },
  {
   "cell_type": "code",
   "execution_count": null,
   "metadata": {
    "collapsed": true
   },
   "outputs": [],
   "source": []
  },
  {
   "cell_type": "markdown",
   "metadata": {},
   "source": [
    "## Reflection"
   ]
  },
  {
   "cell_type": "code",
   "execution_count": null,
   "metadata": {
    "collapsed": true
   },
   "outputs": [],
   "source": []
  },
  {
   "cell_type": "code",
   "execution_count": null,
   "metadata": {
    "collapsed": true
   },
   "outputs": [],
   "source": []
  },
  {
   "cell_type": "markdown",
   "metadata": {},
   "source": [
    "## References"
   ]
  },
  {
   "cell_type": "code",
   "execution_count": null,
   "metadata": {
    "collapsed": true
   },
   "outputs": [],
   "source": []
  },
  {
   "cell_type": "code",
   "execution_count": null,
   "metadata": {
    "collapsed": true
   },
   "outputs": [],
   "source": []
  },
  {
   "cell_type": "code",
   "execution_count": null,
   "metadata": {
    "collapsed": true
   },
   "outputs": [],
   "source": []
  },
  {
   "cell_type": "markdown",
   "metadata": {},
   "source": [
    "## Appendcies"
   ]
  },
  {
   "cell_type": "code",
   "execution_count": null,
   "metadata": {
    "collapsed": true
   },
   "outputs": [],
   "source": []
  }
 ],
 "metadata": {
  "kernelspec": {
   "display_name": "Python 2",
   "language": "python",
   "name": "python2"
  },
  "language_info": {
   "codemirror_mode": {
    "name": "ipython",
    "version": 2
   },
   "file_extension": ".py",
   "mimetype": "text/x-python",
   "name": "python",
   "nbconvert_exporter": "python",
   "pygments_lexer": "ipython2",
   "version": "2.7.11"
  }
 },
 "nbformat": 4,
 "nbformat_minor": 0
}
