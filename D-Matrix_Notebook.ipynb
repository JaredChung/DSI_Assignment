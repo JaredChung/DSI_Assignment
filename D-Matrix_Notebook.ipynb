{
 "cells": [
  {
   "cell_type": "markdown",
   "metadata": {},
   "source": [
    "# DSI Assessment 2 - Quantified Self"
   ]
  },
  {
   "cell_type": "code",
   "execution_count": 126,
   "metadata": {
    "collapsed": false,
    "scrolled": true
   },
   "outputs": [
    {
     "data": {
      "text/html": [
       "<script>\n",
       "code_show=true; \n",
       "function code_toggle() {\n",
       " if (code_show){\n",
       " $('div.input').hide();\n",
       " } else {\n",
       " $('div.input').show();\n",
       " }\n",
       " code_show = !code_show\n",
       "} \n",
       "$( document ).ready(code_toggle);\n",
       "</script>\n",
       "<form action=\"javascript:code_toggle()\"><input type=\"submit\" value=\"Click here to toggle on/off the raw code.\"></form>"
      ],
      "text/plain": [
       "<IPython.core.display.HTML object>"
      ]
     },
     "execution_count": 126,
     "metadata": {},
     "output_type": "execute_result"
    }
   ],
   "source": [
    "from IPython.display import HTML\n",
    "\n",
    "HTML('''<script>\n",
    "code_show=true; \n",
    "function code_toggle() {\n",
    " if (code_show){\n",
    " $('div.input').hide();\n",
    " } else {\n",
    " $('div.input').show();\n",
    " }\n",
    " code_show = !code_show\n",
    "} \n",
    "$( document ).ready(code_toggle);\n",
    "</script>\n",
    "<form action=\"javascript:code_toggle()\"><input type=\"submit\" value=\"Click here to toggle on/off the raw code.\"></form>''')"
   ]
  },
  {
   "cell_type": "markdown",
   "metadata": {},
   "source": [
    "<b> \n",
    "\n",
    "Table of Contents:\n",
    "\n",
    "* Part 1: Introduction\n",
    "* Part 2: Collecting data\n",
    "* Part 3: Text Pre-processing\n",
    "* Part 4: Term Frequencies\n",
    "* Part 5: Rugby and Term Co-Occurrences\n",
    "* Part 6: Data Visualisation Basics\n",
    "* Part 7: Sentiment Analysis Basics\n",
    "\n",
    "</b>"
   ]
  },
  {
   "cell_type": "markdown",
   "metadata": {},
   "source": [
    "## Part 1 Introduction"
   ]
  },
  {
   "cell_type": "markdown",
   "metadata": {},
   "source": [
    "### Background"
   ]
  },
  {
   "cell_type": "markdown",
   "metadata": {},
   "source": [
    "The purpose of this project is to gain insight into how we as individuals play a role in a collaborating on a data science endeavour. The data we will be collecting is the Slack chat conversations and JIRA issue tickets to get an understanding of the language used whilst collaborating. We will be using the CRISP-DM reference model for this data science project. A final report on our findings is to be presented."
   ]
  },
  {
   "cell_type": "code",
   "execution_count": null,
   "metadata": {
    "collapsed": true
   },
   "outputs": [],
   "source": []
  },
  {
   "cell_type": "markdown",
   "metadata": {},
   "source": [
    "#### Slack"
   ]
  },
  {
   "cell_type": "code",
   "execution_count": null,
   "metadata": {
    "collapsed": true
   },
   "outputs": [],
   "source": []
  },
  {
   "cell_type": "markdown",
   "metadata": {},
   "source": [
    "## Part 2 Collecting Data"
   ]
  },
  {
   "cell_type": "markdown",
   "metadata": {},
   "source": [
    "This part is about exporting the information and processing it in a matter which can be later processed and explored"
   ]
  },
  {
   "cell_type": "code",
   "execution_count": 1,
   "metadata": {
    "collapsed": false
   },
   "outputs": [],
   "source": [
    "import pandas as pd # Data Munging tool\n",
    "import os # Operating System functionality\n",
    "import glob # Finds all pathnames e.g(.json)\n",
    "import re # Regular Expression\n",
    "import matplotlib.pyplot as plt\n",
    "import seaborn as sns\n",
    "from sklearn.feature_extraction.text import CountVectorizer\n",
    "from sklearn.feature_extraction.text import TfidfVectorizer # Combines both Count Vectorizer and Tfidf Transformer\n",
    "from nltk.corpus import stopwords\n",
    "from nltk.stem import WordNetLemmatizer\n",
    "\n",
    "plt.style.use('ggplot')\n",
    "%matplotlib inline"
   ]
  },
  {
   "cell_type": "code",
   "execution_count": 2,
   "metadata": {
    "collapsed": false,
    "scrolled": true
   },
   "outputs": [],
   "source": [
    "#users = pd.read_json(\"C:/users/Jared Chung/Desktop/D-Matrix/users.json\") #Laptop\n",
    "users = pd.read_json(\"C:/users/jchung/desktop/D-Matrix//users.json\") #Work"
   ]
  },
  {
   "cell_type": "code",
   "execution_count": 41,
   "metadata": {
    "collapsed": false
   },
   "outputs": [
    {
     "name": "stdout",
     "output_type": "stream",
     "text": [
      "36100-dsi\n",
      "36100-dsi-photos\n",
      "36103-statistics\n",
      "36106-dam\n",
      "File contains extenstion\n",
      "File contains extenstion\n",
      "crisp-businessknow\n",
      "crisp-dataknow\n",
      "crisp-dataprep\n",
      "crisp-deploy\n",
      "crisp-eval\n",
      "crisp-modelling\n",
      "dam\n",
      "dsi\n",
      "dsi-assignment-2a\n",
      "general\n",
      "File contains extenstion\n",
      "jira-discussion\n",
      "python_instructions\n",
      "random\n",
      "story-telling\n",
      "File contains extenstion\n",
      "File contains extenstion\n",
      "File contains extenstion\n"
     ]
    }
   ],
   "source": [
    "#path_to_json = 'C:/users/Jared Chung/Desktop/D-Matrix/' #Laptop\n",
    "path_to_json = 'C:/users/jchung/desktop/D-Matrix/' #Work\n",
    "json_dir = os.listdir(path_to_json)\n",
    "#del json_dir[0] ### do this step only if u have a mac and need to get rid of .DS Store folder\n",
    "data = pd.DataFrame()\n",
    "for file in json_dir:\n",
    "    if \".\" not in file: \n",
    "        print (file)\n",
    "        all_files = glob.glob(os.path.join(path_to_json + file + '/', \"*.json\"))\n",
    "        df = pd.concat((pd.read_json(f) for f in all_files)) \n",
    "        df['channel'] = file\n",
    "        df['ts'] = pd.to_datetime(df['ts'],unit='s')\n",
    "        df2 = pd.DataFrame(df, columns = ['user','ts','channel','text'])\n",
    "        data = data.append(df2)\n",
    "    else:\n",
    "        print \"File contains extenstion\""
   ]
  },
  {
   "cell_type": "markdown",
   "metadata": {},
   "source": [
    "## Part 3 Text Preprocessing"
   ]
  },
  {
   "cell_type": "code",
   "execution_count": null,
   "metadata": {
    "collapsed": true
   },
   "outputs": [],
   "source": []
  },
  {
   "cell_type": "markdown",
   "metadata": {},
   "source": [
    "### Stemming and Lemmatizing"
   ]
  },
  {
   "cell_type": "markdown",
   "metadata": {},
   "source": [
    "http://www.lnse.org/papers/134-I3007.pdf\n",
    "\n",
    "D. A. Hull, “Stemming algorithms: A case study for detailed\n",
    "evaluation,” Journal of the American Society for Information Science,\n",
    "vol. 47, pp. 70-84, 1996."
   ]
  },
  {
   "cell_type": "markdown",
   "metadata": {},
   "source": [
    "One of the issues that arises in natural language processing is that words have morphligical variants which will not be recognised by term matching alogrithms (Hull 1996). The example below explains \n",
    "Some of the techniques used to tackle this problem \n"
   ]
  },
  {
   "cell_type": "markdown",
   "metadata": {},
   "source": [
    "Lemmatizing:"
   ]
  },
  {
   "cell_type": "code",
   "execution_count": 35,
   "metadata": {
    "collapsed": false
   },
   "outputs": [],
   "source": [
    "lemma = WordNetLemmatizer()\n",
    "\n",
    "def lemma_tokens(tokens, lemma):\n",
    "    lemmatized = []\n",
    "    for item in tokens:\n",
    "        lemmatized.append(lemma.lemmatize(item))\n",
    "    return lemmatized"
   ]
  },
  {
   "cell_type": "markdown",
   "metadata": {},
   "source": [
    "### Stopwords"
   ]
  },
  {
   "cell_type": "markdown",
   "metadata": {},
   "source": [
    "Need to Paraphrase below"
   ]
  },
  {
   "cell_type": "markdown",
   "metadata": {},
   "source": [
    "\"\"\"In every language, some words are particularly common. While their use in the language is crucial, they don’t usually convey a particular meaning, especially if taken out of context. This is the case of articles, conjunctions, some adverbs, etc. which are commonly called stop-words. In the example above, we can see three common stop-words – to, and and on. Stop-word removal is one important step that should be considered during the pre-processing stages. One can build a custom list of stop-words, or use available lists (e.g. NLTK provides a simple list for English stop-words).\"\"\""
   ]
  },
  {
   "cell_type": "code",
   "execution_count": 15,
   "metadata": {
    "collapsed": true
   },
   "outputs": [],
   "source": [
    "stops = set(stopwords.words(\"english\"))"
   ]
  },
  {
   "cell_type": "code",
   "execution_count": 62,
   "metadata": {
    "collapsed": false
   },
   "outputs": [],
   "source": [
    "def preprocessing(s):\n",
    "    \n",
    "    s = s.lower()\n",
    "    # Howdy to English\n",
    "    \n",
    "    s = re.sub(r'<http://(d-matrix.)?howdy.ai/([a-zA-ez]+/)+([a-zA-Z]|[0-9])+[|]','',s,re.I)\n",
    "    \n",
    "    # Links to Text\n",
    "    s = re.sub(r'((ht)|(f))tp[s]?://(?:[a-zA-Z]|[0-9]|[$-_@.&+]|[!*\\(\\),]|(?:%[0-9a-fA-F][0-9a-fA-F]))+','Sharing a link!',s,\n",
    "                  re.I)\n",
    "    # Mail to Text\n",
    "    s = re.sub(r'(mailto:)?[a-zA-Z0-9_.+-]+@[a-zA-Z0-9-]+\\.[a-zA-Z0-9-.]+','Here is my email!',s,re.I)\n",
    "    \n",
    "    \n",
    "    # Change Names for privacy\n",
    "    s = s.replace('@u0weaa087|jared', 'DataScientist2')\n",
    "    s = s.replace('@u0wdyeg6s|duhita', 'BusinessAnalyst')\n",
    "    s = s.replace('@u0x443ckz|chris.garces', 'DataScientist1')\n",
    "    s = s.replace('@u0wfhmem8|hussam', 'DataAnalyticsManager')\n",
    "    s = s.replace('@u0x6cuq3d|martinlehmann', 'ProjectManager')\n",
    "    \n",
    "    s = s.replace('u0weaa087', 'DataScientist2')\n",
    "    s = s.replace('u0wdyeg6s', 'BusinessAnalyst')\n",
    "    s = s.replace('u0x443ckz', 'DataScientist1')\n",
    "    s = s.replace('u0wfhmem8', 'DataAnalyticsManager')\n",
    "    s = s.replace('u0x6cuq3d', 'ProjectManager')\n",
    "    s = s.replace('u13aj8evd', 'BendertheScrumMaster')\n",
    "    s = s.replace('howdy', 'BendertheScrumMaster')\n",
    "    s = s.replace('duhita', 'BusinessAnalyst')\n",
    "    s = s.replace('jared', 'DataScientist2')\n",
    "    s = s.replace('martinlehmann', 'ProjectManager')\n",
    "    s = s.replace('martin','ProjectManager')\n",
    "    s = s.replace('hussam', 'DataAnalyticsManager')\n",
    "    s = s.replace('chris', 'DataScientist1')\n",
    "    s = s.replace('chris.garces', 'DataScientist1')\n",
    "    s = s.replace('martinlehmann', 'ProjectManager')\n",
    "    s = s.replace('ravi', 'Consultant')\n",
    "    \n",
    "    # Remove words that arent relevant\n",
    "    s = s.replace(\"channel\", \"\")\n",
    "    s = s.replace(\"file\", \"\")\n",
    "    s = s.replace(\"link\", \"\")\n",
    "    \n",
    "    s = re.sub(r'[^a-zA-Z]',\" \",s)\n",
    "    \n",
    "\n",
    "    s = s.replace(\"  \", \" \")\n",
    "    \n",
    "    word = s.split()\n",
    "    \n",
    "    word = [n for n in word if n not in stops]\n",
    "    \n",
    "    lemmas = lemma_tokens(word, lemma)\n",
    "    \n",
    "    return \" \".join(lemmas)\n",
    "    "
   ]
  },
  {
   "cell_type": "code",
   "execution_count": 63,
   "metadata": {
    "collapsed": false
   },
   "outputs": [],
   "source": [
    "data['clean_text'] = data.text.apply(lambda x: preprocessing(x))"
   ]
  },
  {
   "cell_type": "code",
   "execution_count": 56,
   "metadata": {
    "collapsed": false
   },
   "outputs": [],
   "source": [
    "data = pd.merge(df3,users,left_on='user',right_on='id',how='inner')\n",
    "data = data[['user','ts','channel','text','name']]"
   ]
  },
  {
   "cell_type": "markdown",
   "metadata": {},
   "source": [
    "## Part 4 Term Frequency"
   ]
  },
  {
   "cell_type": "code",
   "execution_count": 64,
   "metadata": {
    "collapsed": false
   },
   "outputs": [
    {
     "data": {
      "text/html": [
       "<div>\n",
       "<table border=\"1\" class=\"dataframe\">\n",
       "  <thead>\n",
       "    <tr style=\"text-align: right;\">\n",
       "      <th></th>\n",
       "      <th>user</th>\n",
       "      <th>ts</th>\n",
       "      <th>channel</th>\n",
       "      <th>text</th>\n",
       "      <th>clean_text</th>\n",
       "    </tr>\n",
       "  </thead>\n",
       "  <tbody>\n",
       "    <tr>\n",
       "      <th>0</th>\n",
       "      <td>U0WEAA087</td>\n",
       "      <td>2016-04-03 23:32:26.000002</td>\n",
       "      <td>36100-dsi</td>\n",
       "      <td>&lt;@U0WEAA087|jared&gt; has joined the channel</td>\n",
       "      <td>DataScientist joined</td>\n",
       "    </tr>\n",
       "    <tr>\n",
       "      <th>1</th>\n",
       "      <td>U0WEAA087</td>\n",
       "      <td>2016-04-03 23:32:27.000003</td>\n",
       "      <td>36100-dsi</td>\n",
       "      <td>&lt;@U0WEAA087|jared&gt; set the channel purpose: Ch...</td>\n",
       "      <td>DataScientist set purpose dedicated data scien...</td>\n",
       "    </tr>\n",
       "    <tr>\n",
       "      <th>2</th>\n",
       "      <td>U0WDYEG6S</td>\n",
       "      <td>2016-04-03 23:32:27.000004</td>\n",
       "      <td>36100-dsi</td>\n",
       "      <td>&lt;@U0WDYEG6S|duhita&gt; has joined the channel</td>\n",
       "      <td>BusinessAnalyst joined</td>\n",
       "    </tr>\n",
       "    <tr>\n",
       "      <th>3</th>\n",
       "      <td>U0X443CKZ</td>\n",
       "      <td>2016-04-03 23:32:27.000005</td>\n",
       "      <td>36100-dsi</td>\n",
       "      <td>&lt;@U0X443CKZ|chris.garces&gt; has joined the channel</td>\n",
       "      <td>DataScientist joined</td>\n",
       "    </tr>\n",
       "    <tr>\n",
       "      <th>4</th>\n",
       "      <td>U0WFHMEM8</td>\n",
       "      <td>2016-04-03 23:32:27.000006</td>\n",
       "      <td>36100-dsi</td>\n",
       "      <td>&lt;@U0WFHMEM8|hussam&gt; has joined the channel</td>\n",
       "      <td>DataAnalyticsManager joined</td>\n",
       "    </tr>\n",
       "    <tr>\n",
       "      <th>5</th>\n",
       "      <td>U0X6CUQ3D</td>\n",
       "      <td>2016-04-03 23:32:29.000007</td>\n",
       "      <td>36100-dsi</td>\n",
       "      <td>&lt;@U0X6CUQ3D|martinlehmann&gt; has joined the channel</td>\n",
       "      <td>ProjectManager joined</td>\n",
       "    </tr>\n",
       "    <tr>\n",
       "      <th>0</th>\n",
       "      <td>U0X6CUQ3D</td>\n",
       "      <td>2016-04-04 09:59:21.000008</td>\n",
       "      <td>36100-dsi</td>\n",
       "      <td>hey  you guys working on the assignment 1 task...</td>\n",
       "      <td>hey guy working assignment task due sunday</td>\n",
       "    </tr>\n",
       "    <tr>\n",
       "      <th>1</th>\n",
       "      <td>U0WEAA087</td>\n",
       "      <td>2016-04-04 10:24:28.000009</td>\n",
       "      <td>36100-dsi</td>\n",
       "      <td>Yeah trying to get it done. I'm hoping to smas...</td>\n",
       "      <td>yeah trying get done m hoping smash wednesday ...</td>\n",
       "    </tr>\n",
       "    <tr>\n",
       "      <th>2</th>\n",
       "      <td>U0X6CUQ3D</td>\n",
       "      <td>2016-04-04 10:27:38.000010</td>\n",
       "      <td>36100-dsi</td>\n",
       "      <td>turns out there's not much research in my doma...</td>\n",
       "      <td>turn much research domain auditing retail supe...</td>\n",
       "    </tr>\n",
       "    <tr>\n",
       "      <th>3</th>\n",
       "      <td>U0WDYEG6S</td>\n",
       "      <td>2016-04-04 11:25:09.000011</td>\n",
       "      <td>36100-dsi</td>\n",
       "      <td>yeah my article is turning out to be more use ...</td>\n",
       "      <td>yeah article turning use case based</td>\n",
       "    </tr>\n",
       "  </tbody>\n",
       "</table>\n",
       "</div>"
      ],
      "text/plain": [
       "        user                         ts    channel  \\\n",
       "0  U0WEAA087 2016-04-03 23:32:26.000002  36100-dsi   \n",
       "1  U0WEAA087 2016-04-03 23:32:27.000003  36100-dsi   \n",
       "2  U0WDYEG6S 2016-04-03 23:32:27.000004  36100-dsi   \n",
       "3  U0X443CKZ 2016-04-03 23:32:27.000005  36100-dsi   \n",
       "4  U0WFHMEM8 2016-04-03 23:32:27.000006  36100-dsi   \n",
       "5  U0X6CUQ3D 2016-04-03 23:32:29.000007  36100-dsi   \n",
       "0  U0X6CUQ3D 2016-04-04 09:59:21.000008  36100-dsi   \n",
       "1  U0WEAA087 2016-04-04 10:24:28.000009  36100-dsi   \n",
       "2  U0X6CUQ3D 2016-04-04 10:27:38.000010  36100-dsi   \n",
       "3  U0WDYEG6S 2016-04-04 11:25:09.000011  36100-dsi   \n",
       "\n",
       "                                                text  \\\n",
       "0          <@U0WEAA087|jared> has joined the channel   \n",
       "1  <@U0WEAA087|jared> set the channel purpose: Ch...   \n",
       "2         <@U0WDYEG6S|duhita> has joined the channel   \n",
       "3   <@U0X443CKZ|chris.garces> has joined the channel   \n",
       "4         <@U0WFHMEM8|hussam> has joined the channel   \n",
       "5  <@U0X6CUQ3D|martinlehmann> has joined the channel   \n",
       "0  hey  you guys working on the assignment 1 task...   \n",
       "1  Yeah trying to get it done. I'm hoping to smas...   \n",
       "2  turns out there's not much research in my doma...   \n",
       "3  yeah my article is turning out to be more use ...   \n",
       "\n",
       "                                          clean_text  \n",
       "0                               DataScientist joined  \n",
       "1  DataScientist set purpose dedicated data scien...  \n",
       "2                             BusinessAnalyst joined  \n",
       "3                               DataScientist joined  \n",
       "4                        DataAnalyticsManager joined  \n",
       "5                              ProjectManager joined  \n",
       "0         hey guy working assignment task due sunday  \n",
       "1  yeah trying get done m hoping smash wednesday ...  \n",
       "2  turn much research domain auditing retail supe...  \n",
       "3                yeah article turning use case based  "
      ]
     },
     "execution_count": 64,
     "metadata": {},
     "output_type": "execute_result"
    }
   ],
   "source": [
    "#data[data.text.str.contains('@U13AJ8EVD')]\n",
    "data.head(10)"
   ]
  },
  {
   "cell_type": "markdown",
   "metadata": {},
   "source": [
    "### Tokenizing"
   ]
  },
  {
   "cell_type": "code",
   "execution_count": 57,
   "metadata": {
    "collapsed": false
   },
   "outputs": [
    {
     "name": "stdout",
     "output_type": "stream",
     "text": [
      "[(u'the', 1309), (u'to', 867), (u'a', 593), (u'we', 585), (u'and', 525), (u'in', 415), (u'I', 413), (u'it', 363), (u'of', 358), (u'that', 332), (u'for', 326), (u'is', 323), (u'on', 307), (u'can', 294), (u'have', 281), (u'i', 269), (u'this', 265), (u'data', 255), (u'you', 247), (u'will', 223)]\n"
     ]
    }
   ],
   "source": [
    "from collections import Counter\n",
    " \n",
    "\n",
    "count_all = Counter()\n",
    "for line in data.text:\n",
    "    # Create a list with all the terms\n",
    "    text = line.split()\n",
    "    # Update the counter\n",
    "    count_all.update(text)\n",
    "    # Print the first 5 most frequent words\n",
    "print(count_all.most_common(20))"
   ]
  },
  {
   "cell_type": "code",
   "execution_count": 61,
   "metadata": {
    "collapsed": false
   },
   "outputs": [
    {
     "ename": "ImportError",
     "evalue": "DLL load failed: A dynamic link library (DLL) initialization routine failed.",
     "output_type": "error",
     "traceback": [
      "\u001b[1;31m---------------------------------------------------------------------------\u001b[0m",
      "\u001b[1;31mImportError\u001b[0m                               Traceback (most recent call last)",
      "\u001b[1;32m<ipython-input-61-63a7b9115558>\u001b[0m in \u001b[0;36m<module>\u001b[1;34m()\u001b[0m\n\u001b[1;32m----> 1\u001b[1;33m \u001b[1;32mfrom\u001b[0m \u001b[0mwordcloud\u001b[0m \u001b[1;32mimport\u001b[0m \u001b[0mWordCloud\u001b[0m\u001b[1;33m,\u001b[0m \u001b[0mSTOPWORDS\u001b[0m\u001b[1;33m\u001b[0m\u001b[0m\n\u001b[0m\u001b[0;32m      2\u001b[0m \u001b[0mwords\u001b[0m \u001b[1;33m=\u001b[0m \u001b[1;34m' '\u001b[0m\u001b[1;33m.\u001b[0m\u001b[0mjoin\u001b[0m\u001b[1;33m(\u001b[0m\u001b[0mdata\u001b[0m\u001b[1;33m[\u001b[0m\u001b[1;34m'text'\u001b[0m\u001b[1;33m]\u001b[0m\u001b[1;33m)\u001b[0m\u001b[1;33m\u001b[0m\u001b[0m\n\u001b[0;32m      3\u001b[0m \u001b[1;33m\u001b[0m\u001b[0m\n\u001b[0;32m      4\u001b[0m wordcloud = WordCloud(\n\u001b[0;32m      5\u001b[0m                       \u001b[1;31m#font_path='/Users/sebastian/Library/Fonts/CabinSketch-Bold.ttf',\u001b[0m\u001b[1;33m\u001b[0m\u001b[1;33m\u001b[0m\u001b[0m\n",
      "\u001b[1;32mC:\\Users\\Jared Chung\\Anaconda2\\lib\\site-packages\\wordcloud\\__init__.py\u001b[0m in \u001b[0;36m<module>\u001b[1;34m()\u001b[0m\n\u001b[1;32m----> 1\u001b[1;33m \u001b[1;32mfrom\u001b[0m \u001b[1;33m.\u001b[0m\u001b[0mwordcloud\u001b[0m \u001b[1;32mimport\u001b[0m \u001b[0mWordCloud\u001b[0m\u001b[1;33m,\u001b[0m \u001b[0mSTOPWORDS\u001b[0m\u001b[1;33m,\u001b[0m \u001b[0mrandom_color_func\u001b[0m\u001b[1;33m,\u001b[0m \u001b[0mget_single_color_func\u001b[0m\u001b[1;33m\u001b[0m\u001b[0m\n\u001b[0m\u001b[0;32m      2\u001b[0m \u001b[1;32mfrom\u001b[0m \u001b[1;33m.\u001b[0m\u001b[0mcolor_from_image\u001b[0m \u001b[1;32mimport\u001b[0m \u001b[0mImageColorGenerator\u001b[0m\u001b[1;33m\u001b[0m\u001b[0m\n\u001b[0;32m      3\u001b[0m \u001b[1;33m\u001b[0m\u001b[0m\n\u001b[0;32m      4\u001b[0m \u001b[0m__all__\u001b[0m \u001b[1;33m=\u001b[0m \u001b[1;33m[\u001b[0m\u001b[1;34m'WordCloud'\u001b[0m\u001b[1;33m,\u001b[0m \u001b[1;34m'STOPWORDS'\u001b[0m\u001b[1;33m,\u001b[0m \u001b[1;34m'random_color_func'\u001b[0m\u001b[1;33m,\u001b[0m \u001b[1;34m'get_single_color_func'\u001b[0m\u001b[1;33m,\u001b[0m \u001b[1;34m'ImageColorGenerator'\u001b[0m\u001b[1;33m]\u001b[0m\u001b[1;33m\u001b[0m\u001b[0m\n",
      "\u001b[1;32mC:\\Users\\Jared Chung\\Anaconda2\\lib\\site-packages\\wordcloud\\wordcloud.py\u001b[0m in \u001b[0;36m<module>\u001b[1;34m()\u001b[0m\n\u001b[0;32m     20\u001b[0m \u001b[1;32mfrom\u001b[0m \u001b[0mPIL\u001b[0m \u001b[1;32mimport\u001b[0m \u001b[0mImageFont\u001b[0m\u001b[1;33m\u001b[0m\u001b[0m\n\u001b[0;32m     21\u001b[0m \u001b[1;33m\u001b[0m\u001b[0m\n\u001b[1;32m---> 22\u001b[1;33m \u001b[1;32mfrom\u001b[0m \u001b[1;33m.\u001b[0m\u001b[0mquery_integral_image\u001b[0m \u001b[1;32mimport\u001b[0m \u001b[0mquery_integral_image\u001b[0m\u001b[1;33m\u001b[0m\u001b[0m\n\u001b[0m\u001b[0;32m     23\u001b[0m \u001b[1;33m\u001b[0m\u001b[0m\n\u001b[0;32m     24\u001b[0m \u001b[0mitem1\u001b[0m \u001b[1;33m=\u001b[0m \u001b[0mitemgetter\u001b[0m\u001b[1;33m(\u001b[0m\u001b[1;36m1\u001b[0m\u001b[1;33m)\u001b[0m\u001b[1;33m\u001b[0m\u001b[0m\n",
      "\u001b[1;31mImportError\u001b[0m: DLL load failed: A dynamic link library (DLL) initialization routine failed."
     ]
    }
   ],
   "source": [
    "from wordcloud import WordCloud, STOPWORDS\n",
    "words = ' '.join(data['text'])\n",
    "\n",
    "wordcloud = WordCloud(\n",
    "                      #font_path='/Users/sebastian/Library/Fonts/CabinSketch-Bold.ttf',\n",
    "                      stopwords=STOPWORDS,\n",
    "                      background_color='black',\n",
    "                      width=1800,\n",
    "                      height=1400\n",
    "                     ).generate(no_urls_no_tags)\n",
    "\n",
    "plt.imshow(wordcloud)\n",
    "plt.axis('off')\n",
    "#plt.savefig('./my_twitter_wordcloud_1.png', dpi=300)\n",
    "#plt.show()"
   ]
  },
  {
   "cell_type": "code",
   "execution_count": 32,
   "metadata": {
    "collapsed": true
   },
   "outputs": [],
   "source": [
    "count_vectorizer = CountVectorizer()\n",
    "\n",
    "def processtrain(x):\n",
    "    corpus = []\n",
    "    for text in x:\n",
    "        corpus.append(text)   \n",
    "        \n",
    "    count = count_vectorizer.fit_transform(corpus)\n",
    "    \n",
    "    return count\n",
    "\n",
    "count_text = processtrain(data)"
   ]
  },
  {
   "cell_type": "code",
   "execution_count": 33,
   "metadata": {
    "collapsed": false
   },
   "outputs": [
    {
     "data": {
      "text/plain": [
       "<4x4 sparse matrix of type '<type 'numpy.int64'>'\n",
       "\twith 4 stored elements in Compressed Sparse Row format>"
      ]
     },
     "execution_count": 33,
     "metadata": {},
     "output_type": "execute_result"
    }
   ],
   "source": [
    "count_text"
   ]
  },
  {
   "cell_type": "markdown",
   "metadata": {},
   "source": [
    "### Tf-idf"
   ]
  },
  {
   "cell_type": "code",
   "execution_count": null,
   "metadata": {
    "collapsed": true
   },
   "outputs": [],
   "source": []
  },
  {
   "cell_type": "code",
   "execution_count": null,
   "metadata": {
    "collapsed": true
   },
   "outputs": [],
   "source": []
  },
  {
   "cell_type": "code",
   "execution_count": 57,
   "metadata": {
    "collapsed": false,
    "scrolled": true
   },
   "outputs": [
    {
     "name": "stdout",
     "output_type": "stream",
     "text": [
      "<class 'pandas.core.frame.DataFrame'>\n",
      "Int64Index: 2940 entries, 0 to 2939\n",
      "Data columns (total 5 columns):\n",
      "user       2940 non-null object\n",
      "ts         2940 non-null datetime64[ns]\n",
      "channel    2940 non-null object\n",
      "text       2940 non-null object\n",
      "name       2940 non-null object\n",
      "dtypes: datetime64[ns](1), object(4)\n",
      "memory usage: 137.8+ KB\n"
     ]
    }
   ],
   "source": [
    "data.info()"
   ]
  },
  {
   "cell_type": "code",
   "execution_count": 58,
   "metadata": {
    "collapsed": false
   },
   "outputs": [
    {
     "data": {
      "text/html": [
       "<div>\n",
       "<table border=\"1\" class=\"dataframe\">\n",
       "  <thead>\n",
       "    <tr style=\"text-align: right;\">\n",
       "      <th></th>\n",
       "      <th>user</th>\n",
       "      <th>ts</th>\n",
       "      <th>channel</th>\n",
       "      <th>text</th>\n",
       "      <th>name</th>\n",
       "    </tr>\n",
       "  </thead>\n",
       "  <tbody>\n",
       "    <tr>\n",
       "      <th>0</th>\n",
       "      <td>U0WEAA087</td>\n",
       "      <td>2016-04-03 23:32:26.000002</td>\n",
       "      <td>36100-dsi</td>\n",
       "      <td>&lt;@U0WEAA087|jared&gt; has joined the channel</td>\n",
       "      <td>jared</td>\n",
       "    </tr>\n",
       "    <tr>\n",
       "      <th>1</th>\n",
       "      <td>U0WEAA087</td>\n",
       "      <td>2016-04-03 23:32:27.000003</td>\n",
       "      <td>36100-dsi</td>\n",
       "      <td>&lt;@U0WEAA087|jared&gt; set the channel purpose: Ch...</td>\n",
       "      <td>jared</td>\n",
       "    </tr>\n",
       "    <tr>\n",
       "      <th>2</th>\n",
       "      <td>U0WEAA087</td>\n",
       "      <td>2016-04-04 10:24:28.000009</td>\n",
       "      <td>36100-dsi</td>\n",
       "      <td>Yeah trying to get it done. I'm hoping to smas...</td>\n",
       "      <td>jared</td>\n",
       "    </tr>\n",
       "    <tr>\n",
       "      <th>3</th>\n",
       "      <td>U0WEAA087</td>\n",
       "      <td>2016-04-11 06:07:57.000119</td>\n",
       "      <td>36100-dsi</td>\n",
       "      <td>Hey Guys, sorry haven't been that active. I'm ...</td>\n",
       "      <td>jared</td>\n",
       "    </tr>\n",
       "    <tr>\n",
       "      <th>4</th>\n",
       "      <td>U0WEAA087</td>\n",
       "      <td>2016-04-11 06:11:39.000120</td>\n",
       "      <td>36100-dsi</td>\n",
       "      <td>&lt;http://nicomiceli.com/slackalytics/&gt; I might ...</td>\n",
       "      <td>jared</td>\n",
       "    </tr>\n",
       "  </tbody>\n",
       "</table>\n",
       "</div>"
      ],
      "text/plain": [
       "        user                         ts    channel  \\\n",
       "0  U0WEAA087 2016-04-03 23:32:26.000002  36100-dsi   \n",
       "1  U0WEAA087 2016-04-03 23:32:27.000003  36100-dsi   \n",
       "2  U0WEAA087 2016-04-04 10:24:28.000009  36100-dsi   \n",
       "3  U0WEAA087 2016-04-11 06:07:57.000119  36100-dsi   \n",
       "4  U0WEAA087 2016-04-11 06:11:39.000120  36100-dsi   \n",
       "\n",
       "                                                text   name  \n",
       "0          <@U0WEAA087|jared> has joined the channel  jared  \n",
       "1  <@U0WEAA087|jared> set the channel purpose: Ch...  jared  \n",
       "2  Yeah trying to get it done. I'm hoping to smas...  jared  \n",
       "3  Hey Guys, sorry haven't been that active. I'm ...  jared  \n",
       "4  <http://nicomiceli.com/slackalytics/> I might ...  jared  "
      ]
     },
     "execution_count": 58,
     "metadata": {},
     "output_type": "execute_result"
    }
   ],
   "source": [
    "data.head()"
   ]
  },
  {
   "cell_type": "code",
   "execution_count": 27,
   "metadata": {
    "collapsed": false
   },
   "outputs": [
    {
     "data": {
      "text/plain": [
       "crisp-dataprep         1159\n",
       "36100-dsi               542\n",
       "general                 301\n",
       "crisp-businessknow      249\n",
       "36106-dam               147\n",
       "python_instructions     138\n",
       "dsi-assignment-2a       135\n",
       "crisp-dataknow          116\n",
       "story-telling            95\n",
       "jira-discussion          91\n",
       "crisp-modelling          66\n",
       "random                   61\n",
       "36100-dsi-photos         44\n",
       "36103-statistics          6\n",
       "crisp-deploy              5\n",
       "crisp-eval                5\n",
       "dam                       2\n",
       "dsi                       2\n",
       "dtype: int64"
      ]
     },
     "execution_count": 27,
     "metadata": {},
     "output_type": "execute_result"
    }
   ],
   "source": [
    "df3.channel.value_counts()"
   ]
  },
  {
   "cell_type": "code",
   "execution_count": null,
   "metadata": {
    "collapsed": true
   },
   "outputs": [],
   "source": []
  },
  {
   "cell_type": "markdown",
   "metadata": {},
   "source": [
    "## Part 6 Data Visualization"
   ]
  },
  {
   "cell_type": "code",
   "execution_count": 71,
   "metadata": {
    "collapsed": false
   },
   "outputs": [],
   "source": [
    "jared = data[data.name == 'jared']"
   ]
  },
  {
   "cell_type": "code",
   "execution_count": 72,
   "metadata": {
    "collapsed": false
   },
   "outputs": [
    {
     "data": {
      "text/html": [
       "<div>\n",
       "<table border=\"1\" class=\"dataframe\">\n",
       "  <thead>\n",
       "    <tr style=\"text-align: right;\">\n",
       "      <th></th>\n",
       "      <th>user</th>\n",
       "      <th>ts</th>\n",
       "      <th>channel</th>\n",
       "      <th>text</th>\n",
       "      <th>name</th>\n",
       "    </tr>\n",
       "  </thead>\n",
       "  <tbody>\n",
       "    <tr>\n",
       "      <th>0</th>\n",
       "      <td>U0WEAA087</td>\n",
       "      <td>2016-04-03 23:32:26.000002</td>\n",
       "      <td>36100-dsi</td>\n",
       "      <td>&lt;@U0WEAA087|jared&gt; has joined the channel</td>\n",
       "      <td>jared</td>\n",
       "    </tr>\n",
       "    <tr>\n",
       "      <th>1</th>\n",
       "      <td>U0WEAA087</td>\n",
       "      <td>2016-04-03 23:32:27.000003</td>\n",
       "      <td>36100-dsi</td>\n",
       "      <td>&lt;@U0WEAA087|jared&gt; set the channel purpose: Ch...</td>\n",
       "      <td>jared</td>\n",
       "    </tr>\n",
       "    <tr>\n",
       "      <th>2</th>\n",
       "      <td>U0WEAA087</td>\n",
       "      <td>2016-04-04 10:24:28.000009</td>\n",
       "      <td>36100-dsi</td>\n",
       "      <td>Yeah trying to get it done. I'm hoping to smas...</td>\n",
       "      <td>jared</td>\n",
       "    </tr>\n",
       "    <tr>\n",
       "      <th>3</th>\n",
       "      <td>U0WEAA087</td>\n",
       "      <td>2016-04-11 06:07:57.000119</td>\n",
       "      <td>36100-dsi</td>\n",
       "      <td>Hey Guys, sorry haven't been that active. I'm ...</td>\n",
       "      <td>jared</td>\n",
       "    </tr>\n",
       "    <tr>\n",
       "      <th>4</th>\n",
       "      <td>U0WEAA087</td>\n",
       "      <td>2016-04-11 06:11:39.000120</td>\n",
       "      <td>36100-dsi</td>\n",
       "      <td>&lt;http://nicomiceli.com/slackalytics/&gt; I might ...</td>\n",
       "      <td>jared</td>\n",
       "    </tr>\n",
       "  </tbody>\n",
       "</table>\n",
       "</div>"
      ],
      "text/plain": [
       "        user                         ts    channel  \\\n",
       "0  U0WEAA087 2016-04-03 23:32:26.000002  36100-dsi   \n",
       "1  U0WEAA087 2016-04-03 23:32:27.000003  36100-dsi   \n",
       "2  U0WEAA087 2016-04-04 10:24:28.000009  36100-dsi   \n",
       "3  U0WEAA087 2016-04-11 06:07:57.000119  36100-dsi   \n",
       "4  U0WEAA087 2016-04-11 06:11:39.000120  36100-dsi   \n",
       "\n",
       "                                                text   name  \n",
       "0          <@U0WEAA087|jared> has joined the channel  jared  \n",
       "1  <@U0WEAA087|jared> set the channel purpose: Ch...  jared  \n",
       "2  Yeah trying to get it done. I'm hoping to smas...  jared  \n",
       "3  Hey Guys, sorry haven't been that active. I'm ...  jared  \n",
       "4  <http://nicomiceli.com/slackalytics/> I might ...  jared  "
      ]
     },
     "execution_count": 72,
     "metadata": {},
     "output_type": "execute_result"
    }
   ],
   "source": [
    "jared.head()"
   ]
  },
  {
   "cell_type": "code",
   "execution_count": 73,
   "metadata": {
    "collapsed": false
   },
   "outputs": [
    {
     "data": {
      "text/plain": [
       "crisp-dataprep         63\n",
       "python_instructions    29\n",
       "36100-dsi              21\n",
       "36106-dam              17\n",
       "general                13\n",
       "crisp-businessknow     10\n",
       "random                  7\n",
       "story-telling           5\n",
       "dsi-assignment-2a       1\n",
       "36100-dsi-photos        1\n",
       "crisp-dataknow          1\n",
       "crisp-deploy            1\n",
       "crisp-modelling         1\n",
       "crisp-eval              1\n",
       "jira-discussion         1\n",
       "dtype: int64"
      ]
     },
     "execution_count": 73,
     "metadata": {},
     "output_type": "execute_result"
    }
   ],
   "source": [
    "jared.channel.value_counts()"
   ]
  },
  {
   "cell_type": "code",
   "execution_count": null,
   "metadata": {
    "collapsed": true
   },
   "outputs": [],
   "source": []
  },
  {
   "cell_type": "markdown",
   "metadata": {},
   "source": [
    "### Ploting messages over time"
   ]
  },
  {
   "cell_type": "code",
   "execution_count": 130,
   "metadata": {
    "collapsed": false,
    "scrolled": true
   },
   "outputs": [
    {
     "data": {
      "text/plain": [
       "ts\n",
       "0     11\n",
       "1     11\n",
       "2      9\n",
       "3      1\n",
       "4      2\n",
       "5      6\n",
       "6     28\n",
       "7      4\n",
       "8     11\n",
       "9     15\n",
       "10    26\n",
       "11    18\n",
       "12     6\n",
       "13     1\n",
       "20     5\n",
       "21     3\n",
       "23    15\n",
       "dtype: int64"
      ]
     },
     "execution_count": 130,
     "metadata": {},
     "output_type": "execute_result"
    }
   ],
   "source": [
    "jared.groupby(jared.ts.apply(lambda x: x.hour)).text.size()"
   ]
  },
  {
   "cell_type": "code",
   "execution_count": 123,
   "metadata": {
    "collapsed": false
   },
   "outputs": [
    {
     "data": {
      "image/png": "[encoded data removed]",
      "text/plain": [
       "<matplotlib.figure.Figure at 0xf7a4978>"
      ]
     },
     "metadata": {},
     "output_type": "display_data"
    }
   ],
   "source": [
    "fig = plt.figure(figsize=(10,6))\n",
    "ax = fig.add_subplot(1,1,1)\n",
    "ax.bar(jared.groupby(jared.ts.apply(lambda x: x.hour)).text.size().index +1,jared.groupby(jared.ts.apply(lambda x: x.hour)).text.size())\n",
    "fig.suptitle(\"Aggregated Hours\",fontsize= 14)\n",
    "ax.set_xlabel(\"Hours\")\n",
    "ax.set_xticks(jared.groupby(jared.ts.apply(lambda x: x.hour)).text.size().index+ 1)\n",
    "ax.set_ylabel(\"Quantity\")\n",
    "fig.savefig(\"Aggregated Hours.png\")"
   ]
  },
  {
   "cell_type": "code",
   "execution_count": 110,
   "metadata": {
    "collapsed": true
   },
   "outputs": [],
   "source": [
    "# "
   ]
  },
  {
   "cell_type": "code",
   "execution_count": null,
   "metadata": {
    "collapsed": true
   },
   "outputs": [],
   "source": []
  },
  {
   "cell_type": "code",
   "execution_count": null,
   "metadata": {
    "collapsed": true
   },
   "outputs": [],
   "source": []
  },
  {
   "cell_type": "code",
   "execution_count": null,
   "metadata": {
    "collapsed": true
   },
   "outputs": [],
   "source": []
  },
  {
   "cell_type": "markdown",
   "metadata": {},
   "source": [
    "## Part 7 Sentiment Analysis"
   ]
  },
  {
   "cell_type": "code",
   "execution_count": 9,
   "metadata": {
    "collapsed": true
   },
   "outputs": [],
   "source": [
    "from aylienapiclient import textapi\n",
    "\n",
    "client = textapi.Client(\"e1bba75f\", \"a974c3050c2187cffaa9b50451d0c312\")"
   ]
  },
  {
   "cell_type": "code",
   "execution_count": 10,
   "metadata": {
    "collapsed": false
   },
   "outputs": [
    {
     "name": "stdout",
     "output_type": "stream",
     "text": [
      "{u'polarity': u'positive', u'text': u'John is a very good football player', u'polarity_confidence': 0.8693919697854208, u'subjectivity_confidence': 0.9963778207617525, u'subjectivity': u'subjective'}\n"
     ]
    }
   ],
   "source": [
    "text = 'John is a very good football player'\n",
    "sentiment = client.Sentiment({'text': text})\n",
    "print sentiment"
   ]
  },
  {
   "cell_type": "code",
   "execution_count": 11,
   "metadata": {
    "collapsed": false
   },
   "outputs": [
    {
     "name": "stdout",
     "output_type": "stream",
     "text": [
      "positive\n",
      "0.869391969785\n"
     ]
    }
   ],
   "source": [
    "print sentiment['polarity']\n",
    "print sentiment['polarity_confidence']"
   ]
  },
  {
   "cell_type": "code",
   "execution_count": 66,
   "metadata": {
    "collapsed": false
   },
   "outputs": [
    {
     "ename": "HttpError",
     "evalue": "<HttpError 429 when requesting https://api.aylien.com/api/v1/sentiment returned \"\">",
     "output_type": "error",
     "traceback": [
      "\u001b[1;31m---------------------------------------------------------------------------\u001b[0m",
      "\u001b[1;31mHttpError\u001b[0m                                 Traceback (most recent call last)",
      "\u001b[1;32m<ipython-input-66-450ae5121c2d>\u001b[0m in \u001b[0;36m<module>\u001b[1;34m()\u001b[0m\n\u001b[0;32m      2\u001b[0m \u001b[1;33m\u001b[0m\u001b[0m\n\u001b[0;32m      3\u001b[0m \u001b[1;32mfor\u001b[0m \u001b[0mn\u001b[0m \u001b[1;32min\u001b[0m \u001b[0mdata\u001b[0m\u001b[1;33m.\u001b[0m\u001b[0mclean_text\u001b[0m\u001b[1;33m:\u001b[0m\u001b[1;33m\u001b[0m\u001b[0m\n\u001b[1;32m----> 4\u001b[1;33m     \u001b[0msent\u001b[0m \u001b[1;33m=\u001b[0m \u001b[0mclient\u001b[0m\u001b[1;33m.\u001b[0m\u001b[0mSentiment\u001b[0m\u001b[1;33m(\u001b[0m\u001b[1;33m{\u001b[0m\u001b[1;34m'text'\u001b[0m\u001b[1;33m:\u001b[0m \u001b[0mn\u001b[0m\u001b[1;33m}\u001b[0m\u001b[1;33m)\u001b[0m\u001b[1;33m\u001b[0m\u001b[0m\n\u001b[0m\u001b[0;32m      5\u001b[0m \u001b[1;33m\u001b[0m\u001b[0m\n\u001b[0;32m      6\u001b[0m     \u001b[0msentiment\u001b[0m\u001b[1;33m.\u001b[0m\u001b[0mappend\u001b[0m\u001b[1;33m(\u001b[0m\u001b[0msent\u001b[0m\u001b[1;33m[\u001b[0m\u001b[1;34m'polarity_confidence'\u001b[0m\u001b[1;33m]\u001b[0m\u001b[1;33m)\u001b[0m\u001b[1;33m\u001b[0m\u001b[0m\n",
      "\u001b[1;32mC:\\Users\\JChung\\AppData\\Local\\Continuum\\Anaconda\\lib\\site-packages\\aylienapiclient\\textapi.pyc\u001b[0m in \u001b[0;36mSentiment\u001b[1;34m(self, options)\u001b[0m\n\u001b[0;32m    412\u001b[0m       \u001b[1;32mraise\u001b[0m \u001b[0mMissingParameterError\u001b[0m\u001b[1;33m(\u001b[0m\u001b[1;34m'You must either provide url or text'\u001b[0m\u001b[1;33m)\u001b[0m\u001b[1;33m\u001b[0m\u001b[0m\n\u001b[0;32m    413\u001b[0m \u001b[1;33m\u001b[0m\u001b[0m\n\u001b[1;32m--> 414\u001b[1;33m     \u001b[0mresponse\u001b[0m \u001b[1;33m=\u001b[0m \u001b[0mself\u001b[0m\u001b[1;33m.\u001b[0m\u001b[0m_executeRequest\u001b[0m\u001b[1;33m(\u001b[0m\u001b[1;34m'sentiment'\u001b[0m\u001b[1;33m,\u001b[0m \u001b[0moptions\u001b[0m\u001b[1;33m)\u001b[0m\u001b[1;33m\u001b[0m\u001b[0m\n\u001b[0m\u001b[0;32m    415\u001b[0m \u001b[1;33m\u001b[0m\u001b[0m\n\u001b[0;32m    416\u001b[0m     \u001b[1;32mreturn\u001b[0m \u001b[0mresponse\u001b[0m\u001b[1;33m\u001b[0m\u001b[0m\n",
      "\u001b[1;32mC:\\Users\\JChung\\AppData\\Local\\Continuum\\Anaconda\\lib\\site-packages\\aylienapiclient\\textapi.pyc\u001b[0m in \u001b[0;36m_executeRequest\u001b[1;34m(self, endpoint, params)\u001b[0m\n\u001b[0;32m    680\u001b[0m \u001b[1;33m\u001b[0m\u001b[0m\n\u001b[0;32m    681\u001b[0m     \u001b[1;32mif\u001b[0m \u001b[0mresponse\u001b[0m\u001b[1;33m.\u001b[0m\u001b[0mstatus\u001b[0m \u001b[1;33m>=\u001b[0m \u001b[1;36m300\u001b[0m\u001b[1;33m:\u001b[0m\u001b[1;33m\u001b[0m\u001b[0m\n\u001b[1;32m--> 682\u001b[1;33m       \u001b[1;32mraise\u001b[0m \u001b[0mHttpError\u001b[0m\u001b[1;33m(\u001b[0m\u001b[0mresponse\u001b[0m\u001b[1;33m,\u001b[0m \u001b[0mcontent\u001b[0m\u001b[1;33m,\u001b[0m \u001b[0muri\u001b[0m\u001b[1;33m=\u001b[0m\u001b[0mrequest\u001b[0m\u001b[1;33m.\u001b[0m\u001b[0muri\u001b[0m\u001b[1;33m)\u001b[0m\u001b[1;33m\u001b[0m\u001b[0m\n\u001b[0m\u001b[0;32m    683\u001b[0m \u001b[1;33m\u001b[0m\u001b[0m\n\u001b[0;32m    684\u001b[0m     \u001b[1;32mif\u001b[0m \u001b[0msys\u001b[0m\u001b[1;33m.\u001b[0m\u001b[0mversion_info\u001b[0m \u001b[1;33m>=\u001b[0m \u001b[1;33m(\u001b[0m\u001b[1;36m3\u001b[0m\u001b[1;33m,\u001b[0m \u001b[1;36m0\u001b[0m\u001b[1;33m)\u001b[0m\u001b[1;33m:\u001b[0m\u001b[1;33m\u001b[0m\u001b[0m\n",
      "\u001b[1;31mHttpError\u001b[0m: <HttpError 429 when requesting https://api.aylien.com/api/v1/sentiment returned \"\">"
     ]
    }
   ],
   "source": [
    "sentiment = []\n",
    "\n",
    "for n in data.clean_text:\n",
    "    sent = client.Sentiment({'text': n})\n",
    "    \n",
    "    sentiment.append(sent['polarity_confidence'])\n"
   ]
  },
  {
   "cell_type": "code",
   "execution_count": 68,
   "metadata": {
    "collapsed": false
   },
   "outputs": [
    {
     "data": {
      "text/plain": [
       "1000"
      ]
     },
     "execution_count": 68,
     "metadata": {},
     "output_type": "execute_result"
    }
   ],
   "source": [
    "len(sentiment)"
   ]
  },
  {
   "cell_type": "code",
   "execution_count": 99,
   "metadata": {
    "collapsed": false
   },
   "outputs": [
    {
     "data": {
      "text/plain": [
       "[0.8524086995956225,\n",
       " 0.576837807392605,\n",
       " 0.854629430343337,\n",
       " 0.8524086995956225,\n",
       " 0.8524086995956225,\n",
       " 0.8524086995956225,\n",
       " 0.6924584529023284,\n",
       " 0.8348363649419865,\n",
       " 0.8327209378378236,\n",
       " 0.7885968553751025,\n",
       " 0.7189628868478507,\n",
       " 0.8369653512051418,\n",
       " 0.9209883424020261,\n",
       " 0.6403182819743416,\n",
       " 0.5515721603777058,\n",
       " 0.5824633460311792,\n",
       " 0.7866901782803307,\n",
       " 0.7516999047493808,\n",
       " 0.7862176326004082,\n",
       " 0.8131400478686995,\n",
       " 0.8388223533479385,\n",
       " 0.9643118698700225,\n",
       " 0.7869399133331022,\n",
       " 0.8615728113713425,\n",
       " 0.9396369740374385,\n",
       " 0.8766582607071608,\n",
       " 0.6569052588929309,\n",
       " 0.5683554342451421,\n",
       " 0.8525787415773636,\n",
       " 0.9212486910178381,\n",
       " 0.8525787415773636,\n",
       " 0.8729251123603081,\n",
       " 0.8054711715440622,\n",
       " 0.7545793800115864,\n",
       " 0.4807872410571776,\n",
       " 0.7714780192618992,\n",
       " 0.8516126535458836,\n",
       " 0.7726206740988575,\n",
       " 0.8659585698772344,\n",
       " 0.808101426629553,\n",
       " 0.5165174524846022,\n",
       " 0.7086330562793048,\n",
       " 0.4935784418250241,\n",
       " 0.7765363287902238,\n",
       " 0.9993264686171894,\n",
       " 0.5639648214507873,\n",
       " 0.9064999191719219,\n",
       " 0.7021811178583987,\n",
       " 0.786035429378742,\n",
       " 0.7180639838975009,\n",
       " 0.8482315697576487,\n",
       " 0.8051792400240535,\n",
       " 0.7631349720606274,\n",
       " 0.6213945144632942,\n",
       " 0.7590490391573516,\n",
       " 0.8337256200390787,\n",
       " 0.885703578685697,\n",
       " 0.7636644484354219,\n",
       " 0.9743668060705388,\n",
       " 0.8689106068255792,\n",
       " 0.7068759570483131,\n",
       " 0.7329809193250652,\n",
       " 0.7684669051690551,\n",
       " 0.7447043535436362,\n",
       " 0.6865888309345066,\n",
       " 0.9608790161567007,\n",
       " 0.8894836324583395,\n",
       " 0.7384853939066381,\n",
       " 0.8681976481623471,\n",
       " 0.4590255997858796,\n",
       " 0.921810847943335,\n",
       " 0.9049454989775384,\n",
       " 0.6861974882333991,\n",
       " 0.8995786344767013,\n",
       " 0.4689198456807975,\n",
       " 0.9927817258751799,\n",
       " 0.8320639131702551,\n",
       " 0.8270152510172254,\n",
       " 0.8042365282508908,\n",
       " 0.8756134080234359,\n",
       " 0.5297707678810997,\n",
       " 0.6604349417004034,\n",
       " 0.8655947374162575,\n",
       " 0.6864553736856481,\n",
       " 0.6618804299911742,\n",
       " 0.6342297502841019,\n",
       " 0.7726206740988575,\n",
       " 0.9191233749257622,\n",
       " 0.7726206740988575,\n",
       " 0.8692369988736528,\n",
       " 0.9343155274263416,\n",
       " 0.6773273746663079,\n",
       " 0.8473133004552271,\n",
       " 0.86702612695947,\n",
       " 0.8751899183295171,\n",
       " 0.9265859847340313,\n",
       " 0.6654985214139949,\n",
       " 0.46138283535783264,\n",
       " 0.8974492703190682,\n",
       " 0.7080034699444192,\n",
       " 0.7763475562800309,\n",
       " 0.9758203203191517,\n",
       " 0.6660209489286306,\n",
       " 0.6886065857637598,\n",
       " 0.5312765584944572,\n",
       " 0.7461474053329,\n",
       " 0.6855383003208234,\n",
       " 0.7877312268407674,\n",
       " 0.859761461316357,\n",
       " 0.8665667595325023,\n",
       " 0.717589619217689,\n",
       " 0.8735216401683289,\n",
       " 0.7039560620943209,\n",
       " 0.7135228458131909,\n",
       " 0.7926505621456761,\n",
       " 0.7988646812919938,\n",
       " 0.9965676539599059,\n",
       " 0.7990688654136405,\n",
       " 0.7919175317473605,\n",
       " 0.6890892083352735,\n",
       " 0.7893131775295052,\n",
       " 0.9135445033169773,\n",
       " 0.7946823924614193,\n",
       " 0.6036273794623118,\n",
       " 0.7475772213953807,\n",
       " 0.8098873782978404,\n",
       " 0.583362395885313,\n",
       " 0.6399056030718552,\n",
       " 0.8534090081159386,\n",
       " 0.6782726169857426,\n",
       " 0.7726206740988575,\n",
       " 0.7806506699486575,\n",
       " 0.7754441050237,\n",
       " 0.8156598398627409,\n",
       " 0.7106540432473287,\n",
       " 0.522489280542544,\n",
       " 0.8590053449165075,\n",
       " 0.6438164068892198,\n",
       " 0.8965819777718054,\n",
       " 0.6706954930033,\n",
       " 0.6783998765932077,\n",
       " 0.7021661672819852,\n",
       " 0.8327592836681552,\n",
       " 0.6168999601072492,\n",
       " 0.7176317848383338,\n",
       " 0.7868324040757321,\n",
       " 0.5300583629704414,\n",
       " 0.7287319919785055,\n",
       " 0.7780591077206883,\n",
       " 0.38884862591823893,\n",
       " 0.5732262775933508,\n",
       " 0.8718308872920847,\n",
       " 0.9726317391536035,\n",
       " 0.7637870643383265,\n",
       " 0.48269741792858045,\n",
       " 0.8056970053653876,\n",
       " 0.46435040896405877,\n",
       " 0.43746500371448116,\n",
       " 0.6188881225016368,\n",
       " 0.6014493541490198,\n",
       " 0.7724692733655316,\n",
       " 0.8317319641574148,\n",
       " 0.7409745416945932,\n",
       " 0.5499884134694263,\n",
       " 0.7798463217036713,\n",
       " 0.8037439885578106,\n",
       " 0.7574342617743258,\n",
       " 0.9929959786171867,\n",
       " 0.36852803132574774,\n",
       " 0.7920483989712275,\n",
       " 0.7999989998111718,\n",
       " 0.8054356276593857,\n",
       " 0.42101424860134173,\n",
       " 0.8403612962294063,\n",
       " 0.6739217557464814,\n",
       " 0.7270575370661927,\n",
       " 0.7370204613144268,\n",
       " 0.7362001191770335,\n",
       " 0.479490318087267,\n",
       " 0.8910886343033781,\n",
       " 0.8038507327318787,\n",
       " 0.7833338309341163,\n",
       " 0.9359894740523068,\n",
       " 0.46958949569595926,\n",
       " 0.7455912618114532,\n",
       " 0.6624425513822606,\n",
       " 0.7833338309341163,\n",
       " 0.8535721693935943,\n",
       " 0.7327290893289583,\n",
       " 0.8512816142739702,\n",
       " 0.8491202402352056,\n",
       " 0.8962891009926346,\n",
       " 0.741193286656795,\n",
       " 0.9235710007217038,\n",
       " 0.7856072116123677,\n",
       " 0.8519326509117746,\n",
       " 0.712952781226549,\n",
       " 0.8501829332355673,\n",
       " 0.8381435622069796,\n",
       " 0.861418081189905,\n",
       " 0.579991040362287,\n",
       " 0.7977051670692092,\n",
       " 0.8889063710476168,\n",
       " 0.6733432429200895,\n",
       " 0.6545135563581006,\n",
       " 0.6089385315532422,\n",
       " 0.748186644826272,\n",
       " 0.7907038961038022,\n",
       " 0.8677439277092046,\n",
       " 0.47052896720309734,\n",
       " 0.7911148318981386,\n",
       " 0.8262362749161901,\n",
       " 0.5513087261721895,\n",
       " 0.8563032300659089,\n",
       " 0.5620551921487229,\n",
       " 0.771122201198399,\n",
       " 0.6847436533820918,\n",
       " 0.421429765381194,\n",
       " 0.8565331853156052,\n",
       " 0.5472200000743913,\n",
       " 0.6705139520038277,\n",
       " 0.7777691069670176,\n",
       " 0.786035429378742,\n",
       " 0.7355336743374704,\n",
       " 0.7724140320098396,\n",
       " 0.7356731791325114,\n",
       " 0.7909312846039899,\n",
       " 0.7274521350142172,\n",
       " 0.7765363287902238,\n",
       " 0.803119537583701,\n",
       " 0.7086330562793048,\n",
       " 0.9030119318307482,\n",
       " 0.8999318407463431,\n",
       " 0.9104022725446134,\n",
       " 0.5085233526040759,\n",
       " 0.8665667595325023,\n",
       " 0.9769170256734963,\n",
       " 0.8548631926966896,\n",
       " 0.9235498567799695,\n",
       " 0.9778032599366091,\n",
       " 0.786035429378742,\n",
       " 0.8711978508151658,\n",
       " 0.7743605514302203,\n",
       " 0.4689198456807975,\n",
       " 0.7404165142937921,\n",
       " 0.9298845089944994,\n",
       " 0.70257558352063,\n",
       " 0.6038595118540566,\n",
       " 0.8704785604931987,\n",
       " 0.6768840737536048,\n",
       " 0.7743605514302203,\n",
       " 0.9596152245505264,\n",
       " 0.8785578428385259,\n",
       " 0.8662182050804845,\n",
       " 0.9022383008739641,\n",
       " 0.8834176674018307,\n",
       " 0.8834176674018307,\n",
       " 0.8834176674018307,\n",
       " 0.7743605514302203,\n",
       " 0.7743605514302203,\n",
       " 0.7097543389234121,\n",
       " 0.6069974973416863,\n",
       " 0.6663842357299593,\n",
       " 0.711455578666564,\n",
       " 0.9837357236617945,\n",
       " 0.5096768266593729,\n",
       " 0.711455578666564,\n",
       " 0.9291350670297709,\n",
       " 0.7017718485773259,\n",
       " 0.5229617070288209,\n",
       " 0.7283391832998447,\n",
       " 0.7751111390919709,\n",
       " 0.6107953312079317,\n",
       " 0.9233923555975607,\n",
       " 0.6444516780368893,\n",
       " 0.960816451605775,\n",
       " 0.9343614893093933,\n",
       " 0.9653385542016034,\n",
       " 0.8030341535425227,\n",
       " 0.9466924642153463,\n",
       " 0.7536445405162695,\n",
       " 0.6630784801747411,\n",
       " 0.876235801824572,\n",
       " 0.6100838479249723,\n",
       " 0.7304299239460041,\n",
       " 0.7014203308226585,\n",
       " 0.7521418015907722,\n",
       " 0.8607860986822248,\n",
       " 0.7911759777556101,\n",
       " 0.893881606264809,\n",
       " 0.7817486264611475,\n",
       " 0.48850934881124625,\n",
       " 0.7750593210289518,\n",
       " 0.7727628689782877,\n",
       " 0.625766111031794,\n",
       " 0.7255268822880315,\n",
       " 0.788825493532118,\n",
       " 0.6171308667308051,\n",
       " 0.6868305544779056,\n",
       " 0.5053764831169932,\n",
       " 0.7372080501443623,\n",
       " 0.6492089521406803,\n",
       " 0.6754265482538737,\n",
       " 0.7333629969925428,\n",
       " 0.9617846059998952,\n",
       " 0.8619916285096899,\n",
       " 0.7050603259580286,\n",
       " 0.8334301090988429,\n",
       " 0.681878791858507,\n",
       " 0.8786098901751888,\n",
       " 0.666661774128131,\n",
       " 0.7384250788568838,\n",
       " 0.8042216542560884,\n",
       " 0.5978406750724223,\n",
       " 0.8463495846092179,\n",
       " 0.7724610317922539,\n",
       " 0.6477653822365634,\n",
       " 0.9778032599366091,\n",
       " 0.6496414900762648,\n",
       " 0.7456961773891518,\n",
       " 0.5383761191959432,\n",
       " 0.839449992534637,\n",
       " 0.8269544816827585,\n",
       " 0.5902834042517648,\n",
       " 0.5521894749511325,\n",
       " 0.6033592081496335,\n",
       " 0.5637217210170384,\n",
       " 0.8124331387167456,\n",
       " 0.7816457963478901,\n",
       " 0.915469463877123,\n",
       " 0.8741454005472907,\n",
       " 0.8383065482725458,\n",
       " 0.8587474777393448,\n",
       " 0.7726206740988575,\n",
       " 0.8356442334233407,\n",
       " 0.7489363750244906,\n",
       " 0.741193286656795,\n",
       " 0.8960454136414303,\n",
       " 0.7085201376116596,\n",
       " 0.4823669389199724,\n",
       " 0.7760565187670688,\n",
       " 0.7988646812919938,\n",
       " 0.7536445405162695,\n",
       " 0.5969432394893883,\n",
       " 0.729716693964126,\n",
       " 0.36023564384225054,\n",
       " 0.5199250959963183,\n",
       " 0.6937186499561765,\n",
       " 0.6218190453250159,\n",
       " 0.5733753693967836,\n",
       " 0.9306526012978772,\n",
       " 0.6699523003729683,\n",
       " 0.6919788552461963,\n",
       " 0.7726206740988575,\n",
       " 0.7570155173246734,\n",
       " 0.7245916694538765,\n",
       " 0.7002543454809127,\n",
       " 0.7384515484765274,\n",
       " 0.6465182897313274,\n",
       " 0.6678986124716951,\n",
       " 0.8140556475471966,\n",
       " 0.5650964949512445,\n",
       " 0.7942808773460903,\n",
       " 0.8006860706544636,\n",
       " 0.859144316156942,\n",
       " 0.7552504036781784,\n",
       " 0.5461916639080185,\n",
       " 0.7571027153292544,\n",
       " 0.6597672506019502,\n",
       " 0.7482514834310418,\n",
       " 0.6879843256720584,\n",
       " 0.6009471463273927,\n",
       " 0.7653709587451585,\n",
       " 0.7781708735662509,\n",
       " 0.5812697258881273,\n",
       " 0.8005475746819534,\n",
       " 0.6688450093861746,\n",
       " 0.8154126771106394,\n",
       " 0.7528807497277916,\n",
       " 0.7743605514302203,\n",
       " 0.7330465827146946,\n",
       " 0.8427459442705126,\n",
       " 0.7086330562793048,\n",
       " 0.7728472096613663,\n",
       " 0.9073042408782738,\n",
       " 0.5368074835969886,\n",
       " 0.6536472056051855,\n",
       " 0.9116975183432499,\n",
       " 0.7673023095135784,\n",
       " 0.42314487263754763,\n",
       " 0.8320344853209435,\n",
       " 0.786035429378742,\n",
       " 0.8715363296976241,\n",
       " 0.768736102247887,\n",
       " 0.786035429378742,\n",
       " 0.5772184485699711,\n",
       " 0.9222174241155204,\n",
       " 0.7974460729055175,\n",
       " 0.717454205135323,\n",
       " 0.9009805814463193,\n",
       " 0.9700526061902245,\n",
       " 0.6578914302512581,\n",
       " 0.7246395344215708,\n",
       " 0.9514471018462225,\n",
       " 0.5488987664569138,\n",
       " 0.7808071902785207,\n",
       " 0.7743605514302203,\n",
       " 0.5091203844199284,\n",
       " 0.48107922556346927,\n",
       " 0.804758231430689,\n",
       " 0.6230438012183285,\n",
       " 0.5780310851190166,\n",
       " 0.8392078168953261,\n",
       " 0.7194238326568436,\n",
       " 0.7942808773460903,\n",
       " 0.8598067541421622,\n",
       " 0.6335710948115164,\n",
       " 0.7520983819484197,\n",
       " 0.5312765584944572,\n",
       " 0.7713215895475554,\n",
       " 0.6325646717223677,\n",
       " 0.9164555218320495,\n",
       " 0.9030248797259337,\n",
       " 0.9315689821366991,\n",
       " 0.4807872410571776,\n",
       " 0.8965198853972336,\n",
       " 0.9683976644579847,\n",
       " 0.76437867147508,\n",
       " 0.6402435543766603,\n",
       " 0.7315399553438319,\n",
       " 0.9959290382571706,\n",
       " 0.784472891662541,\n",
       " 0.6813216779015269,\n",
       " 0.786035429378742,\n",
       " 0.870960057823381,\n",
       " 0.6961523769721738,\n",
       " 0.9288475003463073,\n",
       " 0.6260864720325485,\n",
       " 0.8094186232957593,\n",
       " 0.609944806310278,\n",
       " 0.898701142720047,\n",
       " 0.4758107975339032,\n",
       " 0.7403145973355992,\n",
       " 0.7158523620340754,\n",
       " 0.8922123746505742,\n",
       " 0.47672444218146537,\n",
       " 0.7514333054990722,\n",
       " 0.45359580283129425,\n",
       " 0.6606829303753377,\n",
       " 0.7683449263384288,\n",
       " 0.9225223351651705,\n",
       " 0.9459664738533812,\n",
       " 0.48930881766170026,\n",
       " 0.7445001834099086,\n",
       " 0.679673642807594,\n",
       " 0.727353303120872,\n",
       " 0.807478915878246,\n",
       " 0.9756128582829049,\n",
       " 0.6247230005489706,\n",
       " 0.8316286866754395,\n",
       " 0.9367173590918453,\n",
       " 0.8133833267866483,\n",
       " 0.7721672541177808,\n",
       " 0.8466492647706251,\n",
       " 0.8990780137130777,\n",
       " 0.7726206740988575,\n",
       " 0.8942151560417294,\n",
       " 0.6355682120319596,\n",
       " 0.7271658752820519,\n",
       " 0.8010766658965012,\n",
       " 0.6355682120319596,\n",
       " 0.7786179411869575,\n",
       " 0.7490572225346291,\n",
       " 0.8653595582563791,\n",
       " 0.8922852771274759,\n",
       " 0.8647039083382602,\n",
       " 0.8431624425550961,\n",
       " 0.7919175317473605,\n",
       " 0.9268178125457116,\n",
       " 0.6491872506482772,\n",
       " 0.8532834771808545,\n",
       " 0.6578921032569258,\n",
       " 0.8789279629827051,\n",
       " 0.7195018322374646,\n",
       " 0.6734312069224087,\n",
       " 0.7227251536360467,\n",
       " 0.7924714384570758,\n",
       " 0.7381732085738129,\n",
       " 0.8631729532636254,\n",
       " 0.8713707716926151,\n",
       " 0.7375716602639328,\n",
       " 0.9293827337320401,\n",
       " 0.8954246916727979,\n",
       " 0.7790841408792303,\n",
       " 0.7919175317473605,\n",
       " 0.7867469764124826,\n",
       " 0.7726206740988575,\n",
       " 0.6624635764882818,\n",
       " 0.8238132486021391,\n",
       " 0.7550170502510419,\n",
       " 0.4798693125828924,\n",
       " 0.560685632967685,\n",
       " 0.8801700170358435,\n",
       " 0.5022055326079569,\n",
       " 0.5978432459906589,\n",
       " 0.9074769473838538,\n",
       " 0.583913268517434,\n",
       " 0.8658927769989612,\n",
       " 0.8517255589934862,\n",
       " 0.6275549926137615,\n",
       " 0.6991628654903266,\n",
       " 0.8094057929708947,\n",
       " 0.7997963787796811,\n",
       " 0.8437668270868179,\n",
       " 0.6343924481871716,\n",
       " 0.8970122522478999,\n",
       " 0.9303087402476319,\n",
       " 0.8639616871862458,\n",
       " 0.7847524781835635,\n",
       " 0.6275549926137615,\n",
       " 0.7837911598744944,\n",
       " 0.7086330562793048,\n",
       " 0.49763783107777243,\n",
       " 0.6537783826461034,\n",
       " 0.8299897904058192,\n",
       " 0.6983039581131121,\n",
       " 0.7733108630831314,\n",
       " 0.7800582483069064,\n",
       " 0.8054356276593857,\n",
       " 0.7770794438297063,\n",
       " 0.7705659419748058,\n",
       " 0.8350779226570941,\n",
       " 0.8338942299864002,\n",
       " 0.9078512751258297,\n",
       " 0.8644874117506306,\n",
       " 0.8221506171433642,\n",
       " 0.844737472154956,\n",
       " 0.9251363724291876,\n",
       " 0.9697028585386142,\n",
       " 0.6176208646567115,\n",
       " 0.844737472154956,\n",
       " 0.6884229139770864,\n",
       " 0.8524086995956225,\n",
       " 0.8866088269332668,\n",
       " 0.8524086995956225,\n",
       " 0.854629430343337,\n",
       " 0.8524086995956225,\n",
       " 0.8524086995956225,\n",
       " 0.8196861763252323,\n",
       " 0.786035429378742,\n",
       " 0.8201811990758677,\n",
       " 0.5832224859854571,\n",
       " 0.7771772331799502,\n",
       " 0.7218945647049347,\n",
       " 0.5313273926702025,\n",
       " 0.8734596571247285,\n",
       " 0.8676352845415023,\n",
       " 0.7644966796312015,\n",
       " 0.7878713145899598,\n",
       " 0.6977273800672379,\n",
       " 0.8532980593220262,\n",
       " 0.8716967887250766,\n",
       " 0.7487478026151374,\n",
       " 0.9124280105254448,\n",
       " 0.7508275720338835,\n",
       " 0.819034366299717,\n",
       " 0.6313355947729816,\n",
       " 0.5128538459390116,\n",
       " 0.9855070575307223,\n",
       " 0.5248597213959348,\n",
       " 0.717008999733457,\n",
       " 0.7885989746668872,\n",
       " 0.7345512580032543,\n",
       " 0.8756766856033146,\n",
       " 0.8549652376845577,\n",
       " 0.9460378315383821,\n",
       " 0.4597218334082065,\n",
       " 0.9282071099240816,\n",
       " 0.5609576359000321,\n",
       " 0.6924562658728789,\n",
       " 0.7899922732013114,\n",
       " 0.6828896073220756,\n",
       " 0.8818278353046294,\n",
       " 0.6048585158808747,\n",
       " 0.8542212899192634,\n",
       " 0.8249102375492365,\n",
       " 0.8524086995956225,\n",
       " 0.9017049824256702,\n",
       " 0.7548229160011541,\n",
       " 0.8859092204273267,\n",
       " 0.6022893965625756,\n",
       " 0.5410083512857006,\n",
       " 0.8524086995956225,\n",
       " 0.6612146212985249,\n",
       " 0.854629430343337,\n",
       " 0.8524086995956225,\n",
       " 0.8524086995956225,\n",
       " 0.8524086995956225,\n",
       " 0.8026937411549989,\n",
       " 0.8628946268343847,\n",
       " 0.9697434968731703,\n",
       " 0.6605821748002204,\n",
       " 0.602728323545998,\n",
       " 0.7860353663438797,\n",
       " 0.7571703899352025,\n",
       " 0.631999734965362,\n",
       " 0.5862483183881179,\n",
       " 0.9158038043502189,\n",
       " 0.9065328472676418,\n",
       " 0.5551351293289668,\n",
       " 0.8199222047254737,\n",
       " 0.9095062298189535,\n",
       " 0.7804690475707063,\n",
       " 0.4789013286872207,\n",
       " 0.8675353331219269,\n",
       " 0.35109292605090886,\n",
       " 0.8346320103961907,\n",
       " 0.46866590471454717,\n",
       " 0.4984481739829915,\n",
       " 0.7536445405162695,\n",
       " 0.753368881772858,\n",
       " 0.7761263266459388,\n",
       " 0.9100187509918738,\n",
       " 0.9883258404341647,\n",
       " 0.7726206740988575,\n",
       " 0.9509763357152232,\n",
       " 0.7381061587291529,\n",
       " 0.560163338464846,\n",
       " 0.8436732970653434,\n",
       " 0.9406058930731738,\n",
       " 0.47069162884894605,\n",
       " 0.8054741676391486,\n",
       " 0.6748892557844871,\n",
       " 0.9986101287956411,\n",
       " 0.9536829365080063,\n",
       " 0.6780519518177834,\n",
       " 0.6672871030616234,\n",
       " 0.7573419519513634,\n",
       " 0.9165051362444918,\n",
       " 0.8111438611529487,\n",
       " 0.8111556737363179,\n",
       " 0.9177918758614205,\n",
       " 0.8456254922096131,\n",
       " 0.9587913893444391,\n",
       " 0.887173858875615,\n",
       " 0.874370296301378,\n",
       " 0.9849460243817416,\n",
       " 0.9901349708094537,\n",
       " 0.7726206740988575,\n",
       " 0.6921612452449999,\n",
       " 0.7726206740988575,\n",
       " 0.9979993547134858,\n",
       " 0.5559792170398025,\n",
       " 0.7024227205976448,\n",
       " 0.6051216307047618,\n",
       " 0.7367181898049805,\n",
       " 0.7430942107186195,\n",
       " 0.6579432337382946,\n",
       " 0.7015388568491223,\n",
       " 0.8234418785426287,\n",
       " 0.9103201368748914,\n",
       " 0.7537135697420275,\n",
       " 0.9135036825896753,\n",
       " 0.41354720422489966,\n",
       " 0.744258510764763,\n",
       " 0.7850075491191777,\n",
       " 0.9037254041937838,\n",
       " 0.633337800501997,\n",
       " 0.8376743930973711,\n",
       " 0.7927006207390956,\n",
       " 0.8189341039330643,\n",
       " 0.7180719297450431,\n",
       " 0.853151183757827,\n",
       " 0.7156389336214889,\n",
       " 0.8616922225941728,\n",
       " 0.4823669389199724,\n",
       " 0.8011086469547425,\n",
       " 0.8196861763252323,\n",
       " 0.9492946936429543,\n",
       " 0.7726206740988575,\n",
       " 0.8137976050686966,\n",
       " 0.670285336198553,\n",
       " 0.8081756142109844,\n",
       " 0.7328364619441611,\n",
       " 0.9941574915464562,\n",
       " 0.47773494980780046,\n",
       " 0.7536445405162695,\n",
       " 0.7586236635076263,\n",
       " 0.5365345616833366,\n",
       " 0.9525445816196897,\n",
       " 0.7020436720407965,\n",
       " 0.7726206740988575,\n",
       " 0.7726206740988575,\n",
       " 0.7403145973355992,\n",
       " 0.7330615572377666,\n",
       " 0.4628110497716095,\n",
       " 0.7109685386000443,\n",
       " 0.6699523003729683,\n",
       " 0.8145902068784099,\n",
       " 0.919224406180931,\n",
       " 0.5189127031050501,\n",
       " 0.543434074623142,\n",
       " 0.8213318985041116,\n",
       " 0.7726206740988575,\n",
       " 0.7268033819489386,\n",
       " 0.8024189955001486,\n",
       " 0.6915797949487941,\n",
       " 0.625447275117185,\n",
       " 0.6960614152314533,\n",
       " 0.609944806310278,\n",
       " 0.5266278782690454,\n",
       " 0.5719527339873072,\n",
       " 0.7726206740988575,\n",
       " 0.6528799314566505,\n",
       " 0.6541790617522816,\n",
       " 0.8480578108775227,\n",
       " 0.8767114320126583,\n",
       " 0.46080800640485736,\n",
       " 0.975618521088212,\n",
       " 0.6446110754211315,\n",
       " 0.7428370679827765,\n",
       " 0.809979151207929,\n",
       " 0.7294236686525267,\n",
       " 0.8559253466161705,\n",
       " 0.4517658437203647,\n",
       " 0.6212840455918239,\n",
       " 0.7535722146653178,\n",
       " 0.9234048964010552,\n",
       " 0.4606178680083434,\n",
       " 0.9449431598143725,\n",
       " 0.8658927769989612,\n",
       " 0.7256104196203581,\n",
       " 0.7726206740988575,\n",
       " 0.591901435623774,\n",
       " 0.7109685386000443,\n",
       " 0.9644539485079051,\n",
       " 0.7374949343206473,\n",
       " 0.8792953988551476,\n",
       " 0.712145521221829,\n",
       " 0.8524086995956225,\n",
       " 0.43610543706613,\n",
       " 0.9735347449927401,\n",
       " 0.8524086995956225,\n",
       " 0.854629430343337,\n",
       " 0.8524086995956225,\n",
       " 0.8524086995956225,\n",
       " 0.7994606143483871,\n",
       " 0.7743605514302203,\n",
       " 0.7827540845883743,\n",
       " 0.7348205080947194,\n",
       " 0.910805838641059,\n",
       " 0.9030528876614141,\n",
       " 0.9816310876758907,\n",
       " 0.8242715733356849,\n",
       " 0.742117539673616,\n",
       " 0.9560543037889421,\n",
       " 0.8341997971943643,\n",
       " 0.9389751532361611,\n",
       " 0.9176256016951705,\n",
       " 0.6895150247488282,\n",
       " 0.8541110408253826,\n",
       " 0.7229768296008589,\n",
       " 0.9228129074165554,\n",
       " 0.8791676095867342,\n",
       " 0.9392520417797405,\n",
       " 0.6756491379797409,\n",
       " 0.9075858219418348,\n",
       " 0.7997184366328641,\n",
       " 0.6885718432256354,\n",
       " 0.8406289693984059,\n",
       " 0.4714469474492491,\n",
       " 0.9493442061828882,\n",
       " 0.9726368848633362,\n",
       " 0.8126876817130797,\n",
       " 0.8795110279936982,\n",
       " 0.6525412066440022,\n",
       " 0.7170496267170607,\n",
       " 0.8834018150794577,\n",
       " 0.7393790250876312,\n",
       " 0.7074070457126976,\n",
       " 0.6631258590218071,\n",
       " 0.7921773226394955,\n",
       " 0.8148426584948735,\n",
       " 0.8627752237513877,\n",
       " 0.8976690346175987,\n",
       " 0.8873341464783658,\n",
       " 0.8484896671500782,\n",
       " 0.4899858552679904,\n",
       " 0.8406204106039329,\n",
       " 0.9498752186478253,\n",
       " 0.8496311437556336,\n",
       " 0.8399234884794731,\n",
       " 0.828971136538111,\n",
       " 0.6286465772168699,\n",
       " 0.6531986450422883,\n",
       " 0.9253929044614284,\n",
       " 0.6336319709872128,\n",
       " 0.43545830385725937,\n",
       " 0.7677906877409102,\n",
       " 0.7346774120724615,\n",
       " 0.9822412295738199,\n",
       " 0.7329116020076749,\n",
       " 0.650843714546753,\n",
       " 0.889201262842594,\n",
       " 0.7797472495303106,\n",
       " 0.65366204523039,\n",
       " 0.8560196808394704,\n",
       " 0.8464527870334942,\n",
       " 0.7860354031135305,\n",
       " 0.9218197931587861,\n",
       " 0.6868639847826943,\n",
       " 0.7188126169367403,\n",
       " 0.6283298821665219,\n",
       " 0.810470224514857,\n",
       " 0.7950035881470613,\n",
       " 0.7611689560788338,\n",
       " 0.912528620900748,\n",
       " 0.7295241520398411,\n",
       " 0.8413954306885857,\n",
       " 0.9491841770694253,\n",
       " 0.7479959663639841,\n",
       " 0.8410935194065088,\n",
       " 0.9525753180488811,\n",
       " 0.5506027109984537,\n",
       " 0.46741915305787746,\n",
       " 0.7111704653578375,\n",
       " 0.8277232828207888,\n",
       " 0.9373241082523492,\n",
       " 0.6569246667207128,\n",
       " 0.8795944552186168,\n",
       " 0.8354114076595255,\n",
       " 0.5047812732626922,\n",
       " 0.8079821003232921,\n",
       " 0.9367611202940385,\n",
       " 0.7687161490477543,\n",
       " 0.7661450705244545,\n",
       " 0.9911440350677764,\n",
       " 0.8823210621250259,\n",
       " 0.8212166785657914,\n",
       " 0.6982587074427613,\n",
       " 0.954892427827577,\n",
       " 0.7439115438993898,\n",
       " 0.964349424097938,\n",
       " 0.8422073605524932,\n",
       " 0.7647350259101144,\n",
       " 0.9049087652080975,\n",
       " 0.7209896952161607,\n",
       " 0.6984950354751854,\n",
       " 0.6063121986699039,\n",
       " 0.8707423546694513,\n",
       " 0.9100841199847355,\n",
       " 0.8719317985247103,\n",
       " 0.5179508380329692,\n",
       " 0.955312715102211,\n",
       " 0.8505696772745793,\n",
       " 0.8361886404993767,\n",
       " 0.8366409289548564,\n",
       " 0.5612168935304295,\n",
       " 0.6476704437072793,\n",
       " 0.5526990930562469,\n",
       " 0.7379776121216896,\n",
       " 0.6682402946116323,\n",
       " 0.7437238913011432,\n",
       " 0.660610850740906,\n",
       " 0.5054332196119055,\n",
       " 0.9005155077048318,\n",
       " 0.9053655394537785,\n",
       " 0.4758088449950371,\n",
       " 0.5369226175326781,\n",
       " 0.8325356115001354,\n",
       " 0.3990552019584978,\n",
       " 0.934881745511885,\n",
       " 0.9546148562104676,\n",
       " 0.8007385659998041,\n",
       " 0.40301078351263486,\n",
       " 0.7846026751284627,\n",
       " 0.6827542297508536,\n",
       " 0.7330884537331966,\n",
       " 0.7561650989470882,\n",
       " 0.837747830894456,\n",
       " 0.6534301159153401,\n",
       " 0.8969563854498483,\n",
       " 0.428337705227453,\n",
       " 0.7120302059128293,\n",
       " 0.9503907174784372,\n",
       " 0.7266918880716029,\n",
       " 0.758024278828049,\n",
       " 0.9599203795261801,\n",
       " 0.6986872661180936,\n",
       " 0.903862075063763,\n",
       " 0.8381633609575835,\n",
       " 0.914945102037593,\n",
       " 0.5385411170731327,\n",
       " 0.7036031199041076,\n",
       " 0.3769650715476313,\n",
       " 0.6347921377644773,\n",
       " 0.9611725096984881,\n",
       " 0.576292740023054,\n",
       " 0.9054171726206368,\n",
       " 0.7962234928119873,\n",
       " 0.9778032599366091,\n",
       " 0.9312027512826291,\n",
       " 0.8884426737306014,\n",
       " 0.5055734252041016,\n",
       " 0.9239333238844312,\n",
       " 0.6409484898084217,\n",
       " 0.8635138376285774,\n",
       " 0.6979886462356213,\n",
       " 0.9401554467769366,\n",
       " 0.8557517314769217,\n",
       " 0.6119971817157422,\n",
       " 0.7883494262785584,\n",
       " 0.7324718165132598,\n",
       " 0.7086330562793048,\n",
       " 0.7955389991058733,\n",
       " 0.7765363287902238,\n",
       " 0.9450357680679925,\n",
       " 0.9893201283632712,\n",
       " 0.741068942055927,\n",
       " 0.6096299094170544,\n",
       " 0.4093276800630753,\n",
       " 0.9098727784608962,\n",
       " 0.650542110370453,\n",
       " 0.6522907341600775,\n",
       " 0.8496261133001516,\n",
       " 0.9999062306562603,\n",
       " 0.7528186003390712,\n",
       " 0.4286748681308996,\n",
       " 0.7340999256396832,\n",
       " 0.6011972764178234,\n",
       " 0.8502863807828502,\n",
       " 0.7447215109665929,\n",
       " 0.6149440945039484,\n",
       " 0.7286793809746845,\n",
       " 0.5776900755422869,\n",
       " 0.9205509126922409,\n",
       " 0.916953647478619,\n",
       " 0.7651227993835955,\n",
       " 0.7924417728349785,\n",
       " 0.8860631415250658,\n",
       " 0.7285837011194265,\n",
       " 0.6512719623960777,\n",
       " 0.4648634256291424,\n",
       " 0.6958499538893398,\n",
       " 0.9686866991913794,\n",
       " 0.6908208550827092,\n",
       " 0.5267536349743361,\n",
       " 0.713270848359413,\n",
       " 0.609944806310278,\n",
       " 0.7618340182474367,\n",
       " 0.48405375535925116,\n",
       " 0.6355682120319596,\n",
       " 0.6990485691323792,\n",
       " 0.9193073822671851,\n",
       " 0.912184012922963,\n",
       " 0.7806415392803456,\n",
       " 0.5885006006232193,\n",
       " 0.6168999601072492,\n",
       " 0.9306447151761764,\n",
       " 0.7422765327590176,\n",
       " 0.4689198456807975,\n",
       " 0.4689198456807975,\n",
       " 0.4689198456807975,\n",
       " 0.4689198456807975,\n",
       " 0.9033214221639938,\n",
       " 0.7865721925663429,\n",
       " 0.8855960825219298,\n",
       " 0.5839626617409356,\n",
       " 0.6871857243638813,\n",
       " 0.8579980431135246,\n",
       " 0.746358967220202,\n",
       " 0.9229267316658171,\n",
       " 0.7463191423936664,\n",
       " 0.8232277331856513,\n",
       " 0.693348398332755,\n",
       " 0.6759356431467842,\n",
       " 0.8183144102825094,\n",
       " 0.805070165913721,\n",
       " 0.49930496536897423,\n",
       " 0.46958949569595926,\n",
       " 0.8939674753066756,\n",
       " 0.7086330562793048,\n",
       " 0.9033214221639938,\n",
       " 0.840687614787023,\n",
       " 0.7150582163215684,\n",
       " 0.9546148562104676,\n",
       " 0.48918279393511777,\n",
       " 0.8692485361169312,\n",
       " 0.8524086995956225,\n",
       " 0.8524086995956225,\n",
       " 0.8524086995956225,\n",
       " 0.854629430343337,\n",
       " 0.8524086995956225,\n",
       " 0.8642383705438952,\n",
       " 0.9344444180752346,\n",
       " 0.8088590350965121,\n",
       " 0.7124487007193814,\n",
       " 0.7640020406728136,\n",
       " 0.6749411186776013,\n",
       " 0.6899472998469639]"
      ]
     },
     "execution_count": 99,
     "metadata": {},
     "output_type": "execute_result"
    }
   ],
   "source": [
    "sentiment"
   ]
  },
  {
   "cell_type": "code",
   "execution_count": 100,
   "metadata": {
    "collapsed": true
   },
   "outputs": [],
   "source": [
    "sent_data = pd.DataFrame(sentiment)"
   ]
  },
  {
   "cell_type": "code",
   "execution_count": 101,
   "metadata": {
    "collapsed": false
   },
   "outputs": [
    {
     "data": {
      "text/html": [
       "<div>\n",
       "<table border=\"1\" class=\"dataframe\">\n",
       "  <thead>\n",
       "    <tr style=\"text-align: right;\">\n",
       "      <th></th>\n",
       "      <th>0</th>\n",
       "    </tr>\n",
       "  </thead>\n",
       "  <tbody>\n",
       "    <tr>\n",
       "      <th>0</th>\n",
       "      <td>0.852409</td>\n",
       "    </tr>\n",
       "    <tr>\n",
       "      <th>1</th>\n",
       "      <td>0.576838</td>\n",
       "    </tr>\n",
       "    <tr>\n",
       "      <th>2</th>\n",
       "      <td>0.854629</td>\n",
       "    </tr>\n",
       "    <tr>\n",
       "      <th>3</th>\n",
       "      <td>0.852409</td>\n",
       "    </tr>\n",
       "    <tr>\n",
       "      <th>4</th>\n",
       "      <td>0.852409</td>\n",
       "    </tr>\n",
       "  </tbody>\n",
       "</table>\n",
       "</div>"
      ],
      "text/plain": [
       "          0\n",
       "0  0.852409\n",
       "1  0.576838\n",
       "2  0.854629\n",
       "3  0.852409\n",
       "4  0.852409"
      ]
     },
     "execution_count": 101,
     "metadata": {},
     "output_type": "execute_result"
    }
   ],
   "source": [
    "sent_data.head()"
   ]
  },
  {
   "cell_type": "code",
   "execution_count": 102,
   "metadata": {
    "collapsed": true
   },
   "outputs": [],
   "source": [
    "sent_data.columns = ['polarity_confidence']"
   ]
  },
  {
   "cell_type": "code",
   "execution_count": 96,
   "metadata": {
    "collapsed": false
   },
   "outputs": [
    {
     "data": {
      "text/plain": [
       "1    0.866\n",
       "0    0.134\n",
       "dtype: float64"
      ]
     },
     "execution_count": 96,
     "metadata": {},
     "output_type": "execute_result"
    }
   ],
   "source": [
    "sent_data.polarity.value_counts() / len(sent_data)"
   ]
  },
  {
   "cell_type": "code",
   "execution_count": 103,
   "metadata": {
    "collapsed": false
   },
   "outputs": [],
   "source": [
    "sent_data['polarity'] = sent_data.polarity_confidence.apply(lambda x: 1 if x > 0.6 else 0)"
   ]
  },
  {
   "cell_type": "code",
   "execution_count": 106,
   "metadata": {
    "collapsed": false
   },
   "outputs": [],
   "source": [
    "sent_data.to_csv(\"Sentiment_output\",encoding='utf-8')"
   ]
  },
  {
   "cell_type": "code",
   "execution_count": null,
   "metadata": {
    "collapsed": true
   },
   "outputs": [],
   "source": []
  }
 ],
 "metadata": {
  "kernelspec": {
   "display_name": "Python 2",
   "language": "python",
   "name": "python2"
  },
  "language_info": {
   "codemirror_mode": {
    "name": "ipython",
    "version": 2
   },
   "file_extension": ".py",
   "mimetype": "text/x-python",
   "name": "python",
   "nbconvert_exporter": "python",
   "pygments_lexer": "ipython2",
   "version": "2.7.11"
  }
 },
 "nbformat": 4,
 "nbformat_minor": 0
}
